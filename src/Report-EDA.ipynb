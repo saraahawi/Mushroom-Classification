{
 "cells": [
  {
   "cell_type": "markdown",
   "metadata": {},
   "source": [
    "# Data Munging\n"
   ]
  },
  {
   "cell_type": "code",
   "execution_count": null,
   "metadata": {},
   "outputs": [],
   "source": [
    "# Data Munging\n",
    "# Importing libraries \n",
    "import numpy as np \n",
    "import pandas as pd\n",
    "import janitor\n",
    "\n",
    "# !pip3 install pyjanitor # run this once\n",
    "\n",
    "import sklearn \n",
    "from sklearn.impute import KNNImputer\n",
    "from sklearn import preprocessing\n",
    "data = pd.read_csv('../data/mushrooms.csv')\n",
    "data.info() # We want to see the data types and how many null values do we have in the dataset.  \n",
    "data.columns # We want to clean column names automatically by replacing each - with _\n",
    "data = data.clean_names()\n",
    "data.columns # Check column names after automatic cleaning\n",
    "data.describe()\n",
    "# We want to see what different values each column contains\n",
    "# From here, we can see that the veil_type has one single value and therefore is redundant and not informative so we can proceed with dropping it \n",
    "data.columns.tolist()\n",
    "for col in data.columns.tolist(): \n",
    "    print(col,':  ',data[col].unique())\n",
    "data.drop('veil_type', axis = 1, inplace = True)\n",
    "# We can see that columns have multiple repetitive values (letters), even though they mean different things in each column. \n",
    "# This might cause some problems like duplications when we create dummy variables for these categorical values. \n",
    "\n",
    "# We can also see that the column 'stalk_root' has a non-alphanumeric value and it might need some munging. \n",
    "# According to the dataset's documentation, the value '?' in stalk_root means that they are missing or unknown stalk root data. \n",
    "# Let's see how many of these missing values we have to decide if it'd be okay to drop these rows. \n",
    "\n",
    "vals = data['stalk_root'].value_counts().index.values.tolist()\n",
    "\n",
    "NA_count = data['stalk_root'].value_counts().values\n",
    "\n",
    "NA_frac = data['stalk_root'].value_counts().to_list()\n",
    "NA_frac = [i/sum(NA_frac) for i in NA_frac]\n",
    "\n",
    "pd.DataFrame(zip(NA_count,NA_frac), columns=['Count','Fraction'], index= vals)\n",
    "\n",
    "# So, now we can see that if we drop the missing values in this column we're losing 30% of our data which accounts for about 2500 instances. \n",
    "# Dropping the rows is not the best solution in this case. \n",
    "# Therefore, we'll try to impute using KNN.\n",
    "# Before that, the categorical value must be numerically encoded/labelled from 0 to n. \n",
    "\n",
    "\n",
    "# ['population', 'cap_shape', 'stalk_shape', 'stalk_surface_above_ring', 'stalk_surface_below_ring', 'stalk_color_below_ring']\n",
    "# Let's see the order of values in this column\n",
    "data.stalk_root.unique()\n",
    "le = preprocessing.LabelEncoder()\n",
    "\n",
    "for i in data.columns.tolist():\n",
    "    data[i]= le.fit_transform(data[i])\n",
    "\n",
    "data\n",
    "# Order of values after encoding \n",
    "data['stalk_root'].unique()\n",
    "# But, for the models to impute the missing data, we should replace each 4 with a NaN. \n",
    "data.replace({'stalk_root': {0: np.nan}}).stalk_root.value_counts()\n",
    "imputer = KNNImputer(missing_values = np.nan, n_neighbors=5, weights = 'distance')\n",
    "imputer.fit_transform(data[['stalk_root']])\n",
    "data.stalk_root.value_counts()\n",
    "# We can see that KNNImputer didn't give us any useful results and we're again back on square 1. Therefore, we'll just drop the column. \n"
   ]
  },
  {
   "cell_type": "markdown",
   "metadata": {},
   "source": [
    "### <font color='green'>Sara-EDA</font> "
   ]
  },
  {
   "cell_type": "code",
   "execution_count": null,
   "metadata": {},
   "outputs": [],
   "source": [
    "# Habitat vs class\n",
    "\n",
    "cross_tab_prop = pd.crosstab(index=data['habitat'],\n",
    "                             columns=data['class'],\n",
    "                             normalize=\"index\")\n",
    "\n",
    "cross_tab_prop.plot(kind='bar', \n",
    "                    stacked=True, \n",
    "                    colormap='tab10', \n",
    "                    figsize=(10, 6))\n",
    "\n",
    "plt.legend(loc=\"lower left\", ncol=2)\n",
    "plt.xlabel(\"Habitat\")\n",
    "plt.ylabel(\"Proportion\")\n",
    "plt.title('Veil Color by the Class')\n",
    "\n",
    "\n",
    "\n",
    "for n, x in enumerate([*cross_tab_prop.index.values]):\n",
    "    for (proportion, y_loc) in zip(cross_tab_prop.loc[x],\n",
    "                                   cross_tab_prop.loc[x].cumsum()):\n",
    "                \n",
    "        plt.text(x=n - 0.17,\n",
    "                 y=y_loc,\n",
    "                 s=f'{np.round(proportion * 100, 1)}%', \n",
    "                 color=\"black\",\n",
    "                 fontsize=12,\n",
    "                 fontweight=\"bold\")\n",
    "\n",
    "plt.show() # last bar + ticks"
   ]
  },
  {
   "cell_type": "markdown",
   "metadata": {},
   "source": []
  },
  {
   "cell_type": "code",
   "execution_count": null,
   "metadata": {},
   "outputs": [],
   "source": [
    "# Population vs class \n",
    "\n",
    "cross_tab_prop = pd.crosstab(index=data['population'],\n",
    "                             columns=data['class'],\n",
    "                             normalize=\"index\")\n",
    "\n",
    "cross_tab_prop.plot(kind='bar', \n",
    "                    stacked=True, \n",
    "                    colormap='tab10', \n",
    "                    figsize=(10, 6))\n",
    "\n",
    "plt.legend(loc=\"lower left\", ncol=2)\n",
    "plt.xlabel(\"Population\")\n",
    "plt.ylabel(\"Proportion\")\n",
    "\n",
    "\n",
    "for n, x in enumerate([*cross_tab_prop.index.values]):\n",
    "    for (proportion, y_loc) in zip(cross_tab_prop.loc[x],\n",
    "                                   cross_tab_prop.loc[x].cumsum()):\n",
    "                \n",
    "        plt.text(x=n - 0.17,\n",
    "                 y=y_loc,\n",
    "                 s=f'{np.round(proportion * 100, 1)}%', \n",
    "                 color=\"black\",\n",
    "                 fontsize=12,\n",
    "                 fontweight=\"bold\")\n",
    "\n",
    "plt.show() # last bar + ticks"
   ]
  },
  {
   "cell_type": "markdown",
   "metadata": {},
   "source": []
  },
  {
   "cell_type": "code",
   "execution_count": null,
   "metadata": {},
   "outputs": [],
   "source": [
    "# Odor vs class\n",
    "\n",
    "cross_tab_prop = pd.crosstab(index=data['odor'],\n",
    "                             columns=data['class'],\n",
    "                             normalize=\"index\")\n",
    "\n",
    "cross_tab_prop.plot(kind='bar', \n",
    "                    stacked=True, \n",
    "                    colormap='tab10', \n",
    "                    figsize=(10, 6))\n",
    "\n",
    "plt.legend(loc=\"lower left\", ncol=2)\n",
    "plt.xlabel(\"Odor\")\n",
    "plt.ylabel(\"Proportion\")\n",
    "\n",
    "\n",
    "for n, x in enumerate([*cross_tab_prop.index.values]):\n",
    "    for (proportion, y_loc) in zip(cross_tab_prop.loc[x],\n",
    "                                   cross_tab_prop.loc[x].cumsum()):\n",
    "                \n",
    "        plt.text(x=n - 0.17,\n",
    "                 y=y_loc,\n",
    "                 s=f'{np.round(proportion * 100, 1)}%', \n",
    "                 color=\"black\",\n",
    "                 fontsize=12,\n",
    "                 fontweight=\"bold\")\n",
    "\n",
    "plt.show() # last bar + ticks"
   ]
  },
  {
   "cell_type": "markdown",
   "metadata": {},
   "source": []
  },
  {
   "cell_type": "code",
   "execution_count": null,
   "metadata": {},
   "outputs": [],
   "source": [
    "# Spore print color vs class\n",
    "\n",
    "cross_tab_prop = pd.crosstab(index=data['spore_print_color'],\n",
    "                             columns=data['class'],\n",
    "                             normalize=\"index\")\n",
    "\n",
    "cross_tab_prop.plot(kind='bar', \n",
    "                    stacked=True, \n",
    "                    colormap='tab10', \n",
    "                    figsize=(10, 6))\n",
    "\n",
    "plt.legend(loc=\"lower left\", ncol=2)\n",
    "plt.xlabel(\"Spore Print Color\")\n",
    "plt.ylabel(\"Proportion\")\n",
    "\n",
    "\n",
    "for n, x in enumerate([*cross_tab_prop.index.values]):\n",
    "    for (proportion, y_loc) in zip(cross_tab_prop.loc[x],\n",
    "                                   cross_tab_prop.loc[x].cumsum()):\n",
    "                \n",
    "        plt.text(x=n - 0.17,\n",
    "                 y=y_loc,\n",
    "                 s=f'{np.round(proportion * 100, 1)}%', \n",
    "                 color=\"black\",\n",
    "                 fontsize=12,\n",
    "                 fontweight=\"bold\")\n",
    "\n",
    "plt.show() # last bar + ticks"
   ]
  },
  {
   "cell_type": "markdown",
   "metadata": {},
   "source": []
  },
  {
   "cell_type": "code",
   "execution_count": null,
   "metadata": {},
   "outputs": [],
   "source": [
    "# Bruised vs class\n",
    "\n",
    "cross_tab_prop = pd.crosstab(index=data['bruises'],\n",
    "                             columns=data['class'],\n",
    "                             normalize=\"index\")\n",
    "\n",
    "cross_tab_prop.plot(kind='bar', \n",
    "                    stacked=True, \n",
    "                    colormap='tab10', \n",
    "                    figsize=(10, 6))\n",
    "\n",
    "plt.legend(loc=\"lower left\", ncol=2)\n",
    "plt.xlabel(\"Bruised\")\n",
    "plt.ylabel(\"Proportion\")\n",
    "\n",
    "\n",
    "for n, x in enumerate([*cross_tab_prop.index.values]):\n",
    "    for (proportion, y_loc) in zip(cross_tab_prop.loc[x],\n",
    "                                   cross_tab_prop.loc[x].cumsum()):\n",
    "                \n",
    "        plt.text(x=n - 0.17,\n",
    "                 y=y_loc,\n",
    "                 s=f'{np.round(proportion * 100, 1)}%', \n",
    "                 color=\"black\",\n",
    "                 fontsize=12,\n",
    "                 fontweight=\"bold\")\n",
    "\n",
    "plt.show() # last bar + ticks"
   ]
  },
  {
   "cell_type": "markdown",
   "metadata": {},
   "source": []
  },
  {
   "cell_type": "code",
   "execution_count": null,
   "metadata": {},
   "outputs": [],
   "source": [
    "# Stalk root vs habitat\n",
    "\n",
    "hm = data.groupby(['habitat','stalk_root'], as_index = False)[['class']].count()\n",
    "hm = hm.pivot('stalk_root', 'habitat', 'class')\n",
    "hm.fillna(0)\n",
    "ax = sns.heatmap(hm, cmap=\"YlGnBu\")"
   ]
  },
  {
   "cell_type": "markdown",
   "metadata": {},
   "source": []
  },
  {
   "cell_type": "code",
   "execution_count": null,
   "metadata": {},
   "outputs": [],
   "source": [
    "# Stalk shape vs habitat\n",
    "\n",
    "hm = data.groupby(['habitat','stalk_shape'], as_index = False)[['class']].count()\n",
    "hm = hm.pivot('stalk_shape','habitat','class')\n",
    "hm.fillna(0)\n",
    "ax = sns.heatmap(hm, cmap=\"YlGnBu\")"
   ]
  },
  {
   "cell_type": "markdown",
   "metadata": {},
   "source": []
  },
  {
   "cell_type": "code",
   "execution_count": null,
   "metadata": {},
   "outputs": [],
   "source": [
    "#Cap shape vs habitat \n",
    "\n",
    "hm = data.groupby(['habitat','cap_shape'], as_index = False)[['class']].count()\n",
    "hm = hm.pivot('cap_shape','habitat','class')\n",
    "hm.fillna(0)\n",
    "ax = sns.heatmap(hm, cmap=\"YlGnBu\")"
   ]
  },
  {
   "cell_type": "markdown",
   "metadata": {},
   "source": []
  },
  {
   "cell_type": "code",
   "execution_count": null,
   "metadata": {},
   "outputs": [],
   "source": [
    "# Cap surface vs habitat \n",
    "\n",
    "hm = data.groupby(['habitat','cap_surface'], as_index = False)[['class']].count()\n",
    "hm = hm.pivot('cap_surface','habitat','class')\n",
    "hm.fillna(0)\n",
    "ax = sns.heatmap(hm, cmap=\"YlGnBu\")"
   ]
  },
  {
   "cell_type": "markdown",
   "metadata": {},
   "source": []
  },
  {
   "cell_type": "code",
   "execution_count": null,
   "metadata": {},
   "outputs": [],
   "source": [
    "# Cap color vs habitat \n",
    "\n",
    "hm = data.groupby(['habitat','cap_color'], as_index = False)[['class']].count()\n",
    "hm = hm.pivot('cap_color','habitat','class')\n",
    "hm.fillna(0)\n",
    "ax = sns.heatmap(hm, cmap=\"YlGnBu\")"
   ]
  },
  {
   "cell_type": "markdown",
   "metadata": {},
   "source": []
  },
  {
   "cell_type": "code",
   "execution_count": null,
   "metadata": {},
   "outputs": [],
   "source": [
    "# Veil color vs habitat\n",
    "\n",
    "hm = data.groupby(['habitat','veil_color'], as_index = False)[['class']].count()\n",
    "hm = hm.pivot('veil_color','habitat','class')\n",
    "hm.fillna(0)\n",
    "ax = sns.heatmap(hm, cmap=\"YlGnBu\")"
   ]
  },
  {
   "cell_type": "markdown",
   "metadata": {},
   "source": []
  },
  {
   "cell_type": "code",
   "execution_count": null,
   "metadata": {},
   "outputs": [],
   "source": [
    "# Ring number vs habitat\n",
    "\n",
    "hm = data.groupby(['habitat','ring_number'], as_index = False)[['class']].count()\n",
    "hm = hm.pivot('ring_number','habitat','class')\n",
    "hm.fillna(0)\n",
    "ax = sns.heatmap(hm, cmap=\"YlGnBu\")"
   ]
  },
  {
   "cell_type": "markdown",
   "metadata": {},
   "source": []
  },
  {
   "cell_type": "markdown",
   "metadata": {},
   "source": [
    "### <font color='green'>Mohammed-EDA</font>"
   ]
  },
  {
   "cell_type": "code",
   "execution_count": null,
   "metadata": {},
   "outputs": [],
   "source": [
    "df = pd.read_csv('../data/mushroom_clean.csv')\n",
    "df.drop('Unnamed: 0', axis = 1, inplace = True)"
   ]
  },
  {
   "cell_type": "code",
   "execution_count": null,
   "metadata": {},
   "outputs": [],
   "source": [
    "plt.figure(figsize=(15,5))\n",
    "sns.countplot(x = 'veil_color' , hue = 'class' , data = df )\n",
    "plt.title('Veil Color by the Class')\n",
    "plt.xlabel('Veil Color')\n",
    "plt.ylabel('No. Of Mushroom');"
   ]
  },
  {
   "cell_type": "markdown",
   "metadata": {},
   "source": [
    "From the graph, we can see that the Veil Color can be used to know the class of the mushroom except when the color is white."
   ]
  },
  {
   "cell_type": "markdown",
   "metadata": {},
   "source": [
    "ndf = df.loc[data['veil_color'] == 'w']\n",
    "fig, ax = plt.subplots(6, 4, figsize=(30, 20))\n",
    "for variable, subplot in zip(ndf.columns.tolist(), ax.flatten()):\n",
    "    sns.countplot(x = variable, hue = 'class' ,  data = ndf,  ax=subplot)\n",
    "    for label in subplot.get_xticklabels():\n",
    "        label.set_rotation(90); "
   ]
  },
  {
   "cell_type": "markdown",
   "metadata": {},
   "source": [
    "We did more analysis to know if there is a feature that can be used to know the class if the color is white. We noticed that the possible features are the smell & population & Stalk Color & Ring Type."
   ]
  },
  {
   "cell_type": "code",
   "execution_count": null,
   "metadata": {},
   "outputs": [],
   "source": [
    "selected_rows = ['population','ring_type','stalk_color_below_ring','stalk_color_above_ring']\n",
    "fig, ax = plt.subplots(2, 2, figsize=(30, 20))\n",
    "for variable, subplot in zip(selected_rows, ax.flatten()):\n",
    "    sns.countplot(x = variable, hue = 'class' ,  data = ndf,  ax=subplot)\n",
    "    plt.title('Veil Color by the Class')\n",
    "    plt.xlabel('Veil Color')\n",
    "    plt.ylabel('No. Of Mushroom');"
   ]
  },
  {
   "cell_type": "markdown",
   "metadata": {},
   "source": [
    "here we can see the four fetures more clearly and notice that if the population abundant or numerous then it is (e). For the ring type if its is large the it is from type (p). Stalk color below the ring if it is buff and high chance for the brown and cinnamon. "
   ]
  },
  {
   "cell_type": "markdown",
   "metadata": {},
   "source": [
    "### <font color='green'>Dina-EDA</font>"
   ]
  },
  {
   "cell_type": "code",
   "execution_count": null,
   "metadata": {},
   "outputs": [],
   "source": [
    "labels = ['Edible', 'Poisonous']\n",
    "values = [data.describe()['class']['freq'], data.describe()['class']['count']-data.describe()['class']['freq']]\n",
    "colors = ['green', 'pink']"
   ]
  },
  {
   "cell_type": "code",
   "execution_count": null,
   "metadata": {},
   "outputs": [],
   "source": [
    "plt.figure(figsize=(15, 8))\n",
    "splot = sns.countplot(data=data, x='gill-attachment',\n",
    "                      hue='class',\n",
    "                      order=data['gill-attachment'].value_counts().index,\n",
    "                      palette=['pink', 'forestgreen'])                      \n",
    "splot.set_xticklabels(['free', 'attached'])\n",
    "\n",
    "for p in splot.patches:\n",
    "    splot.annotate(format(p.get_height(), '.1f'),\n",
    "                   (p.get_x() + p.get_width() / 2., p.get_height()),\n",
    "                   ha='center', va='center',\n",
    "                   xytext=(0, 9),\n",
    "                   textcoords='offset points')\n",
    "plt.legend(['Poisonous', 'Edible'], loc='upper right')\n",
    "plt.ylabel('Number of the Mushrooms', fontsize=13)\n",
    "plt.xlabel('Types of the Gill Attachments', fontsize=13)\n",
    "plt.title('Mushrooms Classes vs Gill Attachments', fontsize=15);"
   ]
  },
  {
   "cell_type": "markdown",
   "metadata": {},
   "source": [
    "According to this graph, the Free type gill attachments are approximately equally distributed. In contrast, the Attached type gill attachments are most frequently edible."
   ]
  },
  {
   "cell_type": "code",
   "execution_count": null,
   "metadata": {},
   "outputs": [],
   "source": [
    "plt.figure(figsize=(15, 8))\n",
    "splot = sns.countplot(data=data, x='gill-spacing',\n",
    "                      hue='class',\n",
    "                      order=data['gill-spacing'].value_counts().index,\n",
    "                      palette=['pink', 'forestgreen'])                   \n",
    "splot.set_xticklabels(['Close', 'Crowded'])\n",
    "for p in splot.patches:\n",
    "    splot.annotate(format(p.get_height(), '.1f'),\n",
    "                   (p.get_x() + p.get_width() / 2., p.get_height()),\n",
    "                   ha='center', va='center',\n",
    "                   xytext=(0, 9),\n",
    "                   textcoords='offset points')\n",
    "plt.legend(['Poisonous', 'Edible'], loc='upper right')\n",
    "plt.ylabel('Number of the Mushrooms', fontsize=13)\n",
    "plt.xlabel('Types of the Gill Spacing', fontsize=13)\n",
    "plt.title('Mushrooms Classes vs Gill Spacing', fontsize=15);"
   ]
  },
  {
   "cell_type": "markdown",
   "metadata": {},
   "source": [
    "According to this figure, when the Crowded type gill spacing is high it is frequently edible.however, we cannot say the same thing for the Close-type gill spacing mushrooms. Their class distribution by gill spacing is pretty close to each other."
   ]
  },
  {
   "cell_type": "code",
   "execution_count": null,
   "metadata": {},
   "outputs": [],
   "source": [
    "plt.figure(figsize=(15, 8))\n",
    "splot = sns.countplot(data=data, x='gill-color',\n",
    "                      hue='class',\n",
    "                      order=data['gill-color'].value_counts().index,\n",
    "                      palette=['pink', 'forestgreen'])\n",
    "                      \n",
    "splot.set_xticklabels(['Buff', 'Pink', 'White', 'Brown', 'Gray', 'Chocolate', 'Purple', 'Black', 'Red',\n",
    "                       'Yellow', 'Orange', 'Green'])\n",
    "for p in splot.patches:\n",
    "    splot.annotate(format(p.get_height(), '.1f'),\n",
    "                   (p.get_x() + p.get_width() / 2., p.get_height()),\n",
    "                   ha='center', va='center',\n",
    "                   xytext=(0, 9),\n",
    "                   textcoords='offset points')\n",
    "plt.legend(['Poisonous', 'Edible'], loc='upper right')\n",
    "plt.ylabel('Number of the Mushrooms', fontsize=13)\n",
    "plt.xlabel('The Gill Colors of the Mushrooms', fontsize=13)\n",
    "plt.title('Mushrooms vs Gill Colors', fontsize=15)"
   ]
  },
  {
   "cell_type": "markdown",
   "metadata": {},
   "source": [
    "As we can see from the figure above, the Buff-colored gills are highly poisonous. In contrast, the White, Brown, Purple, Black, and Red gill colors are high frequently edible."
   ]
  },
  {
   "cell_type": "markdown",
   "metadata": {},
   "source": [
    "### <font color='green'>Amal-EDA</font>"
   ]
  },
  {
   "cell_type": "code",
   "execution_count": null,
   "metadata": {},
   "outputs": [],
   "source": [
    "l=data['cap_shape'].value_counts()\n",
    "dic={5:'sunken',2:'convex',3:'flat',0:'bell',4:'knobbed',1:'conical'}\n",
    "plt.bar(list(dic.values()),l)\n"
   ]
  },
  {
   "cell_type": "markdown",
   "metadata": {},
   "source": []
  },
  {
   "cell_type": "code",
   "execution_count": null,
   "metadata": {},
   "outputs": [],
   "source": [
    "l1=data['cap_surface'].value_counts()\n",
    "dic1 ={3:'smooth',2:'scaly',0:'fibrous',1:'grooves'}\n",
    "plt.bar(list(dic1.values()),l1)\n"
   ]
  },
  {
   "cell_type": "code",
   "execution_count": null,
   "metadata": {},
   "outputs": [],
   "source": [
    "data['cap_color'].value_counts()\n",
    "dic={0:'brown',1:'buff',2:'cinnamon',3:'gray',4:'green',5:'pink',6:'purple',7:'red',8:'white',9:'yellow'}\n",
    "data['cap_color']=data['cap_color'].replace(dic)\n",
    "ax=sns.histplot(data['cap_color'],bins=20)\n",
    "plt.xticks(rotation=45)\n"
   ]
  },
  {
   "cell_type": "markdown",
   "metadata": {},
   "source": []
  },
  {
   "cell_type": "code",
   "execution_count": null,
   "metadata": {},
   "outputs": [],
   "source": [
    "# def plot_col(col, hue=None, color=['blue', 'purple'], labels=None):\n",
    "#     fig, ax = plt.subplots(figsize=(15, 7))\n",
    "#     sns.countplot(col, hue=hue, palette=color, saturation=0.6, data=data, dodge=True, ax=ax)\n",
    "#     ax.set(title = f\"Mushroom {col.title()} Quantity\", xlabel=f\"{col.title()}\", ylabel=\"Quantity\")\n",
    "#     if labels!=None:\n",
    "#         ax.set_xticklabels(labels)\n",
    "#     if hue!=None:\n",
    "#         ax.legend(('Poisonous', 'Edible'), loc=0)"
   ]
  },
  {
   "cell_type": "code",
   "execution_count": null,
   "metadata": {},
   "outputs": [],
   "source": [
    "# color_dict = {\"purple\":\"n\",\"yellow\":\"y\", \"blue\":\"w\", \"violet\":\"g\", \"red\":\"e\",\"pink\":\"p\",\n",
    "#               \"orange\":\"b\", \"purple\":\"u\", \"black\":\"c\", \"green\":\"r\"}\n",
    "# plot_col(col='cap_color', color=color_dict.keys(), labels=color_dict)"
   ]
  },
  {
   "cell_type": "markdown",
   "metadata": {},
   "source": [
    "### <font color='green'>Omar-EDA</font>"
   ]
  },
  {
   "cell_type": "markdown",
   "metadata": {},
   "source": [
    "**Is there a relation between stalk properties and edibility ?**"
   ]
  },
  {
   "cell_type": "code",
   "execution_count": null,
   "metadata": {},
   "outputs": [],
   "source": [
    "# Stalk_shape vs class\n",
    "\n",
    "cross_tab_prop = pd.crosstab(index=data['stalk_shape'],\n",
    "                             columns=data['class'],\n",
    "                             normalize=\"index\")\n",
    "\n",
    "cross_tab_prop.plot(kind='bar', \n",
    "                    stacked=True, \n",
    "                    colormap='tab10', \n",
    "                    figsize=(10, 6))\n",
    "\n",
    "plt.legend(loc=\"lower left\", ncol=2)\n",
    "plt.xlabel(\"Stalk_shape\")\n",
    "plt.ylabel(\"Proportion\")\n",
    "\n",
    "\n",
    "for n, x in enumerate([*cross_tab_prop.index.values]):\n",
    "    for (proportion, y_loc) in zip(cross_tab_prop.loc[x],\n",
    "                                   cross_tab_prop.loc[x].cumsum()):\n",
    "                \n",
    "        plt.text(x=n - 0.17,\n",
    "                 y=y_loc,\n",
    "                 s=f'{np.round(proportion * 100, 1)}%', \n",
    "                 color=\"black\",\n",
    "                 fontsize=12,\n",
    "                 fontweight=\"bold\")\n",
    "\n",
    "\n",
    "plt.show() # last bar + ticks"
   ]
  },
  {
   "cell_type": "markdown",
   "metadata": {},
   "source": [
    "### Insight: \n",
    "   ##### We see that 54.0% of mushrooms with __enlarging__ stalk shape is poisonuos, and 43.8% of mushrooms with __tapering__ stalk shape is poisonuos."
   ]
  },
  {
   "cell_type": "code",
   "execution_count": null,
   "metadata": {},
   "outputs": [],
   "source": [
    "# Stalk_root vs class\n",
    "\n",
    "cross_tab_prop = pd.crosstab(index=data['stalk_root'],\n",
    "                             columns=data['class'],\n",
    "                             normalize=\"index\")\n",
    "\n",
    "cross_tab_prop.plot(kind='bar', \n",
    "                    stacked=True, \n",
    "                    colormap='tab10', \n",
    "                    figsize=(10, 6))\n",
    "\n",
    "plt.legend(loc=\"lower left\", ncol=2)\n",
    "plt.xlabel(\"Stalk_root\")\n",
    "plt.ylabel(\"Proportion\")\n",
    "\n",
    "\n",
    "for n, x in enumerate([*cross_tab_prop.index.values]):\n",
    "    for (proportion, y_loc) in zip(cross_tab_prop.loc[x],\n",
    "                                   cross_tab_prop.loc[x].cumsum()):\n",
    "                \n",
    "        plt.text(x=n - 0.17,\n",
    "                 y=y_loc,\n",
    "                 s=f'{np.round(proportion * 100, 1)}%', \n",
    "                 color=\"black\",\n",
    "                 fontsize=12,\n",
    "                 fontweight=\"bold\")\n",
    "\n",
    "\n",
    "plt.show() # last bar + ticks"
   ]
  },
  {
   "cell_type": "markdown",
   "metadata": {},
   "source": [
    "### Insight: \n",
    "   ##### We see that if the mushroom has a __club__, __cup__, or __rooted__ stalk root, then there is a low chance for it to be poisonous. However, if the root is __bulbous__ then a chance of 49.2% is that the mushroom is poisonous. Moreover, in the dataset we have 2480 mushrooms with a __missing__ stalk root.\n"
   ]
  },
  {
   "cell_type": "code",
   "execution_count": null,
   "metadata": {},
   "outputs": [],
   "source": [
    "# Stalk_surface vs class\n",
    "\n",
    "# stalk_surface_above_ring\n",
    "\n",
    "cross_tab_prop = pd.crosstab(index=data['stalk_surface_above_ring'],\n",
    "                             columns=data['class'],\n",
    "                             normalize=\"index\")\n",
    "\n",
    "cross_tab_prop.plot(kind='bar', \n",
    "                    stacked=True, \n",
    "                    colormap='tab10', \n",
    "                    figsize=(10, 6))\n",
    "\n",
    "plt.legend(loc=\"lower left\", ncol=2)\n",
    "plt.xlabel(\"stalk surface above ring\")\n",
    "plt.ylabel(\"Proportion\")\n",
    "\n",
    "\n",
    "for n, x in enumerate([*cross_tab_prop.index.values]):\n",
    "    for (proportion, y_loc) in zip(cross_tab_prop.loc[x],\n",
    "                                   cross_tab_prop.loc[x].cumsum()):\n",
    "                \n",
    "        plt.text(x=n - 0.17,\n",
    "                 y=y_loc,\n",
    "                 s=f'{np.round(proportion * 100, 1)}%', \n",
    "                 color=\"black\",\n",
    "                 fontsize=12,\n",
    "                 fontweight=\"bold\")\n",
    "\n",
    "# stalk_surface_below ring\n",
    "\n",
    "cross_tab_prop = pd.crosstab(index=data['stalk_surface_below_ring'],\n",
    "                             columns=data['class'],\n",
    "                             normalize=\"index\")\n",
    "\n",
    "cross_tab_prop.plot(kind='bar', \n",
    "                    stacked=True, \n",
    "                    colormap='tab10', \n",
    "                    figsize=(10, 6))\n",
    "\n",
    "plt.legend(loc=\"lower left\", ncol=2)\n",
    "plt.xlabel(\"stalk surface below ring\")\n",
    "plt.ylabel(\"Proportion\")\n",
    "\n",
    "\n",
    "for n, x in enumerate([*cross_tab_prop.index.values]):\n",
    "    for (proportion, y_loc) in zip(cross_tab_prop.loc[x],\n",
    "                                   cross_tab_prop.loc[x].cumsum()):\n",
    "                \n",
    "        plt.text(x=n - 0.17,\n",
    "                 y=y_loc,\n",
    "                 s=f'{np.round(proportion * 100, 1)}%', \n",
    "                 color=\"black\",\n",
    "                 fontsize=12,\n",
    "                 fontweight=\"bold\")\n",
    "\n",
    "\n",
    "plt.show() # last bar + ticks\n"
   ]
  },
  {
   "cell_type": "markdown",
   "metadata": {},
   "source": [
    "### Insight: \n",
    "   ##### For the stalk surface, we see that the percentage are similar for above & below ring. __Fibrous__, __smooth__, and __scaly__ mushorooms have an average possibility of being poisonous as 25.1%, 30.4%, and 30.1%, respectively. However, __silky__ mushrooms have an average possibility of 93.9% for being poisonuous.\n",
    "   #### The dataset contains:\n",
    "      1- 2372 mushrooms with silky stalk surface above ring.\n",
    "      2- 2304 mushrooms with silky stalk surface below ring.\n",
    "      3- 1800 mushrooms with silky stalk surface above and below ring.\n"
   ]
  },
  {
   "cell_type": "code",
   "execution_count": null,
   "metadata": {},
   "outputs": [],
   "source": [
    "da2 = data[(data['stalk_surface_above_ring'] == 'k') & (data['stalk_surface_below_ring'] == 'k')]\n",
    "da2.shape[0]"
   ]
  },
  {
   "cell_type": "code",
   "execution_count": null,
   "metadata": {},
   "outputs": [],
   "source": [
    "# Stalk_color vs class\n",
    "\n",
    "# stalk_color_above_ring\n",
    "\n",
    "cross_tab_prop = pd.crosstab(index=data['stalk_color_above_ring'],\n",
    "                             columns=data['class'],\n",
    "                             normalize=\"index\")\n",
    "\n",
    "cross_tab_prop.plot(kind='bar', \n",
    "                    stacked=True, \n",
    "                    colormap='tab10', \n",
    "                    figsize=(10, 6))\n",
    "\n",
    "plt.legend(loc=\"lower left\", ncol=2)\n",
    "plt.xlabel(\"stalk color above ring\")\n",
    "plt.ylabel(\"Proportion\")\n",
    "\n",
    "\n",
    "for n, x in enumerate([*cross_tab_prop.index.values]):\n",
    "    for (proportion, y_loc) in zip(cross_tab_prop.loc[x],\n",
    "                                   cross_tab_prop.loc[x].cumsum()):\n",
    "                \n",
    "        plt.text(x=n - 0.17,\n",
    "                 y=y_loc,\n",
    "                 s=f'{np.round(proportion * 100, 1)}%', \n",
    "                 color=\"black\",\n",
    "                 fontsize=12,\n",
    "                 fontweight=\"bold\")\n",
    "\n",
    "# stalk_surface_below ring\n",
    "\n",
    "cross_tab_prop = pd.crosstab(index=data['stalk_color_below_ring'],\n",
    "                             columns=data['class'],\n",
    "                             normalize=\"index\")\n",
    "\n",
    "cross_tab_prop.plot(kind='bar', \n",
    "                    stacked=True, \n",
    "                    colormap='tab10', \n",
    "                    figsize=(10, 6))\n",
    "\n",
    "plt.legend(loc=\"lower left\", ncol=2)\n",
    "plt.xlabel(\"stalk color below ring\")\n",
    "plt.ylabel(\"Proportion\")\n",
    "\n",
    "\n",
    "for n, x in enumerate([*cross_tab_prop.index.values]):\n",
    "    for (proportion, y_loc) in zip(cross_tab_prop.loc[x],\n",
    "                                   cross_tab_prop.loc[x].cumsum()):\n",
    "                \n",
    "        plt.text(x=n - 0.17,\n",
    "                 y=y_loc,\n",
    "                 s=f'{np.round(proportion * 100, 1)}%', \n",
    "                 color=\"black\",\n",
    "                 fontsize=12,\n",
    "                 fontweight=\"bold\")\n",
    "\n",
    "\n",
    "plt.show() # last bar + ticks\n"
   ]
  },
  {
   "cell_type": "markdown",
   "metadata": {},
   "source": [
    "### Insight: \n",
    "   ##### For the stalk color, we see that the percentage are similar for above & below ring. Mushrooms with these stalk colors: __buff__, __cinnamon__, and __yellow__ either above or below ring, have 100% percentage of being poisonous. On the other hand, mushrooms with these stalk colors: __red__, __gray__, and __orange__ either above or below ring, have 0% percentage of being poisonous. Also, 38.3% of white colored stalk mushrooms are poisonous, and 69.2% of pink colored stalk mushrooms are poisonous, and brown colored stalk mushrooms have an average percentage of 92.0% for being poisonous.\n",
    "   ##### Notes: in this dataset,\n",
    "      1- There are only 8 yellow, 36 cinnamon for stalk color above the ring.\n",
    "      2- There are only 24 yellow, 36 cinnamon for stalk color below the ring.\n",
    "      3- Also, the 36 cinnamon stalk colored mushrooms have both cinnamon color above and below ring.\n"
   ]
  },
  {
   "cell_type": "code",
   "execution_count": null,
   "metadata": {},
   "outputs": [],
   "source": []
  }
 ],
 "metadata": {
  "kernelspec": {
   "display_name": "Python 3.9.7 ('base')",
   "language": "python",
   "name": "python3"
  },
  "language_info": {
   "name": "python",
   "version": "3.9.7"
  },
  "orig_nbformat": 4,
  "vscode": {
   "interpreter": {
    "hash": "d4d1e4263499bec80672ea0156c357c1ee493ec2b1c70f0acce89fc37c4a6abe"
   }
  }
 },
 "nbformat": 4,
 "nbformat_minor": 2
}
