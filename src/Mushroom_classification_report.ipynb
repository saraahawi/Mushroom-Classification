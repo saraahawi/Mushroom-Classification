{
 "cells": [
  {
   "cell_type": "code",
<<<<<<< HEAD
   "execution_count": 68,
=======
   "execution_count": 56,
>>>>>>> 56da65d1571454645f7c77a7b0a709d80ecfc0a7
   "metadata": {},
   "outputs": [],
   "source": [
    "# | echo: false\n",
    "# ---\n",
<<<<<<< HEAD
    "# title: \"Poisonous/Edible Mushroom Classification\"\n",
=======
    "# title: \"matplotlib example\"\n",
>>>>>>> 56da65d1571454645f7c77a7b0a709d80ecfc0a7
    "# format:\n",
    "#   html:\n",
    "#     code-fold: true\n",
    "# ---"
   ]
  },
  {
   "cell_type": "code",
<<<<<<< HEAD
   "execution_count": 69,
=======
   "execution_count": 57,
>>>>>>> 56da65d1571454645f7c77a7b0a709d80ecfc0a7
   "metadata": {},
   "outputs": [],
   "source": [
    "#| echo: false\n",
    "# Supress warnings.\n",
    "import warnings\n",
    "warnings.filterwarnings('ignore')\n",
    "warnings.warn('DelftStack')\n",
    "warnings.warn('Do not show this message')"
   ]
  },
  {
   "cell_type": "code",
<<<<<<< HEAD
   "execution_count": 70,
   "metadata": {},
   "outputs": [],
   "source": [
    "#| echo: false\n",
    "# Import necessary libraries\n",
    "# Importing libraries \n",
    "\n",
=======
   "execution_count": 84,
   "metadata": {},
   "outputs": [],
   "source": [
    "# Import necessary libraries\n",
    "# Importing libraries \n",
    "#| echo: false\n",
>>>>>>> 56da65d1571454645f7c77a7b0a709d80ecfc0a7
    "import numpy as np \n",
    "import pandas as pd\n",
    "import janitor\n",
    "import sklearn \n",
    "from sklearn.impute import KNNImputer\n",
    "from sklearn import preprocessing\n",
    "from sklearn.preprocessing import StandardScaler\n",
    "from sklearn.feature_selection import VarianceThreshold\n",
    "from sklearn.model_selection import train_test_split, GridSearchCV\n",
    "from sklearn.metrics import classification_report, confusion_matrix, precision_score, accuracy_score, recall_score, f1_score\n",
    "from sklearn.feature_selection import SelectFromModel\n",
    "from sklearn.linear_model import LogisticRegression\n",
    "from copy import deepcopy\n",
    "from sklearn.feature_selection import SelectKBest, chi2\n",
<<<<<<< HEAD
    "from sklearn.decomposition import PCA\n",
    "import matplotlib.pyplot as plt\n"
=======
    "from sklearn.decomposition import PCA"
>>>>>>> 56da65d1571454645f7c77a7b0a709d80ecfc0a7
   ]
  },
  {
   "cell_type": "code",
<<<<<<< HEAD
   "execution_count": 71,
=======
   "execution_count": 59,
>>>>>>> 56da65d1571454645f7c77a7b0a709d80ecfc0a7
   "metadata": {},
   "outputs": [],
   "source": [
    "#| echo: false\n",
    "data = pd.read_csv('../data/mushrooms.csv')"
   ]
  },
  {
   "cell_type": "markdown",
   "metadata": {},
   "source": [
<<<<<<< HEAD
    "# Poisonous/Edible Mushroom Classification\n",
    "\n",
    "## Overview of the dataset\n",
    "\n",
    "This data set includes descriptions of hypothetical samples corresponding to 23 species of gilled mushrooms in the Agaricus and Lepiota Family (pp. 500-525). Each species is identified as definitely edible, definitely poisonous, or of unknown edibility and not recommended. This latter class was combined with the poisonous one. Source: Mushroom records drawn from The Audubon Society Field Guide to North American Mushrooms (1981). G. H. Lincoff (Pres.), New York: Alfred A. Knopf.\n",
    "\n",
    "<p align=\"center\">\n",
    "  <img src=\"https://cdn.shopify.com/s/files/1/0031/4756/3081/files/Anatomy3.jpg?v=1596220270\" />\n",
    "</p>\n",
    "\n",
    "*The stem is referred to in our data as the stalk.\n",
    "\n",
    "### Data Dictionary\n",
    "\n",
    "| Attribute | Description | Values |\n",
    "|:--------- |:----------- | :---------- |\n",
    "Cap shape | The shape of the top part of the mushroom | bell=b,conical=c,convex=x,flat=f, knobbed=k,sunken=s\n",
    "Cap surface | The surface of the top part of the mushroom|fibrous=f,grooves=g,scaly=y,smooth=s \n",
    "Cap color | The color of the top part of the mushroom |brown=n,buff=b,cinnamon=c,gray=g,green=r, pink=p,purple=u,red=e,white=w,yellow=y\n",
    "Bruises | Whether the mushroom is bruised or broken | bruises=t,no=f \n",
    "Odor | How the mushroom smells | almond=a,anise=l,creosote=c,fishy=y,foul=f, musty=m,none=n,pungent=p,spicy=s \n",
    "Gill attachment | How the thin, papery structures that hang vertically under the cap. Responsible for producing spores.| attached=a,descending=d,free=f,notched=n \n",
    "Gill spacing | How closely spaced gills are | close=c,crowded=w,distant=d \n",
    "Gill size | Whether gills are narrow or broad |  broad=b,narrow=n \n",
    "Gill color | Color of gills |  black=k,brown=n,buff=b,chocolate=h,gray=g, green=r,orange=o,pink=p,purple=u,red=e, white=w,yellow=y\n",
    "Stalk shape | Whether the leg of mushroom is tapering or enlarging|  enlarging=e,tapering=t \n",
    "Stalk root | Shape of the stalk's root | bulbous=b,club=c,cup=u,equal=e, rhizomorphs=z,rooted=r,missing=? \n",
    "Stalk surface above ring | How the stalk's surface feels like above the ring | fibrous=f,scaly=y,silky=k,smooth=s \n",
    "Stalk surface below ring | How the stalk's surface feels like below the ring | fibrous=f,scaly=y,silky=k,smooth=s \n",
    "Stalk color above ring | The stalk's color above the ring | brown=n,buff=b,cinnamon=c,gray=g,orange=o, pink=p,red=e,white=w,yellow=y \n",
    "Stalk color below ring | The stalk's color below the ring | brown=n,buff=b,cinnamon=c,gray=g,orange=o, pink=p,red=e,white=w,yellow=y \n",
    "Veil type |The veil is a temporary structure (membranous tissue in universals) found on the fruiting bodies| partial=p,universal=u \n",
    "Veil color |Color of veil| brown=n,orange=o,white=w,yellow=y\n",
    "Ring number | How many rings found on the mushroom's stalk | none=n,one=o,two=t \n",
    "Ring type | Shape of rings | cobwebby=c,evanescent=e,flaring=f,large=l, none=n,pendant=p,sheathing=s,zone=z \n",
    "Spore print color | Color of spores produced by gills which are used for reproduction | black=k,brown=n,buff=b,chocolate=h,green=r, orange=o,purple=u,white=w,yellow=y\n",
    "Population | How scattered or grouped the mushrooms are | abundant=a,clustered=c,numerous=n,scattered=s,several=v,solitary=y\n",
    "Habitat | Where mushroom populations are found | grasses=g,leaves=l,meadows=m,paths=p,urban=u,waste=w,woods=d \n",
    "\n",
    "### Objectives: \n",
    "- Presenting findings gathered from analysis in a report format.\n",
    "- Building a robust machine learning model capable of accuractely classifying poisonous and edible mushrooms.\n",
    "- Interpreting classification results and model performance metrics. \n"
=======
    "## Overview of the dataset\n",
    "\n",
    "description, dictionary\n",
    "\n",
    "Mushroom anatomy picture\n",
    "\n",
    "Objective"
>>>>>>> 56da65d1571454645f7c77a7b0a709d80ecfc0a7
   ]
  },
  {
   "cell_type": "markdown",
   "metadata": {},
   "source": [
    "## Data Munging"
   ]
  },
  {
   "cell_type": "markdown",
   "metadata": {},
   "source": [
    "1) Clean column names automatically by replacing each - with _ using  `pyjanitor`"
   ]
  },
  {
   "cell_type": "code",
<<<<<<< HEAD
   "execution_count": 72,
=======
   "execution_count": 60,
>>>>>>> 56da65d1571454645f7c77a7b0a709d80ecfc0a7
   "metadata": {},
   "outputs": [
    {
     "name": "stdout",
     "output_type": "stream",
     "text": [
      "Column names before cleaning: \n",
      " ['class', 'cap-shape', 'cap-surface', 'cap-color', 'bruises', 'odor', 'gill-attachment', 'gill-spacing', 'gill-size', 'gill-color', 'stalk-shape', 'stalk-root', 'stalk-surface-above-ring', 'stalk-surface-below-ring', 'stalk-color-above-ring', 'stalk-color-below-ring', 'veil-type', 'veil-color', 'ring-number', 'ring-type', 'spore-print-color', 'population', 'habitat'] \n",
      "\n",
      "\n",
      "Column names after cleaning: \n",
      " ['class', 'cap_shape', 'cap_surface', 'cap_color', 'bruises', 'odor', 'gill_attachment', 'gill_spacing', 'gill_size', 'gill_color', 'stalk_shape', 'stalk_root', 'stalk_surface_above_ring', 'stalk_surface_below_ring', 'stalk_color_above_ring', 'stalk_color_below_ring', 'veil_type', 'veil_color', 'ring_number', 'ring_type', 'spore_print_color', 'population', 'habitat']\n"
     ]
    }
   ],
   "source": [
<<<<<<< HEAD
    "#| echo: false\n",
=======
    "#| echo: true\n",
>>>>>>> 56da65d1571454645f7c77a7b0a709d80ecfc0a7
    "print(\"Column names before cleaning:\", '\\n', data.columns.tolist(), '\\n\\n')\n",
    "data = data.clean_names()\n",
    "print(\"Column names after cleaning:\", '\\n', data.columns.tolist()) "
   ]
  },
  {
   "cell_type": "markdown",
   "metadata": {},
   "source": [
    "2) See what different values each column contains\n",
    "\n",
    "From here, we can see that the `veil_type` has one single value and therefore is redundant and not informative so we can proceed with dropping it.\n",
    "All the mushrooms in our dataset have partial veils, so the column `veil_type` is not informative. "
   ]
  },
  {
   "cell_type": "code",
<<<<<<< HEAD
   "execution_count": 73,
=======
   "execution_count": 61,
>>>>>>> 56da65d1571454645f7c77a7b0a709d80ecfc0a7
   "metadata": {},
   "outputs": [
    {
     "name": "stdout",
     "output_type": "stream",
     "text": [
      "class :   ['p' 'e']\n",
      "cap_shape :   ['x' 'b' 's' 'f' 'k' 'c']\n",
      "cap_surface :   ['s' 'y' 'f' 'g']\n",
      "cap_color :   ['n' 'y' 'w' 'g' 'e' 'p' 'b' 'u' 'c' 'r']\n",
      "bruises :   ['t' 'f']\n",
      "odor :   ['p' 'a' 'l' 'n' 'f' 'c' 'y' 's' 'm']\n",
      "gill_attachment :   ['f' 'a']\n",
      "gill_spacing :   ['c' 'w']\n",
      "gill_size :   ['n' 'b']\n",
      "gill_color :   ['k' 'n' 'g' 'p' 'w' 'h' 'u' 'e' 'b' 'r' 'y' 'o']\n",
      "stalk_shape :   ['e' 't']\n",
      "stalk_root :   ['e' 'c' 'b' 'r' '?']\n",
      "stalk_surface_above_ring :   ['s' 'f' 'k' 'y']\n",
      "stalk_surface_below_ring :   ['s' 'f' 'y' 'k']\n",
      "stalk_color_above_ring :   ['w' 'g' 'p' 'n' 'b' 'e' 'o' 'c' 'y']\n",
      "stalk_color_below_ring :   ['w' 'p' 'g' 'b' 'n' 'e' 'y' 'o' 'c']\n",
      "veil_type :   ['p']\n",
      "veil_color :   ['w' 'n' 'o' 'y']\n",
      "ring_number :   ['o' 't' 'n']\n",
      "ring_type :   ['p' 'e' 'l' 'f' 'n']\n",
      "spore_print_color :   ['k' 'n' 'u' 'h' 'w' 'r' 'o' 'y' 'b']\n",
      "population :   ['s' 'n' 'a' 'v' 'y' 'c']\n",
      "habitat :   ['u' 'g' 'm' 'd' 'p' 'w' 'l']\n"
     ]
    }
   ],
   "source": [
    "#| echo: false\n",
    "data.columns.tolist()\n",
    "for col in data.columns.tolist(): \n",
    "    print(col,':  ',data[col].unique())"
   ]
  },
  {
   "cell_type": "code",
<<<<<<< HEAD
   "execution_count": 74,
=======
   "execution_count": 62,
>>>>>>> 56da65d1571454645f7c77a7b0a709d80ecfc0a7
   "metadata": {},
   "outputs": [],
   "source": [
    "#| echo: false\n",
    "data.drop('veil_type', axis = 1, inplace = True)"
   ]
  },
  {
   "cell_type": "markdown",
   "metadata": {},
   "source": [
    "We can see that the column `stalk_root` has a non-alphanumeric value and it might need some munging.\n",
    "According to the dataset's documentation, the value '?' in `stalk_root` means that they are missing or unknown stalk root data. \n",
    "\n",
    "Let's see how many of these missing values we have to decide if it'd be okay to drop these rows. "
   ]
  },
  {
   "cell_type": "code",
<<<<<<< HEAD
   "execution_count": 75,
=======
   "execution_count": 63,
>>>>>>> 56da65d1571454645f7c77a7b0a709d80ecfc0a7
   "metadata": {},
   "outputs": [
    {
     "data": {
      "text/html": [
       "<div>\n",
       "<style scoped>\n",
       "    .dataframe tbody tr th:only-of-type {\n",
       "        vertical-align: middle;\n",
       "    }\n",
       "\n",
       "    .dataframe tbody tr th {\n",
       "        vertical-align: top;\n",
       "    }\n",
       "\n",
       "    .dataframe thead th {\n",
       "        text-align: right;\n",
       "    }\n",
       "</style>\n",
       "<table border=\"1\" class=\"dataframe\">\n",
       "  <thead>\n",
       "    <tr style=\"text-align: right;\">\n",
       "      <th></th>\n",
       "      <th>Count</th>\n",
       "      <th>Fraction</th>\n",
       "    </tr>\n",
       "  </thead>\n",
       "  <tbody>\n",
       "    <tr>\n",
       "      <th>b</th>\n",
       "      <td>3776</td>\n",
       "      <td>0.464796</td>\n",
       "    </tr>\n",
       "    <tr>\n",
       "      <th>?</th>\n",
       "      <td>2480</td>\n",
       "      <td>0.305268</td>\n",
       "    </tr>\n",
       "    <tr>\n",
       "      <th>e</th>\n",
       "      <td>1120</td>\n",
       "      <td>0.137863</td>\n",
       "    </tr>\n",
       "    <tr>\n",
       "      <th>c</th>\n",
       "      <td>556</td>\n",
       "      <td>0.068439</td>\n",
       "    </tr>\n",
       "    <tr>\n",
       "      <th>r</th>\n",
       "      <td>192</td>\n",
       "      <td>0.023634</td>\n",
       "    </tr>\n",
       "  </tbody>\n",
       "</table>\n",
       "</div>"
      ],
      "text/plain": [
       "   Count  Fraction\n",
       "b   3776  0.464796\n",
       "?   2480  0.305268\n",
       "e   1120  0.137863\n",
       "c    556  0.068439\n",
       "r    192  0.023634"
      ]
     },
<<<<<<< HEAD
     "execution_count": 75,
=======
     "execution_count": 63,
>>>>>>> 56da65d1571454645f7c77a7b0a709d80ecfc0a7
     "metadata": {},
     "output_type": "execute_result"
    }
   ],
   "source": [
<<<<<<< HEAD
    "#| echo: false\n",
=======
    "#| echo: true\n",
>>>>>>> 56da65d1571454645f7c77a7b0a709d80ecfc0a7
    "vals = data['stalk_root'].value_counts().index.values.tolist()\n",
    "\n",
    "NA_count = data['stalk_root'].value_counts().values\n",
    "\n",
    "NA_frac = data['stalk_root'].value_counts().to_list()\n",
    "NA_frac = [i/sum(NA_frac) for i in NA_frac]\n",
    "\n",
    "pd.DataFrame(zip(NA_count,NA_frac), columns=['Count','Fraction'], index= vals)"
   ]
  },
  {
   "cell_type": "markdown",
   "metadata": {},
   "source": [
    "So, now we can see that if we drop the missing values in this column we're losing 30% of our data which accounts for about 2500 instances. \n",
    "Dropping the rows is not the best solution in this case. \n",
    "Therefore, we'll try to impute using KNN.\n",
    "Before that, the categorical value must be numerically encoded/labelled from 0 to n. "
   ]
  },
  {
   "cell_type": "markdown",
   "metadata": {},
   "source": [
    "Let's see the order of values in this column before label encoding"
   ]
  },
  {
   "cell_type": "code",
<<<<<<< HEAD
   "execution_count": 76,
=======
   "execution_count": 64,
>>>>>>> 56da65d1571454645f7c77a7b0a709d80ecfc0a7
   "metadata": {},
   "outputs": [
    {
     "data": {
      "text/plain": [
       "['e', 'c', 'b', 'r', '?']"
      ]
     },
<<<<<<< HEAD
     "execution_count": 76,
=======
     "execution_count": 64,
>>>>>>> 56da65d1571454645f7c77a7b0a709d80ecfc0a7
     "metadata": {},
     "output_type": "execute_result"
    }
   ],
   "source": [
<<<<<<< HEAD
    "#| echo: false\n",
=======
>>>>>>> 56da65d1571454645f7c77a7b0a709d80ecfc0a7
    "data.stalk_root.unique().tolist()"
   ]
  },
  {
   "cell_type": "markdown",
   "metadata": {},
   "source": [
    "Let's see the corresponding label to '?' values so we can impute them"
   ]
  },
  {
   "cell_type": "code",
<<<<<<< HEAD
   "execution_count": 77,
=======
   "execution_count": 65,
>>>>>>> 56da65d1571454645f7c77a7b0a709d80ecfc0a7
   "metadata": {},
   "outputs": [
    {
     "data": {
      "text/plain": [
       "[3, 2, 1, 4, 0]"
      ]
     },
<<<<<<< HEAD
     "execution_count": 77,
=======
     "execution_count": 65,
>>>>>>> 56da65d1571454645f7c77a7b0a709d80ecfc0a7
     "metadata": {},
     "output_type": "execute_result"
    }
   ],
   "source": [
<<<<<<< HEAD
    "#| echo: false\n",
=======
    "#| echo: true\n",
>>>>>>> 56da65d1571454645f7c77a7b0a709d80ecfc0a7
    "\n",
    "le = preprocessing.LabelEncoder()\n",
    "encoded_data = deepcopy(data)\n",
    "for i in encoded_data.columns.tolist():\n",
    "    encoded_data[i]= le.fit_transform(encoded_data[i])\n",
    "\n",
    "encoded_data['stalk_root'].unique().tolist()"
   ]
  },
  {
   "cell_type": "markdown",
   "metadata": {},
   "source": [
    "The corresponding label to '?' is 0. \n",
    "But, for the models to impute the missing data, we should replace each 0 with a NaN. "
   ]
  },
  {
   "cell_type": "code",
<<<<<<< HEAD
   "execution_count": 78,
=======
   "execution_count": 66,
>>>>>>> 56da65d1571454645f7c77a7b0a709d80ecfc0a7
   "metadata": {},
   "outputs": [
    {
     "name": "stdout",
     "output_type": "stream",
     "text": [
      "Stalk root column value counts before imputation: \n",
      " 1.0    3776\n",
      "3.0    1120\n",
      "2.0     556\n",
      "4.0     192\n",
      "Name: stalk_root, dtype: int64 \n",
      "\n",
      "Stalk root column value counts before imputation: \n",
      " 1    3776\n",
      "0    2480\n",
      "3    1120\n",
      "2     556\n",
      "4     192\n",
      "Name: stalk_root, dtype: int64\n"
     ]
    }
   ],
   "source": [
<<<<<<< HEAD
    "#| echo: false\n",
=======
    "#| echo: true\n",
>>>>>>> 56da65d1571454645f7c77a7b0a709d80ecfc0a7
    "print(\"Stalk root column value counts before imputation: \\n\", encoded_data.replace({'stalk_root': {0: np.nan}}).stalk_root.value_counts(), '\\n')\n",
    "imputer = KNNImputer(missing_values = np.nan, n_neighbors=5, weights = 'distance')\n",
    "imputer.fit_transform(encoded_data[['stalk_root']])\n",
    "print(\"Stalk root column value counts before imputation: \\n\", encoded_data.stalk_root.value_counts())"
   ]
  },
  {
   "cell_type": "markdown",
   "metadata": {},
   "source": [
    "We can see that KNNImputer didn't give us any useful results and we're again back on square 1. Therefore, we'll just drop the column."
   ]
  },
  {
   "cell_type": "code",
<<<<<<< HEAD
   "execution_count": 27,
   "metadata": {},
   "outputs": [],
   "source": [
    "#| echo: false\n",
=======
   "execution_count": 67,
   "metadata": {},
   "outputs": [],
   "source": [
>>>>>>> 56da65d1571454645f7c77a7b0a709d80ecfc0a7
    "encoded_data.drop('stalk_root', axis = 1, inplace = True)"
   ]
  },
  {
   "cell_type": "markdown",
   "metadata": {},
   "source": [
    "Now, let's see if the classes in our dataset are balanced or not."
   ]
  },
  {
   "cell_type": "code",
<<<<<<< HEAD
   "execution_count": 28,
=======
   "execution_count": 68,
>>>>>>> 56da65d1571454645f7c77a7b0a709d80ecfc0a7
   "metadata": {},
   "outputs": [
    {
     "data": {
      "text/html": [
       "<div>\n",
       "<style scoped>\n",
       "    .dataframe tbody tr th:only-of-type {\n",
       "        vertical-align: middle;\n",
       "    }\n",
       "\n",
       "    .dataframe tbody tr th {\n",
       "        vertical-align: top;\n",
       "    }\n",
       "\n",
       "    .dataframe thead th {\n",
       "        text-align: right;\n",
       "    }\n",
       "</style>\n",
       "<table border=\"1\" class=\"dataframe\">\n",
       "  <thead>\n",
       "    <tr style=\"text-align: right;\">\n",
       "      <th></th>\n",
       "      <th>Count</th>\n",
       "      <th>Fraction</th>\n",
       "    </tr>\n",
       "  </thead>\n",
       "  <tbody>\n",
       "    <tr>\n",
       "      <th>e</th>\n",
       "      <td>4208</td>\n",
       "      <td>51.8</td>\n",
       "    </tr>\n",
       "    <tr>\n",
       "      <th>p</th>\n",
       "      <td>3916</td>\n",
       "      <td>48.2</td>\n",
       "    </tr>\n",
       "  </tbody>\n",
       "</table>\n",
       "</div>"
      ],
      "text/plain": [
       "   Count  Fraction\n",
       "e   4208      51.8\n",
       "p   3916      48.2"
      ]
     },
<<<<<<< HEAD
     "execution_count": 28,
=======
     "execution_count": 68,
>>>>>>> 56da65d1571454645f7c77a7b0a709d80ecfc0a7
     "metadata": {},
     "output_type": "execute_result"
    }
   ],
   "source": [
    "#| echo: false\n",
    "vals = data['class'].value_counts().index.values.tolist()\n",
    "\n",
    "class_count = data['class'].value_counts().values\n",
    "\n",
    "class_frac = data['class'].value_counts().to_list()\n",
    "class_frac = [round((i/sum(class_frac))*100, 2) for i in class_frac]\n",
    "\n",
    "pd.DataFrame(zip(class_count,class_frac), columns=['Count','Fraction'], index= vals)"
   ]
  },
  {
   "cell_type": "markdown",
   "metadata": {},
   "source": [
    "They are \"adequately\" balanced and there's no need for any oversampling techniques. "
   ]
  },
  {
   "cell_type": "markdown",
   "metadata": {},
   "source": [
<<<<<<< HEAD
    "## Exploratory Data Analysis"
=======
    "## EDA "
>>>>>>> 56da65d1571454645f7c77a7b0a709d80ecfc0a7
   ]
  },
  {
   "cell_type": "code",
<<<<<<< HEAD
   "execution_count": 29,
   "metadata": {},
   "outputs": [
    {
     "data": {
      "image/png": "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",
      "text/plain": [
       "<Figure size 1000x600 with 1 Axes>"
      ]
     },
     "metadata": {},
     "output_type": "display_data"
    }
   ],
   "source": [
    "#| echo: false\n",
    "# Population vs class \n",
    "\n",
    "cross_tab_prop = pd.crosstab(index=data['population'],\n",
    "                             columns=data['class'],\n",
    "                             normalize=\"index\")\n",
    "\n",
    "cross_tab_prop.plot(kind='bar', \n",
    "                    stacked=True, \n",
    "                    colormap='tab10', \n",
    "                    figsize=(10, 6))\n",
    "\n",
    "\n",
    "for n, x in enumerate([*cross_tab_prop.index.values]):\n",
    "    for (proportion, y_loc) in zip(cross_tab_prop.loc[x],\n",
    "                                   cross_tab_prop.loc[x].cumsum()):\n",
    "        if proportion != 0:\n",
    "                \n",
    "            plt.text(x=n - 0.17,\n",
    "                    y=y_loc,\n",
    "                    s=f'{np.round(proportion * 100, 1)}%', \n",
    "                    color=\"black\",\n",
    "                    fontsize=12,\n",
    "                    fontweight=\"bold\")\n",
    "\n",
    "plt.xlabel(\"Population\")\n",
    "plt.ylabel(\"Proportion\")\n",
    "plt.xticks([0, 1, 2, 3, 4, 5],['abundant','clustered','numerous','scattered','several','solitary'], rotation = 0)\n",
    "plt.legend(labels=['Edible', 'Poisonous'], loc=4, fontsize='small', fancybox=True)\n",
    "plt.show() "
   ]
  },
  {
   "cell_type": "markdown",
   "metadata": {},
   "source": [
    "The main objective of our EDA is to find the variables that have the most effect on the mushroom class. Here we can see if the population is abundant or numerous then the class will definitely be edible. Poisonous mushrooms tend to follow different patterns in how they are populated or gathered so that should be a warning sign that this mushroom is poisonous."
   ]
  },
  {
   "cell_type": "code",
   "execution_count": 30,
   "metadata": {},
   "outputs": [
    {
     "data": {
      "image/png": "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",
      "text/plain": [
       "<Figure size 1000x600 with 1 Axes>"
      ]
     },
     "metadata": {},
     "output_type": "display_data"
    }
   ],
   "source": [
    "#| echo: false\n",
    "# Odor vs class\n",
    "\n",
    "cross_tab_prop = pd.crosstab(index=data['odor'],\n",
    "                             columns=data['class'],\n",
    "                             normalize=\"index\")\n",
    "\n",
    "cross_tab_prop.plot(kind='bar', \n",
    "                    stacked=True, \n",
    "                    colormap='tab10', \n",
    "                    figsize=(10, 6))\n",
    "\n",
    "\n",
    "for n, x in enumerate([*cross_tab_prop.index.values]):\n",
    "    for (proportion, y_loc) in zip(cross_tab_prop.loc[x],\n",
    "                                   cross_tab_prop.loc[x].cumsum()):\n",
    "        if proportion != 0:\n",
    "                \n",
    "            plt.text(x=n - 0.17,\n",
    "                    y=y_loc,\n",
    "                    s=f'{np.round(proportion * 100, 1)}%', \n",
    "                    color=\"black\",\n",
    "                    fontsize=12,\n",
    "                    fontweight=\"bold\")\n",
    "\n",
    "plt.xlabel(\"Odor\")\n",
    "plt.ylabel(\"Proportion\")                    \n",
    "plt.xticks([0, 1, 2, 3, 4, 5, 6, 7, 8],['almond','creosote','foul','anise','musty','none', 'pungent', 'spicy', 'fishy'], rotation = 0)\n",
    "plt.legend(labels=['Edible', 'Poisonous'], loc=4, fontsize='small', fancybox=True)\n",
    "plt.show()"
   ]
  },
  {
   "cell_type": "markdown",
   "metadata": {},
   "source": [
    "The second graph is for the proportion of the smell. So you can almost identify if it is edible or not by the smell which means that it is a discriminative feature of edibility. Foul, creosote, musty, pungent, spicy, and fishy odors are definitely poisonous while mushrooms that smell like almond or anise, or mushrooms that smell like nothing at all are definitely edible.\n",
    "This can indicate that this column **may** have a significant effect on our classification model."
   ]
  },
  {
   "cell_type": "code",
   "execution_count": 35,
   "metadata": {},
   "outputs": [
    {
     "data": {
      "image/png": "iVBORw0KGgoAAAANSUhEUgAAA04AAAINCAYAAAAJGy/3AAAAOXRFWHRTb2Z0d2FyZQBNYXRwbG90bGliIHZlcnNpb24zLjUuMywgaHR0cHM6Ly9tYXRwbG90bGliLm9yZy/NK7nSAAAACXBIWXMAAA9hAAAPYQGoP6dpAABbyUlEQVR4nO3deZyNdf/H8fc5s5zZzGIbg2EU2XfRoAhRRLoVUVmSVilKojRKKJW0cqeE0k2WpIhq7kjSYr1bkIpGNBrbjJkx6/n+/pifK6eZcc1MM47M6/l4nEfnfK/vdV2fczrXubznuq7v5TDGGAEAAAAACuX0dgEAAAAAcK4jOAEAAACADYITAAAAANggOAEAAACADYITAAAAANggOAEAAACADYITAAAAANggOAEAAACADV9vF3C2ud1uHTx4UBUqVJDD4fB2OQAAAAC8xBijEydOqHr16nI6z3xMqdwFp4MHDyo6OtrbZQAAAAA4R+zfv181a9Y8Y59yF5wqVKggKe/DCQ0N9XI1AAAAALwlJSVF0dHRVkY4k3IXnE6dnhcaGkpwAgAAAFCkS3gYHAIAAAAAbBCcAAAAAMAGwQkAAAAAbBCcAAAAAMAGwQkAAAAAbBCcAAAAAMAGwQmWXr16yeFwWI9du3Z5TF+6dKkuu+wyhYaGKigoSM2bN9cLL7yg3NzcIq/jzTff1JAhQ9S4cWNFRETI5XKpbt26uvfee3X48GGPvr/++qv69eunypUrq3Llyrruuuu0f/9+jz45OTlq3LixqlatquTk5JK/eZRLMTExHt/5gh7r1q2zXc5PP/2kwYMHq3r16vL391eNGjV066236sCBAx79cnNzNWXKFF144YUKDg5Wy5YttXLlynzLmzp1qhwOh/7zn/+U1lsFCrVt2zY99NBDat++vWrUqCF/f39VqVJFvXv31oYNGzz6Fuc33E5R9ynsC3A2HD16VOPHj1enTp0UFBRk7QOGDh1aYP8tW7bommuuUaVKlRQQEKBGjRpp2rRpysrKytc3MzNTU6dOVaNGjRQQEKBKlSqpb9++2rp1a7FqTElJ0bhx43ThhRfK5XIpMjJSN910k37++WePfkeOHNEtt9yiqKgohYeHq0ePHvr+++/zLa979+4KDAzU3r17i1VHuWbKmeTkZCPJJCcne7uUc8pbb71lJHk8du7caU1/9NFH800/9Rg4cGCR1+NyuQpdTp06dcyRI0eMMcbk5uaaFi1aGIfDYd566y3z1ltvGYfDYVq1amVyc3Ot5c2cOdNIMnPmzCm9DwPlRu3atQv9Pp56fP7552dcxvbt201oaGiB81avXt3s3bvX6vvss88aSeaGG24wX3zxhWnUqJHx8fExmzdvtvr89ttvJjg42HTs2LGs3jbg4fbbby/0++90Os2yZcusvkX9DbdT1H0K+wKcLdu2bSvw+zhkyJB8fdeuXWv8/f0L7N+9e3eTk5Nj9c3OzjZdu3YtsK/L5TKffPJJkepLTk42zZo1K3A5ERER5n//+5/Vt3fv3kaSmT59ulm1apUJCgoyNWvWNCkpKVafFStWGEnm4YcfLvmHdp4oTjYgOMEkJSWZypUrG4fD4fFDcCo4/fjjj8bpdBpJJjg42Lz66qvmvffeM40aNbL6LlmypEjrCggIMB07djSzZ882H3/8sZk8ebLHOh999FFjjDG7du0ykkyzZs2seZs2bWokmR9//NGqOzw8PN8OFCiqb775xmzYsMHjMWfOHOv7GBUVZbKyss64jEsvvdTqf8stt5g1a9Z4/EO0V69eVt9LLrnESDJbt241xvwZpCZMmGD1ufHGG43T6TRbtmwpmzcN/MXtt99uqlWrZh5++GHz4YcfmrffftvUr1/f+g7Xrl3b6lvU3/AzKc4+hX0Bzpbvv//eXHbZZeahhx4yt9xyS6HBKT093VSvXt2a/sgjj5hly5aZJk2aWG0vvfSS1f/555+32ps0aWKWLVtmHnnkEautZs2aJiMjw7a+0aNHW/NcdtllZsWKFR77mosvvtiqz+l0mrCwMON2u40xfwapjz76yBhjTEZGhrnwwgtNjRo1TGpqail9gv9cBKczIDjld+ONNxpJ5rbbbvP4C/yp4PTSSy9ZbUOHDrXmW7RokdXerVu3Iq1r7dq1+druu+8+azlXXXWVMcaYHTt2GEmmTZs2Vr82bdoYSdZfVW677bYiHREAimPkyJHW9zEuLu6MfU+cOGEcDoeRZPz9/U1mZqYxJu8vjCEhIUaScTgcJiEhwRhjTMuWLY0k89133xlj/ty2xowZY4wxZuPGjUaSGTFiRNm9QeAvNmzYYNLS0jzatm/f7vEX7UOHDhljiv4bfibF2aewL4A3zJo1q9DgtHjxYmtajx49rPZNmzZ5BKRTGjZsaLVv2rTJau/Ro4fVvnTp0jPWk5mZacLDw619ysGDB40xxrjdbtOgQQNrOZs3bzbHjx83kkzlypWt+a+77jojyaxcudIYY8zUqVONJLNw4cISf0bnk+JkA65xKufWrFmjhQsXqnr16po+fXqBfU4/Xzw4OLjA55s2bZLb7bZdX/fu3fO11atXL98yGzRooOrVq2vHjh3avn27duzYoR07dqhmzZqqX7++tm/frtdee02DBg1Shw4d7N8oUARpaWlasGCBJMnX11e33XbbGfunpKTIGCNJ8vPzk7+/vzWvy+WSJBljtGnTJklS165dJUlvvfWWUlNTtWTJEklSt27d5Ha7NWrUKIWFhWnKlCml/+aAQnTs2FFBQUEebaf/Lkuyphf1N/xMirNPYV+Ac83nn39uPW/fvr31vE2bNvLz85Mkfffddzp27JiOHj2qnTt3SsrbR1x88cUFzvvXawn/6rvvvtPx48cl5V2bGxUVJUlyOByKjY31WE5YWJjatGmjw4cPa/Xq1UpISNCnn36qkJAQtWvXTgcPHtTUqVPVoUMHDRo0qISfQvlFcCrHUlNTdccdd0iSXnnlFYWFhRXYr379+tbzFStWaNeuXTp27Jhmz55ttaelpenYsWMlqmP58uXW86uuukqS5O/vryVLligmJkYtW7ZUixYtFBMToyVLlsjf31+jRo1SYGCgFfbS09N19OjREq0fOOWtt95SSkqKJOnaa69V9erVz9g/MjLS2m7S0tL073//W+np6Zo3b56OHDli9Tt1IXtcXJyuv/56PfXUU6pQoYK++uorPfHEE7rqqqv0xhtvaMuWLZo0aZKqVKkiY4wSExOtYAacTcuWLbOeX3rppQoJCSm0b0G/4WdSnH0K+wKca/bt22c9j4yMtJ77+vqqYsWKHv1O71upUiX5+PhYr6tWrWo9txucobB1FracN998U61bt1avXr1Uu3Zt+fv76z//+Y+qVq2qcePGKT09XS+88IIkKSsrS0lJSWdcP05Txke/zjmcqvenUaNGGUnm+uuvt9oKOlUvMzPTXHTRRQVekHj647fffit2DQ8//LA1/yWXXGKys7Pz9Tl48KB1WNoYY/7zn/8YSeaJJ54wSUlJpk+fPtb58k2aNDHbtm0r/ocBGONx4e26deuKNE9cXJzttvHEE094zJOammp++eUX6/qp48ePm6pVq5qGDRua7Oxs89xzz1mn+oWEhJjnnnuutN8qUKjNmzebsLAwI+VdvH764CV/VZTf8L8q6T6FfQHOljOdqtelSxdr2ty5cz2mRUdHW9M2bNhgPvvsM+t1rVq1PPq+/vrr1rSuXbuesZ4FCxZ4XN90uokTJ1rThg8f7jEtKSnJJCQkWNc6ffHFF8bhcJhbb73VpKWlmWHDhhlfX18j5V3LWNSBKs43XON0BgSnPDt37jROp9NERESYxMREq72g4GSMMfv27TOXX365x06tV69eJiAgwHpd3AsM77//fmveBg0amD/++MN2nrS0NBMdHW3q1KljTp48aQYOHGgkmUGDBpnJkycbh8Nh6tSpU6QLLYHTbdiwwfo+Nm7cuMjz5ebmmgkTJpjAwECPHWTbtm2t16dfKFyQMWPGGElm7dq1Zu3atUaSueCCC8y///1vc8EFF1jTgLK2YcMGa5RIX19fs3z58kL7luQ3/JS/u09hX4CydKbgdGqgBUlm1qxZHtMiIyOtaVu3bjVbtmyxXkdGRha6jj59+pyxnmXLlll927Vr5zFt3Lhx1rRRo0YVugy3223atGljwsLCzKFDh8z48eONlDcK4MyZM01AQIAJCwsr1nZ8viA4nQHBKc+nn35q+9c+SaZ58+Ye8x04cMB8/fXX5tChQyYhIcHqd/qoS3Zyc3Oti3mlvNGSTg9vZ3LqLyvLly83OTk5xs/Pz/j7+1s72Pbt2xtJ5rPPPityPYAxxvqHlyTzyiuvFHv+tLQ0s2XLFrNr1y6Tk5Pj8VfJTz/9tND5du3aZfz8/Kwd57Bhw4z057DKr776qpHyRuwDytLatWtNUFCQdaRpxYoVBfb7O7/hf1XSfQr7ApSlMwWne+65x5o2adIkqz07O9s6eiPJHD161Bw5csR67evr63FE9vSzFe69994z1nN6AIuJifGYNmTIEGvamc5OOHWEa8aMGcYYY+rUqWMkmT179hhjjBk0aJCRZBYsWFCET+j88o8ZHOKzzz5T7969Vb16dTkcDq1YscJ2nnXr1qlVq1bWTffmzZtX5nXiT9WrV9fFF1+sqlWr6plnnrHar7766iLNn5OTo5tvvlmvvvqqJOmSSy7RunXr8p2zW5B9+/bp6aefVteuXXXttdfqyJEjys7OVuXKla2LimNiYiRJiYmJxXxnKM/++OMP65qO0NBQ3XzzzcVeRlBQkFq1amVdsH7qxrmVKlXSJZdcUuh89913n5xOp2bMmCHpz+9u7dq1JfGdxtnx7rvvqnfv3kpPT1dwcLBWrVqla665Jl+/v/MbXpCS7FPYF8CbOnbsaD3/4osvrOfffPONcnJyJElNmjRRRESEKlasqIYNG0rK23a++eYbq/+pQYOkvOsIz6RJkybW9bS//vqrdXN1Y4y+/PJL2+WkpKRowoQJatCggUaOHCmJfU1J+Xpz5WlpaWrevLluueUW/etf/7Ltv3fvXvXq1Ut33HGHFi5cqPj4eN16662KiopSjx49zkLF54+6devqueeey9f++OOPW4M8jB8/Xo0bN5Yk3X777QoPD9cll1wip9OpFStWWKE1ODhY999/v8dyHA6HpLwN8vSLGvv166eVK1dKkqKjozVp0iSPu1mHhYWpadOmBdb8wAMPKCcnR88//7wkqUqVKgoKCtLx48eVk5MjX19f6wLHUz8EQFHMmTPHutv74MGDC7wQfujQoZo/f74k6dNPP1Xnzp0lSatWrdLcuXOtPwJ9++23mjJlijXK5IMPPqiAgIAC1/vBBx9ozZo1euihh3ThhRdK+nPndeq7zHcaZW3JkiUaOHCgcnNz5XA4FBcXJ5fL5TF62MUXXyyXy1Xs3/DC9gXF3aecjn0BykJ6erpWr14tSdq2bZvV/uuvv2rp0qWS8raDU7/1Bw8e1EcffaSHH35YrVu31qOPPmrNc2rgrVPP7733XknSiBEj9Pjjj2vr1q366KOPJEk1a9b0+ENB586dtX79ekl5/+6NiYmRv7+/brnlFj333HMyxmjgwIF64IEHtGrVKu3evVtS3qh+rVu3LvC9Pf744zp06JDmz59vjfwXExOjnTt3KikpSdWrV2ebKaoyP/5VRJLMu+++e8Y+Dz74YL5rDwYMGOAxjr4dTtU7s8KucbrmmmsKPJXPz8+vwPsPnJr+19MtClrG6Y9OnToVWNd///tfI8ncc889Hu333nuvkWQee+wxs2LFCuPv789NEFEsOTk5platWtZ38Icffiiw3+mnQ5x+6t27775b6Pf5+uuv97iD/OkyMzNNvXr1TFRUlDlx4oTVvmXLFuN0Os0ll1xivvjiCxMbG2ucTqd101ygtJ3+3S7ssXfvXmNM8X/DC9sXFHefcgr7ApSVvXv32n6/33jjDWNM3mmtp9/4+fRH9+7dPX73s7OzTdeuXQvs63K58g3I0KlTp3zbnTF5/349fQCj0x/h4eHWfc3+6tTp4L179/Zof+6554wkc8cdd5j4+HhTqVKlcntD3H/kNU5FCU6XXnppvvNA586da0JDQwudJyMjwyQnJ1uP/fv3E5zOoLDg9MYbb5j27dubypUrGz8/PxMVFWUGDRpkvv322wKXU5rBKScnxzRt2tRUqlTJHD161GPayZMnzejRo02NGjVMRESE6du3r9m/f//f/hxQfqxYscL6/nXp0qXQfoUFp127dpl+/fqZWrVqGZfLZUJDQ03Hjh3NvHnzrJGMCvLUU08ZSWb+/Pn5pr333numWbNmJigoyDRr1qzQa02A0uCN4FTcfYox7AtQtooTnIzJG32yd+/eJiIiwrhcLtOwYUMzdepU60bop8vIyDBTpkwxDRo0MC6Xy1SsWNH06dPHbNmyJV/fwoKTMXn/wB87dqypU6eO8ff3N1WrVjWDBg2yrlMqyFVXXWX8/f3z9cnJyTFTpkwxderUMRUqVDBdunQx33//ffE+tPNEcYKTw5hz4yYhDodD7777rvr27Vton4suukjDhg3T+PHjrbbVq1erV69eSk9PV2BgYL55Jk2apMceeyxfe3JyskJDQ0uldm+o9ul2b5dQ7iVe3sLbJZRrbAPexzbgfWwH3sd24H0xD63ydgnl3r4ne3m7hBJLSUlRWFhYkbLBeX8D3PHjxys5Odl6nLoRJQAAAAAUlVcHhyiuatWq6dChQx5thw4dUmhoaIFHmyTJ5XLJ5XKdjfIAAAAAnKf+UUecYmNjFR8f79H28ccfKzY21ksVAQAAACgPvBqcUlNTtX37dm3fvl1S3rCL27dvV0JCgqS80+wGDx5s9b/jjjv0yy+/6MEHH9SuXbv0yiuv6J133tHo0aO9UT4AAACAcsKrwWnz5s1q2bKlWrZsKUkaM2aMWrZsaY2F//vvv1shSpLq1KmjVatW6eOPP1bz5s317LPP6rXXXuMeTgAAAADKlFevcercubPONKjfqZvh/XWe029MBgAAAABl7R91jRMAAAAAeAPBCQAAAABsEJwAAAAAwAbBCQAAAABsEJwAAAAAwAbBCQAAAABsEJwAAAAAwAbBCQAAAABsEJwAAAAAwAbBCQAAAABsEJwAAAAAwAbBCQAAAABsEJwAAAAAwAbBCQAAAABsEJwAAAAAwIavtwsAAG/LOZCgtAWvKmvrV3InH5czLEL+7TooZMid8qlS1ep38qMPlLX1K2Xv/kHuI0kymRnyqVJN/pd0VMjNI+QMiyjS+rJ2bNbJjz5Q9vf/U+7+fZIxkqSIGXPk36KNR9/sX/YoddYMZe/6Tg5XgPzbdVCF20fLGRpm9XGnntDhwdfIGRahSq8tlsOHn3YAAEobe1cA5Vr2z7t17L5bZdJSrTb3kSRlrF6hrK82quKL8+RTrbokKeXZyVJ2lsf8uQf36+Ty/yhr02eqOGuhR6ApTOaGT5Xx4Xu2/dzpaTo+7m65004o/NHpytn3i1JfnSmTkqzwyc9Z/dLm/1vm+DFVeHgqoQkAgDLCqXoAyrUTLzxlhaaAq65R+FMvK7B3P0l5ASrlhSf/7OxwyK9pS1UY/bDCn56l4GF3SX5+kqTc3w8offnbRVqns2JFuS7rppA7x8inZu1C+2V/v0PuI0lytWon1yWXKmjAYDmCQ5S56TOZrExJUs6vvyh9xWK5OlwuV+tLSvIRAACAIuBPkwDKLffJdGV/tz3vhZ+fQu97WA4/P/m3aquMTz6UOZmurK8+V+4fifKpWk3hk5+T6+JYa35X60tkUpKVvmyhJCl71/dFWm/woOHW88x1Hyu3kH4m6/+PbvnmhTOHwyH5+kput0x2thz+Lp14+RnJ6VTInWOK9d4BAEDxcMQJQLll0lKt64scPr5y/P/RI4ePr+Tn//+djLJ/+J8keYSmU3xq1rKeOwICS7U+v4ZN5QgIVNaOzco99Lsyv9wgk3xcvg2ayBkcooyN65S1eZOC+98s3+o1S3XdAADAE8EJQLnljKgkR3CIJMlknFT6+0tlMk7q5JqVMinHrX65fyQWuozMDfHWc1e7DqVan0/FSgp9eKocvr46PLCnjk8YJd/6jRQ2/gmZrCylzpohZ+Wq1hEsd1qq3KddqwUAAEoPp+oBKLccPj4K6nej0hb8W5J04rkpOvHclHz9rFPm/iL19ZeVtfVrSZJfo6YK6H51qdcY0KGzXO07yZ10SA6Xyxq5L+3tuco9uF+hE6bIffyokh+aaJ126Ne4ucLGPyGfqBqlXg8AAOUVR5wAlGvBg29T8I3DJVeA1easWk2+DZr8+TqkQr75TsyaobSFr0mSfGrVUfgTM8tsRDuHwyGfqtWs0JR7JElpC1+XX+PmCuh6lZKnPqzsb7cp6NqBCrp2oLK/267kqQ+XSS0AAJRXHHECUK45nE6FDB+p4BuHKydhnxwBgfKpEa3jD95l9fGNudB6btxunZg5VSc/WJY37YJ6Cp8+S87wimet5tRXn5fJzFCFex6U+49EZX+/Q84qkaowcqwkKeOzT5T9/Q5rUAsAAPD3ccQJAJQ3sIPfRQ3lWytGOT/vVtaOzXntoeHya9RUkmRyc5Qy7RErNPk1aqqI516TT8VKZ63OrB/+p4xPVivgyj7yu6iR3EePSJJHQPKJjJIkaxoAAPj7OOIEoFzL/HKDTn64Qq7YTnJWqqKcvXuUtvB1ye2WJAXfMEQOf5ckKTnuAWV+sV5S3ul8wUPuUM6+n61lOYJD5HdBPev1oS4t8/pGRqnKf1Zb7Tn7flbOr79Iktwnkq32rB1b5E4+JkkK6HRFvlqNMTrx4nQ5goJVYfg9kmTdnPfUfKc/PxWgAADA30dwAlCumZwcZW74rzI3/DffNFenKxR0/c3W61OhSZLcfyTq+Li7Pfr7NW+tis+9ZrvOjHUfWwNSnC5t/mzrecB/t+Wfb81K5ez+XiF3jpEzIu/UQGdERbk6dFbmxnVKX7VcDodDub8lyNXhcqsPAAD4+whOAP6RAtYeKJXl+BwJUvZF7ZWZuEe5acfl8PGTf9UYhTTroeAmXeT4pPChyP/KeTSzwLocJ3M92jN+TrFd1l+X485MV9KcmfKtWFMVgy+T47TpVdrcoWPJvkqb9aIkKbhJV0W0GSGfUvqMCnV5i7JdPgAA5xCCE4Byza9STVW5dkKR+tYe90Gxll1Y//CONyq8443FWpbTFaTokW8VOM0nIESVe91XrOUBAIDiYXAIAAAAALBBcAIAAAAAGwQnAAAAALBBcAIAAAAAGwQnAAAAALBBcAIAAAAAGwQnAAAAALBBcAIAAAAAGwQnAAAAALBBcAIAAAAAGwQnAAAAALBBcAIAAAAAGwQnAAAAALBBcAIAAAAAGwQnAAAAALBBcAIAAAAAGwQnAAAAALBBcAIAAAAAGwQnAAAAALBBcAIAAAAAGwQnAAAAALBBcAIAAAAAGwQnAAAAALBBcAIAAAAAGwQnAAAAALBBcAIAAAAAGwQnAAAAALBBcAIAAAAAGwQnAAAAALBBcAIAAAAAGwQnAAAAALBBcAIAAAAAGwQnAAAAALBBcAIAAAAAGwQnAAAAALBBcAIAAAAAGwQnAAAAALBBcAIAAAAAGwQnAAAAALBBcAIAAAAAGwQnAAAAALBBcAIAAAAAGwQnAAAAALBBcAIAAAAAGwQnAAAAALBBcAIAAAAAGwQnAAAAALBBcAIAAAAAG14PTi+//LJiYmIUEBCgdu3a6euvvz5j/5kzZ6p+/foKDAxUdHS0Ro8erYyMjLNULQAAAIDyyKvBafHixRozZozi4uK0detWNW/eXD169NAff/xRYP+3335bDz30kOLi4rRz5069/vrrWrx4sSZMmHCWKwcAAABQnng1OM2YMUMjRozQsGHD1KhRI82ePVtBQUGaO3dugf2/+OILdejQQYMGDVJMTIy6d++ugQMH2h6lAgAAAIC/w2vBKSsrS1u2bFG3bt3+LMbpVLdu3bRp06YC52nfvr22bNliBaVffvlFq1evVs+ePQtdT2ZmplJSUjweAAAAAFAcvt5a8eHDh5Wbm6vIyEiP9sjISO3atavAeQYNGqTDhw+rY8eOMsYoJydHd9xxxxlP1Zs2bZoee+yxUq0dAIDzRdLAnnIf+v2MfSJmzJEkHRsz4oz9nJFRqvKf1bbrzNqxWSc/+kDZ3/9Pufv3ScZY6/Fv0cajb/Yve5Q6a4ayd30nhytA/u06qMLto+UMDbP6uFNP6PDga+QMi1Cl1xbL4eO1f94AOI95fXCI4li3bp2mTp2qV155RVu3btXy5cu1atUqTZ48udB5xo8fr+TkZOuxf//+s1gxAADnAd+iBRFHEftlbvhUGR++p9yEvVZoKog7PU3Hx92trO+3K+zhqQq67iZlfPieUp6e5NEvbf6/ZY4fU4WRYwlNAMqM135dKleuLB8fHx06dMij/dChQ6pWrVqB80ycOFE333yzbr31VklS06ZNlZaWpttuu00PP/ywnM78OdDlcsnlcpX+GwAA4DwQPulpmawsj7achL068WzeHyWdlSrLr0FjmYwMRTyf/xrk9CVvKfPz/0qSXB0uL9I6nRUrynVZN/k1bqaT7y9T7m+/Ftgv+/sdch9Jkqt9J7kuuVT+7ToqbeFrytz0mUxWphz+LuX8+ovSVyyWq8PlcrW+pDhvHQCKxWvByd/fX61bt1Z8fLz69u0rSXK73YqPj9fIkSMLnCc9PT1fOPLx8ZEkmTP8xQoAABTMr37jfG0Zn661ngf26ieHr58cIX7yb9rSo5/JylLWt1vzXjidCuxzfZHWGTxouPU8c93Hyi2knxXofP0kSQ6HI+/ol9stk50th79LJ15+RnI6FXLnmCKtGwBKyqvHs8eMGaMhQ4aoTZs2atu2rWbOnKm0tDQNGzZMkjR48GDVqFFD06ZNkyT17t1bM2bMUMuWLdWuXTv99NNPmjhxonr37m0FKAAAUHLm5EllfLwq74WPrwKv/lehfTPWfSSTfFyS5H9xe/lWr1mqtfg1bCpHQKCydmxW7qHflbP3J5nk4/Jt0ETO4BBlbFynrM2bFHzj8FJfNwD8lVeD04ABA5SUlKRHH31UiYmJatGihdasWWMNGJGQkOBxhOmRRx6Rw+HQI488ogMHDqhKlSrq3bu3pkyZ4q23AADAeeXkJ6tk0lIlSa6Ol8unctXC+658x3oedE3/Uq/Fp2IlhT48VSdmTtHhgXkj6PrWb6Sw8U/IZGUpddYMOStXtY5guf+/bmdwSKnXAgBev4Jy5MiRhZ6at27dOo/Xvr6+iouLU1xc3FmoDACA8ufke6eFob6Fh6HsPbuU/cO3kiSfqJryb9uhTOoJ6NBZrvad5E46JIfLJWdYhCQp7e25yj24X6ETpsh9/KiSH5qo7O+2S5L8GjdX2Pgn5BNVo0xqAlA+/aNG1QMAAGUn69ttyvlljyTJJ+ZC+TdvU2jf9PcWW88D+1wvRwEDNJUWh8Mhn6rVrNCUeyRJaQtfl1/j5groepWSpz6s7G+3KejagQq6dqCyv9uu5KkPl1k9AMonrx9xAgAA5waPo01nOPXOnXpCGf9dk/fCFaDAq64p69I8pL76vExmhirc86DcfyQq+/sdclaJVIWRYyVJGZ99ouzvdyj3j0T5VC14pF4AKC6OOAEAALmPHVXGhnhJkiM4RAHdry6078k1K6WMDElSwOU9PG5GW9ayfvifMj5ZrYAr+8jvokZyHz0iSR4ByScySpKsaQBQGjjiBAAAlL5quZSdLUkKuKKXnIFBBfYzxujkyiXW6zNdB3WoS97w5c7IKFX5z2qrPWffz8r59RdJkvtEstWetWOL3MnH8mrodEWB6z7x4nQ5goJVYfg9kiSfatXzlvP/853+/FSAAoDSQHACAKCcM7m5OvnBMuv1mU7Ty9rylXXDWr+GTeV3UaNiry9j3cdKW/DvfO1p82dbzwP+uy3/fGtWKmf39wq5c4ycERUlSc6IinJ16KzMjeuUvmq5HA6Hcn9LkKvD5VYfACgNBCcAAP6hAtYeKJXlpO/5Uu4/EvOWWbuZQna5pF0FLztl+XzreegFVxSpBsfJXI9+GT+n2M7z1+W6M9OVNGemfCvWVMXgy+Q4bXqVNnfoWLKv0ma9KEkKbtJVEW1GyKeUPp8zurxF2a8DwDmB4AQAQDkXVO8S1R73QZH6Vv3XI0VebmHLDO94o8I73ljk5UiS0xWk6JFvFTjNJyBElXvdV6zlAUBxMTgEAAAAANggOAEAAACADYITAAAAANggOAEAAACADYITAAAAANggOAEAAACADYITAAAAANggOAEAAACADYITAAAAANggOAEAAACADYITAAAAANggOAEAAACADYITAAAAANggOAEAAACADYITAAAAANggOAEAAACADYITAAAAANggOAEAAACADYITAAAAANggOAEAAACADYITAAAAANggOAEAAACADYITAAAAANggOAEAAACADYITAAAAANggOAEAAACADYITAAAAANggOAEAAACADYITAAAAANggOAEAAACADYITAAAAANggOAEAAACADYITAAAAANggOAEAAACADYITAAAAANggOAEAAACADYITAAAAANggOAEAAACADYITAAAAANggOAEAAACADYITAAAAANggOAEAAACADYITAAAAANggOAEAAACADYITAAAAANggOAEAAACADYITAAAAANggOAEAAACADYITAAAAANggOAEAAACADYITAAAAANggOAEAAACADYITAAAAANggOAEAAACADYITAAAAANggOAEAAACADYITAAAAANggOAEAAACADYITAAAAANggOAEAAACADYITAAAAANggOAEAAACADYITAAAAANggOAEAAACADYITAAAAANggOAEAAACADYITAAAAANggOAEAAACADYITAAAAANggOAEAAACADa8Hp5dfflkxMTEKCAhQu3bt9PXXX5+x//Hjx3X33XcrKipKLpdLF110kVavXn2WqgUAAABQHvl6c+WLFy/WmDFjNHv2bLVr104zZ85Ujx49tHv3blWtWjVf/6ysLF1xxRWqWrWqli5dqho1aujXX39VeHj42S8eAAAAQLnh1eA0Y8YMjRgxQsOGDZMkzZ49W6tWrdLcuXP10EMP5es/d+5cHT16VF988YX8/PwkSTExMWezZAAAAADlkNdO1cvKytKWLVvUrVu3P4txOtWtWzdt2rSpwHlWrlyp2NhY3X333YqMjFSTJk00depU5ebmFrqezMxMpaSkeDwAAAAAoDi8FpwOHz6s3NxcRUZGerRHRkYqMTGxwHl++eUXLV26VLm5uVq9erUmTpyoZ599Vk888USh65k2bZrCwsKsR3R0dKm+DwAAAADnvxKdqpebm6t58+YpPj5ef/zxh9xut8f0//73v6VS3F+53W5VrVpVr776qnx8fNS6dWsdOHBATz/9tOLi4gqcZ/z48RozZoz1OiUlhfAEAAAAoFhKFJzuvfdezZs3T7169VKTJk3kcDiKvYzKlSvLx8dHhw4d8mg/dOiQqlWrVuA8UVFR8vPzk4+Pj9XWsGFDJSYmKisrS/7+/vnmcblccrlcxa4PAAAAAE4pUXBatGiR3nnnHfXs2bPEK/b391fr1q0VHx+vvn37Sso7ohQfH6+RI0cWOE+HDh309ttvy+12y+nMO8vwxx9/VFRUVIGhCQAAAABKQ4mucfL391fdunX/9srHjBmjOXPmaP78+dq5c6fuvPNOpaWlWaPsDR48WOPHj7f633nnnTp69Kjuvfde/fjjj1q1apWmTp2qu++++2/XAgAAAACFKdERp/vvv1/PP/+8XnrppRKdpnfKgAEDlJSUpEcffVSJiYlq0aKF1qxZYw0YkZCQYB1ZkqTo6GitXbtWo0ePVrNmzVSjRg3de++9GjduXIlrAAAAAAA7JQpOn3/+uT799FN9+OGHaty4sXVPpVOWL19e5GWNHDmy0FPz1q1bl68tNjZWX375ZbHqBQAAAIC/o0TBKTw8XNdee21p1wIAAAAA56QSBac33nijtOsAAAAAgHNWiYLTKUlJSdq9e7ckqX79+qpSpUqpFAUAAAAA55ISjaqXlpamW265RVFRUbrssst02WWXqXr16ho+fLjS09NLu0YAAAAA8KoSBacxY8Zo/fr1ev/993X8+HEdP35c7733ntavX6/777+/tGsEAAAAAK8q0al6y5Yt09KlS9W5c2errWfPngoMDFT//v01a9as0qoPAAAAALyuREec0tPTrXstna5q1aqcqgcAAADgvFOi4BQbG6u4uDhlZGRYbSdPntRjjz2m2NjYUisOAAAAAM4FJTpV7/nnn1ePHj1Us2ZNNW/eXJK0Y8cOBQQEaO3ataVaIAAAAAB4W4mCU5MmTbRnzx4tXLhQu3btkiQNHDhQN954owIDA0u1QAAAAADwthLfxykoKEgjRowozVoAAAAA4JxU5OC0cuVKXXXVVfLz89PKlSvP2LdPnz5/uzAAAAAAOFcUOTj17dtXiYmJqlq1qvr27VtoP4fDodzc3NKoDQAAAADOCUUOTm63u8DnAAAAAHC+K9Fw5AsWLFBmZma+9qysLC1YsOBvFwUAAAAA55ISBadhw4YpOTk5X/uJEyc0bNiwv10UAAAAAJxLShScjDFyOBz52n/77TeFhYX97aIAAAAA4FxSrOHIW7ZsKYfDIYfDoa5du8rX98/Zc3NztXfvXl155ZWlXiQAAAAAeFOxgtOp0fS2b9+uHj16KCQkxJrm7++vmJgY9evXr1QLBAAAAABvK1ZwiouLU25urmJiYtS9e3dFRUWVVV0AAAAAcM4oVnCSJB8fH91+++3auXNnWdSDsyRr+2YdGzOi0OnBg29XyNA7rNfZP/6gtAWvKuu77TInT8qneg0FXtFLQdcPlsPPr0jrdKckK+0/byhz02fKTTwo5ebKGVFRfk1aKHjgMPnVa2D1zfj8U6Ut+LdyfvtVPhGVFdirr4JuGCaH88/L8rK+265jo4Yp8Op+Ch3zSAk+BQAAAKBoSjQ4RJMmTfTLL7+Udi04R2V+s0lH7xmqzC/Wy6QkS9lZyv11r1Jfe0nHH75Xpgg3PDZZWTp633ClL56v3IS9UlamlJsj9+E/lLnuIx29Z6iy9+ySJGXv+l7Jkx6Qyc5WxNOz5dugsVJfe0npy//z5/Lcbp14cbocIRUUMvzuMnvvAAAAgFSCI06S9MQTT+iBBx7Q5MmT1bp1awUHB3tMDw0NLZXicHZUGPmgfE872iNJPlWrSZJMZoZSpsdJ2dmSpOCbbpVv3QZKmz9bOXt/UtbmTTr5/lIF9R1wxnVkfvOFcvf9LElyhFRQhXvGyVkhVKmvv6Scn3+UsjJ18sMV8qv3kDI2xEtutwJ7Xiv/xs3l8PNX5qdrlbn+YwVfd6Mk6eSHK5SzZ6cq3D1WzrCI0v5IAAAAAA8lCk49e/aUJPXp08djWPJTw5TnFuEIBM4dvhfUk3/TlgVOy9z0mdxHkiRJ/he3V8gteUd3nJWr6NjIIZJUpOBk0lKt5/6t2inwil6SpNzEgzrxwpN5E059b7KzJMk6BdDh55+3jKy8dnfqCaXNfVk+tesosG//Yr1XAAAAoCRKFJw+/fTT0q4DXpQ8ZYLcKcflcAXIr35jBd0wRK7Wl0iSsr7dZvXza9zsz+f1G0m+vlJOjnL2/iT3iRQ5KxR+pNG/aUvJx1fKzVHW1q908uNVclYI1clVy/M6OJ0K6JI3lL1/q3ZKX7pQGes/VkD3q3Xyk1V57a3bSZLSFvxb7mNHFT5+ihw+JfoKAwAAAMVSon91durUqbTrgBedOqJksrOVteVLZW39SqFjJynwyj55gzj8P2dEJeu5w8dXzgphch87IinvyNGZgpNPVA2FPTxFJ158Su5jR5Uy7c/BHHzr1FXI3Q/Iv3lrSZLrkksVPOxOpS2cq6SrO0oOh1yXd1fI4NuUk7BX6SsWy9Whs1xt8sKd+/hROYIrFHmQCgAAAKC4Svzn+uPHj+v111+3Rtdr3LixbrnlFoWFhZVacShDTqf8WlysgEu7yKdGtEzqCaUteVM5u3+QjNGJl59WQKcrpIwMaxaH71+CyWlBxWSctF9l5aryqVZD7mNHPdpzEvYpc8N/5d+8tXUEKeTm2xQ8cJhy/zgkn4hKcgQGSpJOvPyM5HAq5I4xytz6lVKefkzuQ79LPr4KuKKXQkeNkyMgsKSfCgAAAFCgEo2qt3nzZl144YV67rnndPToUR09elQzZszQhRdeqK1bt5Z2jSgD/s1aqeKMVxV07Q1yte2ggC5XKuLp2XIE593U2KSlKuv7HVJAgDWP+f9rjyz/P2CEJNuwkpOwV8fuv13ZO7+VT606qjR/haq8t16uzt2l3BydfO8dpS+a7zGPw9dPvtVrWqEp84v1yvrmCwVdf5OcwcFKjntA7qNHVOHusfJv1VYZa95T6luv/Z2PBQAAAChQiYLT6NGj1adPH+3bt0/Lly/X8uXLtXfvXl199dW67777SrlEnC3OkAryqVnLeu1OPiafatX/fH3akSKTmyN3SrL1+vR+Bcn4eJU16EPglX3kG11bzgqhCr7+5j/7fF74tXMmO1snZj0rZ6UqCr5xuDK/3iiTlqqATt0U1G+QKtzzoCQp89OPivhuAQAAgKIr8RGncePGydf3zzP9fH199eCDD2rz5s2lVhzKTvaPP+Rrc6eeUO5vCdZrZ0RFj9H2sr/f8efzXd9LuTmS8q5ROtP1TZLkTj5uPTcn0/9sP5n2Z3tGugqTvvQt5R7Yr5Db7pUzMEjuo3nXVvlERuX99/+DW+6xw2esAwAAACiJEl3jFBoaqoSEBDVo4Hnvn/3796tChQqlUhjK1olZM2RSTyig+9XyvaCeTPJxpS150xo23BEWLv/GzSVJzkpV5D6SpKzNm5T6+kvyrddQqfNmWcsK7H2d9Txr+2YdGzNCkhTQo7fCxj0uSfKNucDqk/7eO/KJqilnaJhS58222v0urF9grblHkpT21mvya9RMAd3yhsI/FZTcx495/PdUkAIAAABKU4mC04ABAzR8+HA988wzat++vSRp48aNGjt2rAYOHFiqBaLs5Pz8o1Jnzcg/wddXofc/Kocr7/qm0Acf0/FH7pWys5W28HWPrv5tYj2CU2ECrrxG6e8uUu6B/TIpyXk31T2NIyhYwTfeWuC8qXNekMk4qQr3PGjdN8zV7lI5K1VRxob/ynV5d2Wu/0SSFHS1fS0AAABAcZUoOD3zzDNyOBwaPHiwcnLyTtfy8/PTnXfeqSeffLJUC0TZqHD7aGXEf6isbV8r93CSTFqqnOER8mvWSsE3DJVfvT+PJroujlXFF+cpdf6/lf3ddpmMDPlUr6HAK3op6PrBcvj42K7PGRSsii8tUNrbc5X51ed5w5zn5spZsZL8W7RR8I3D5VurTr75snd+q4yPVymgRx/51W9stTsCAxXx9CydeGm6kuMekDM0TMG33K1AmxvxAgAAACXhMMaYks6cnp6un3/+WZJ04YUXKigoqNQKKyspKSkKCwtTcnKyQkPPfF3OuSzmoVXeLqHc2/dkL2+XUK6xDXgf24D3sR14H9uB97EdeN8/eTsoTjYo8X2cJCkoKEjh4eHWcwAAAAA4H5VoVL2cnBxNnDhRYWFhiomJUUxMjMLCwvTII48o+7R7+wAAAADA+aBER5zuueceLV++XNOnT1dsbKwkadOmTZo0aZKOHDmiWbNm2SwBAAAAAP45ShSc3n77bS1atEhXXXWV1dasWTNFR0dr4MCBBCcAAAAA55USnarncrkUExOTr71OnTry9/f/uzUBAAAAwDmlRMFp5MiRmjx5sjIzM622zMxMTZkyRSNHjiy14gAAAADgXFCiU/W2bdum+Ph41axZU82bN5ck7dixQ1lZWeratav+9a9/WX2XL19eOpUCAAAAgJeUKDiFh4erX79+Hm3R0dGlUhAAAAAAnGtKFJzeeOON0q4DAAAAAM5Zf+sGuElJSdq9e7ckqX79+qpSpUqpFAUAAAAA55ISDQ6RlpamW265RVFRUbrssst02WWXqXr16ho+fLjS09NLu0YAAAAA8KoSBacxY8Zo/fr1ev/993X8+HEdP35c7733ntavX6/777+/tGsEAAAAAK8q0al6y5Yt09KlS9W5c2errWfPngoMDFT//v25AS4AAACA80qJjjilp6crMjIyX3vVqlU5VQ8AAADAeadEwSk2NlZxcXHKyMiw2k6ePKnHHntMsbGxpVYcAAAAAJwLSnSq3syZM3XllVfmuwFuQECA1q5dW6oFAgAAAIC3lSg4NW3aVHv27NHChQu1a9cuSdLAgQN14403KjAwsFQLBAAAAABvK3Zwys7OVoMGDfTBBx9oxIgRZVETAAAAAJxTin2Nk5+fn8e1TQAAAABwvivR4BB33323nnrqKeXk5JR2PQAAAABwzinRNU7ffPON4uPj9dFHH6lp06YKDg72mL58+fJSKQ4AAAAAzgUlCk7h4eHq169fadcCAAAAAOekYgUnt9utp59+Wj/++KOysrLUpUsXTZo0iZH0AAAAAJzXinWN05QpUzRhwgSFhISoRo0aeuGFF3T33XeXVW0AAAAAcE4oVnBasGCBXnnlFa1du1YrVqzQ+++/r4ULF8rtdpdVfQAAAADgdcUKTgkJCerZs6f1ulu3bnI4HDp48GCpFwYAAAAA54piBaecnBwFBAR4tPn5+Sk7O7tUiwIAAACAc0mxBocwxmjo0KFyuVxWW0ZGhu644w6PIckZjhwAAADA+aRYwWnIkCH52m666aZSKwYAAAAAzkXFCk5vvPFGWdUBAAAAAOesYl3jBAAAAADlEcEJAAAAAGwQnAAAAADABsEJAAAAAGwQnAAAAADABsEJAAAAAGwQnAAAAADABsEJAAAAAGwQnAAAAADABsEJAAAAAGwQnAAAAADABsEJAAAAAGwQnAAAAADAxjkRnF5++WXFxMQoICBA7dq109dff12k+RYtWiSHw6G+ffuWbYEAAAAAyjWvB6fFixdrzJgxiouL09atW9W8eXP16NFDf/zxxxnn27dvnx544AFdeumlZ6lSAAAAAOWV14PTjBkzNGLECA0bNkyNGjXS7NmzFRQUpLlz5xY6T25urm688UY99thjuuCCC85itQAAAADKI68Gp6ysLG3ZskXdunWz2pxOp7p166ZNmzYVOt/jjz+uqlWravjw4bbryMzMVEpKiscDAAAAAIrDq8Hp8OHDys3NVWRkpEd7ZGSkEhMTC5zn888/1+uvv645c+YUaR3Tpk1TWFiY9YiOjv7bdQMAAAAoX7x+ql5xnDhxQjfffLPmzJmjypUrF2me8ePHKzk52Xrs37+/jKsEAAAAcL7x9ebKK1euLB8fHx06dMij/dChQ6pWrVq+/j///LP27dun3r17W21ut1uS5Ovrq927d+vCCy/0mMflcsnlcpVB9QAAAADKC68ecfL391fr1q0VHx9vtbndbsXHxys2NjZf/wYNGujbb7/V9u3brUefPn10+eWXa/v27ZyGBwAAAKBMePWIkySNGTNGQ4YMUZs2bdS2bVvNnDlTaWlpGjZsmCRp8ODBqlGjhqZNm6aAgAA1adLEY/7w8HBJytcOAAAAAKXF68FpwIABSkpK0qOPPqrExES1aNFCa9assQaMSEhIkNP5j7oUCwAAAMB5xuvBSZJGjhypkSNHFjht3bp1Z5x33rx5pV8QAAAAAJyGQzkAAAAAYIPgBAAAAAA2CE4AAAAAYIPgBAAAAAA2CE4AAAAAYIPgBAAAAAA2CE4AAAAAYIPgBAAAAAA2CE4AAAAAYIPgBAAAAAA2CE4AAAAAYIPgBAAAAAA2CE4AAAAAYIPgBAAAAAA2CE4AAAAAYIPgBAAAAAA2CE4AAAAAYIPgBAAAAAA2CE4AAAAAYIPgBAAAAAA2CE4AAAAAYIPgBAAAAAA2CE4AAAAAYIPgBAAAAAA2CE4AAAAAYIPgBAAAAAA2CE4AAAAAYIPgBAAAAAA2CE4AAAAAYIPgBAAAAAA2CE4AAAAAYIPgBAAAAAA2CE4AAAAAYIPgBAAAAAA2CE4AAAAAYIPgBAAAAAA2CE4AAAAAYIPgBAAAAAA2CE4AAAAAYIPgBAAAAAA2CE4AAAAAYIPgBAAAAAA2CE4AAAAAYIPgBAAAAAA2CE4AAAAAYIPgBAAAAAA2CE4AAAAAYIPgBAAAAAA2CE4AAAAAYIPgBAAAAAA2CE4AAAAAYIPgBAAAAAA2CE4AAAAAYIPgBAAAAAA2CE4AAAAAYIPgBAAAAAA2CE4AAAAAYIPgBAAAAAA2CE4AAAAAYIPgBAAAAAA2CE4AAAAAYIPgBAAAAAA2CE4AAAAAYIPgBAAAAAA2CE4AAAAAYIPgBAAAAAA2CE4AAAAAYIPgBAAAAAA2CE4AAAAAYIPgBAAAAAA2CE4AAAAAYIPgBAAAAAA2CE4AAAAAYIPgBAAAAAA2CE4AAAAAYIPgBAAAAAA2CE4AAAAAYOOcCE4vv/yyYmJiFBAQoHbt2unrr78utO+cOXN06aWXKiIiQhEREerWrdsZ+wMAAADA3+X14LR48WKNGTNGcXFx2rp1q5o3b64ePXrojz/+KLD/unXrNHDgQH366afatGmToqOj1b17dx04cOAsVw4AAACgvPB6cJoxY4ZGjBihYcOGqVGjRpo9e7aCgoI0d+7cAvsvXLhQd911l1q0aKEGDRrotddek9vtVnx8/FmuHAAAAEB54dXglJWVpS1btqhbt25Wm9PpVLdu3bRp06YiLSM9PV3Z2dmqWLFigdMzMzOVkpLi8QAAAACA4vBqcDp8+LByc3MVGRnp0R4ZGanExMQiLWPcuHGqXr26R/g63bRp0xQWFmY9oqOj/3bdAAAAAMoXr5+q93c8+eSTWrRokd59910FBAQU2Gf8+PFKTk62Hvv37z/LVQIAAAD4p/P15sorV64sHx8fHTp0yKP90KFDqlat2hnnfeaZZ/Tkk0/qk08+UbNmzQrt53K55HK5SqVeAAAAAOWTV484+fv7q3Xr1h4DO5wa6CE2NrbQ+aZPn67JkydrzZo1atOmzdkoFQAAAEA55tUjTpI0ZswYDRkyRG3atFHbtm01c+ZMpaWladiwYZKkwYMHq0aNGpo2bZok6amnntKjjz6qt99+WzExMda1UCEhIQoJCfHa+wAAAABw/vJ6cBowYICSkpL06KOPKjExUS1atNCaNWusASMSEhLkdP55YGzWrFnKysrSdddd57GcuLg4TZo06WyWDgAAAKCc8HpwkqSRI0dq5MiRBU5bt26dx+t9+/aVfUEAAAAAcJp/9Kh6AAAAAHA2EJwAAAAAwAbBCQAAAABsEJwAAAAAwAbBCQAAAABsEJwAAAAAwAbBCQAAAABsEJwAAAAAwAbBCQAAAABsEJwAAAAAwAbBCQAAAABsEJwAAAAAwAbBCQAAAABsEJwAAAAAwAbBCQAAAABsEJwAAAAAwAbBCQAAAABsEJwAAAAAwAbBCQAAAABsEJwAAAAAwAbBCQAAAABsEJwAAAAAwAbBCQAAAABsEJwAAAAAwAbBCQAAAABsEJwAAAAAwAbBCQAAAABsEJwAAAAAwAbBCQAAAABsEJwAAAAAwAbBCQAAAABsEJwAAAAAwAbBCQAAAABs+Hq7AAAAAOB8FuDjUESgU06HtyspGxkZGd4uwZafn598fHz+1jIITgAAAEAZqVfRT3e2CVeFAB9J52dy2rt3r7dLsOVwOFSzZk2FhISUeBkEJwAAAKAMBPg4dGebcNWOjJBvUKjkOD+DU51qod4u4YyMMUpKStJvv/2mevXqlfjIE8EJAAAAKAMRgU5VCPCRb1CoHH4ub5dTZgICArxdgq0qVapo3759ys7OLnFwYnAIAAAAoAzkXdPkOG+PNP2TOErh/wHBCQAAAABsEJwAAAAAFGjWjCc1aewoSdLWr77Q9d07WtOaR0fo0O8HCpxv0qRJuvXWW89KjWcL1zgBAAAAZ0mflzaW2bJXjuxQ5L5XxTbT0cOH5XD+eRxl9IRJGjCk8LDTql17Lfno879V4z8ZwQkAAAAoh2YtXKZWbWO9XcY/BqfqAQAAAJAkHT1yWHfdfJ3aN6yl4f176+jhJGvaN5s+19UdW3n0j1+zSrVq1VK1atX09NNPF7rc9evXq3Xr1goPD1fnzp31888/l9l7KCsEJwAAAACSpGmPjFVEpcr6dNuPuufBR7Tq3SVn7P/ZJ2v13Xffad26dZoxY4bi4+Pz9dm/f7+uu+46zZw5U0eOHFG/fv10ww03lNVbKDMEJwAAAKAcuntwf3VsXNt6bN60Uf9d84Huun+CXAEBatGmnTpdceUZlzF85GiFhoaqQYMGGj58uBYvXpyvz8KFC3Xttdfq0ksvlY+Pj+655x7t27dP+/btK6N3VjYITgAAAEA59PKCd/T5979aj5gL6yonJ0fVqtew+pz+vCDVov6cHh0drd9//z1fn4SEBL355psKDw+3HmlpaTpwoOAR+c5VBCcAAAAAiqhUWb6+vko8+GegOf15QRJPG458//79ioqKytenRo0aGjFihI4fP2490tPT1aFD0UcBPBcQnAAAAADIx8dHl/fopdkznlRmRob+t/UbffbJmjPO88YrM5WSkqLdu3dr7ty56t+/f74+gwYN0pIlS7Rhwwa53W6dOHFCS5cuLau3UWYYjhwAAAA4S4pzr6WydueN/Tzu43TjLbdr/OTpemT0Xercop4aNWuhnn2vV3Z2dqHL6Nilu5o0aaLMzEyNHj1a3bp1y9enTp06WrRokcaOHatdu3YpODhYXbp00XXXXVcm76usEJwAAACAcubDTf8rdNqstwo+GnRxbEd98PlW6/WO/cckSU9OfDBf30mTJnm87tSpk7788ssSVHru4FQ9AAAAALBBcAIAAAAAGwQnAAAAALBBcAIAAAAAGwQnAAAAALBBcAIAAAAAGwQnAAAAALBBcAIAAAAAGwQnAAAAAGf0+4H96ti4trfL8CpfbxcAAAAAlBfd9+wrs2V/VC+myH2vim2mo4cPy+F0KjgkRN2v7qv7Jz4hX9+C40FUjWh9/v2vpVTpPxNHnAAAAIByaNbCZfpy92+au3SVPvpghZa/Pd/bJZ3TCE4AAABAOVa7zoVq1TZWP/24S4vnv6aeHVqoc/O6Gj/qNp1ISZYkHdifoFYxla155rzwjLq2bqD2DWupadOm+uGHHyRJ+/fvV8+ePRUREaFGjRrpvffes+bp3Lmz4uLi1KZNG4WGhmrAgAHKzMy0pr/yyiu64IILVKVKFd10001KTs5b97p161S3bl2Pmh0Oh3777TdJ0pQpUxQVFaXQ0FCPWkobwQkAAAAox/b9vEdbv96k+o2a6NUXntGLbyzS6k07lJmRoelx4/P13/vTj1ry1hta/OF6bfzhVy1ZskQVK1aUJA0cOFCNGzdWYmKiXnnlFd1000366aefrHnfeecdLVu2TAkJCfruu+/09ttvS5I+/vhjTZ48WR988IH27dunkydP6t5777WtfdeuXZo9e7a2bdum5ORkj1pKG8EJAAAAKIfuHtxfHRvX1l2Dr1ef6wdq++av1W/QEF14UQMFBQVr1LiJWvv+uzLGeMzn4+OrrKws/fLTj8rNzVWDBg1UrVo17d+/X5s3b9bjjz8ul8ulzp076+qrr9aSJUuseW+99VbVrl1b4eHh6tWrl3bs2CFJWrRokW677TY1atRIwcHBmjp1qhYvXpxv3X/l6+urzMxM7dy506OWskBwAgAAAMqhlxe8o8+//1WrN27XvQ/F6UjSIVWrUdOaHlUjWpmZGUo+fsxjvlp1LtD9Eyfrxacmq0vLi3TrrbcqJSVFBw8eVJUqVRQYGGj1rV27tg4ePGi9joyMtJ4HBQUpNTVVknTw4EHVqlXLY76MjAwdPXr0jO+hbt26evbZZzVhwgRFRkZatZQFghMAAAAAVYmMUuKB36zXvx/8TS5XgMLCI/L17d3vBr353kd6b/032rdvn2bMmKHq1asrKSlJGRkZVr+EhARVr17ddt3Vq1dXQkKCx3wBAQGqWLGigoODdfLkSWvaoUOHPOa9+eabtWnTJu3evduqpSwQnAAAAACoR+9rtfztBfplz26lp6fppelPqHvvvnI4HB799v28R99s+lzZWVkKCAyUy+WSj4+PoqOj1apVK8XFxSkrK0ufffaZ3n//fV133XW26x4wYIDmzJmjnTt3Ki0tTQ8//LD69+8vh8Ohiy66SMeOHdP69euVmZmpyZMnW/Pt3r1b69atU1ZWloKCgqxaygL3cQIAAADOkuLca+lsa9+pi24ZOVp3D+mv9NRUxV52uR6Mm5avX1ZWpp574lHt/XmP/P39ddWVPTR69GhJf16rVLVqVUVFRWn+/PmqV6+e7bq7d++u8ePHq2fPnjpx4oS6d++umTNnSpLCwsL0/PPPq3///vLx8dG0aX/WlJmZqbFjx2rXrl1yuVzq3r27VUtpcxi7K67OMykpKQoLC1NycrJCQ0O9XU6JxTy0ytsllHv7nuzl7RLKNbYB72Mb8D62A+9jO/C+c3k7qFHBR5Mur6qq1WvK4evv7XLKTLOa4d4uwVZGRob27t2rOnXqKCAgwGovTjbgVD0AAAAAsEFwAgAAAAAbBCcAAAAAsEFwAgAAAMqAu1yNJHBuK41hHQhOAAAAQBlIyzbKdbtlcnO8XUq5l5WVJUl/a6hyhiMHAAAAysCJTLe+PZShsOBjCgr3kf5yP6Tzxek3vD0Xud1uJSUlKSgoSL6+JY8/BCcAAACgDBhJ//n2hGqH+SniZIak8zM4+Z8M9HYJtpxOp2rVqpXvZr7FQXACAAAAysjRDLcmxB9W5SAf+ZynF8nE39/Z2yXY8vf3l9P59/4HnBPB6eWXX9bTTz+txMRENW/eXC+++KLatm1baP8lS5Zo4sSJ2rdvn+rVq6ennnpKPXv2PIsVAwAAAEWTY6TEtFxvl1FmTr+h7PnM67l38eLFGjNmjOLi4rR161Y1b95cPXr00B9//FFg/y+++EIDBw7U8OHDtW3bNvXt21d9+/bVd999d5YrBwAAAFBeeD04zZgxQyNGjNCwYcPUqFEjzZ49W0FBQZo7d26B/Z9//nldeeWVGjt2rBo2bKjJkyerVatWeumll85y5QAAAADKC6+eqpeVlaUtW7Zo/PjxVpvT6VS3bt20adOmAufZtGmTxowZ49HWo0cPrVixosD+mZmZyszMtF4nJydLklJSUv5m9d7lzkz3dgnl3j/9O/RPxzbgfWwD3sd24H1sB97HduB9/+Tt4FTtRbnPk1eD0+HDh5Wbm6vIyEiP9sjISO3atavAeRITEwvsn5iYWGD/adOm6bHHHsvXHh0dXcKqgTxhM71dAeBdbAMA2wEgnR/bwYkTJxQWFnbGPufE4BBlafz48R5HqNxut44ePapKlSr9reEIUXIpKSmKjo7W/v37FRoa6u1yAK9gOwDYDgC2Ae8zxujEiROqXr26bV+vBqfKlSvLx8dHhw4d8mg/dOiQqlWrVuA81apVK1Z/l8sll8vl0RYeHl7yolFqQkND+ZFAucd2ALAdAGwD3mV3pOkUrw4O4e/vr9atWys+Pt5qc7vdio+PV2xsbIHzxMbGevSXpI8//rjQ/gAAAADwd3n9VL0xY8ZoyJAhatOmjdq2bauZM2cqLS1Nw4YNkyQNHjxYNWrU0LRp0yRJ9957rzp16qRnn31WvXr10qJFi7R582a9+uqr3nwbAAAAAM5jXg9OAwYMUFJSkh599FElJiaqRYsWWrNmjTUAREJCgsddftu3b6+3335bjzzyiCZMmKB69eppxYoVatKkibfeAorJ5XIpLi4u3ymUQHnCdgCwHQBsA/8sDlOUsfcAAAAAoBzz+g1wAQAAAOBcR3ACAAAAABsEJwAAAACwQXCCh86dO+u+++4r8fz79u2Tw+HQ9u3bJUnr1q2Tw+HQ8ePHS6U+4J/mr9tEUUyaNEktWrQos5qA84nD4dCKFSu8XQZwTuDfXWWL4AQAAAB4CWHnn4PgBAAAAJRAVlaWt0vAWURwQj45OTkaOXKkwsLCVLlyZU2cOFGnRq0v6JSI8PBwzZs374zL3Lhxo5o1a6aAgABdcskl+u677zymL1u2TI0bN5bL5VJMTIyeffZZj+l2683KytLIkSMVFRWlgIAA1a5d27ppMnA2uN1uTZ8+XXXr1pXL5VKtWrU0ZcqUfP3mzZun8PBwj7YVK1bI4XDk6/vvf/9b0dHRCgoKUv/+/ZWcnFxW5QPF5na7NW3aNNWpU0eBgYFq3ry5li5dak1fvXq1LrroIgUGBuryyy/XvHnzPP6qXtApqTNnzlRMTIz1+ptvvtEVV1yhypUrKywsTJ06ddLWrVvPwrsDCta5c2eNHDlS9913nypXrqwePXpo/fr1atu2rVwul6KiovTQQw8pJyfHmiczM1OjRo1S1apVFRAQoI4dO+qbb76RlHc69+WXXy5JioiIkMPh0NChQyXZb2NS/u1s3759Z+VzKK8ITshn/vz58vX11ddff63nn39eM2bM0Guvvfa3ljl27Fg9++yz+uabb1SlShX17t1b2dnZkqQtW7aof//+uuGGG/Ttt99q0qRJmjhxom0YO90LL7yglStX6p133tHu3bu1cOFCj50vUNbGjx+vJ598UhMnTtQPP/ygt99+27qRd0n89NNPeuedd/T+++9rzZo12rZtm+66665SrBj4e6ZNm6YFCxZo9uzZ+v777zV69GjddNNNWr9+vfbv369//etf6t27t7Zv365bb71VDz30ULHXceLECQ0ZMkSff/65vvzyS9WrV089e/bUiRMnyuAdAUUzf/58+fv7a+PGjZo0aZJ69uypiy++WDt27NCsWbP0+uuv64knnrD6P/jgg1q2bJnmz5+vrVu3qm7duurRo4eOHj2q6OhoLVu2TJK0e/du/f7773r++eclnXkbk1Rq2xmKwQCn6dSpk2nYsKFxu91W27hx40zDhg2NMcZIMu+++67HPGFhYeaNN94wxhizd+9eI8ls27bNGGPMp59+aiSZRYsWWf2PHDliAgMDzeLFi40xxgwaNMhcccUVHsscO3asadSokfXabr333HOP6dKli0fdwNmSkpJiXC6XmTNnTr5pf90m3njjDRMWFubR59133zWn/xzHxcUZHx8f89tvv1ltH374oXE6neb3338vk/cAFEdGRoYJCgoyX3zxhUf78OHDzcCBA8348eM9fsONyduXSDLHjh0zxuR9z5s3b+7R57nnnjO1a9cudL25ubmmQoUK5v3337faCto/AGWlU6dOpmXLltbrCRMmmPr163v8++Pll182ISEhJjc316Smpho/Pz+zcOFCa3pWVpapXr26mT59ujHmz38rndo2jLHfxowxRdrOULo44oR8LrnkEo/ThmJjY7Vnzx7l5uaWeJmxsbHW84oVK6p+/frauXOnJGnnzp3q0KGDR/8OHToUa51Dhw7V9u3bVb9+fY0aNUofffRRiWsFimvnzp3KzMxU165dS22ZtWrVUo0aNazXsbGxcrvd2r17d6mtAyipn376Senp6briiisUEhJiPRYsWKCff/5ZO3fuVLt27TzmOX0/UFSHDh3SiBEjVK9ePYWFhSk0NFSpqalKSEgorbcCFFvr1q2t5zt37lRsbKzHv5s6dOig1NRU/fbbb/r555+VnZ3t8e8cPz8/tW3b1vp3UEHstrFT6y6N7QxF5+vtAvDP4nA4rOudTjl1yp0319uqVSvt3btXH374oT755BP1799f3bp1y3cuMFAWAgMDi9zX6XR6ZRsCSlNqaqokadWqVR4BX5JcLpdGjRplu4yibAtDhgzRkSNH9Pzzz6t27dpyuVyKjY3lgnx4VXBwcJmvw24bg3dwxAn5fPXVVx6vT51X7uPjoypVquj333+3pu3Zs0fp6em2y/zyyy+t58eOHdOPP/6ohg0bSpIaNmyojRs3evTfuHGjLrroIvn4+EhSkdYbGhqqAQMGaM6cOVq8eLGWLVumo0ePFvFdAyVXr149BQYGKj4+3rZvlSpVdOLECaWlpVltBd3jKSEhQQcPHrRef/nll3I6napfv36p1Az8HY0aNZLL5VJCQoLq1q3r8YiOjlbDhg319ddfe8xz+n5AytsWEhMTPcLTX7eFjRs3atSoUerZs6c1gNDhw4fL7H0BxdWwYUNt2rTJ43u8ceNGVahQQTVr1tSFF15oXQ91SnZ2tr755hs1atRIkuTv7y9JHmfZ2G1jp9Ztt52hdHHECfkkJCRozJgxuv3227V161a9+OKL1ih3Xbp00UsvvaTY2Fjl5uZq3Lhx8vPzs13m448/rkqVKikyMlIPP/ywKleurL59+0qS7r//fl188cWaPHmyBgwYoE2bNumll17SK6+8Ys1vt94ZM2YoKipKLVu2lNPp1JIlS1StWrV8o5cBZSEgIEDjxo3Tgw8+KH9/f3Xo0EFJSUn6/vvv852+165dOwUFBWnChAkaNWqUvvrqqwIHQgkICNCQIUP0zDPPKCUlRaNGjVL//v1VrVq1s/SugMJVqFBBDzzwgEaPHi23262OHTsqOTlZGzduVGhoqO644w49++yzGjt2rG699VZt2bIl3/e8c+fOSkpK0vTp03XddddpzZo1+vDDDxUaGmr1qVevnt588021adNGKSkpGjt2bLGO8AJl7a677tLMmTN1zz33aOTIkdq9e7fi4uI0ZswYOZ1OBQcH684779TYsWNVsWJF1apVS9OnT1d6erqGDx8uSapdu7YcDoc++OAD9ezZU4GBgbbb2JAhQ4q0naGUefMCK5x7OnXqZO666y5zxx13mNDQUBMREWEmTJhgXfR44MAB0717dxMcHGzq1atnVq9eXaTBId5//33TuHFj4+/vb9q2bWt27Njhsd6lS5eaRo0aGT8/P1OrVi3z9NNPe0y3W++rr75qWrRoYYKDg01oaKjp2rWr2bp1a5l+VsDpcnNzzRNPPGFq165tfY+nTp2ab5swJm8wiLp165rAwEBz9dVXm1dffTXf4BDNmzc3r7zyiqlevboJCAgw1113nTl69KgX3hlQMLfbbWbOnGnq169v/Pz8TJUqVUyPHj3M+vXrjTHGvP/++6Zu3brG5XKZSy+91MydOzffReuzZs0y0dHRJjg42AwePNhMmTLFY3CIrVu3mjZt2piAgABTr149s2TJElO7dm3z3HPPWX3E4BA4izp16mTuvfdej7Z169aZiy++2Pj7+5tq1aqZcePGmezsbGv6yZMnzT333GMqV65sXC6X6dChg/n66689lvH444+batWqGYfDYYYMGWKMsd/GjCnadobS4zDmLycYAwAAlLJ169bp8ssv17FjxzgbAMA/Etc4AQAAAIANghMAAAAA2OBUPQAAAACwwREnAAAAALBBcAIAAAAAGwQnAAAAALBBcAIAAAAAGwQnAMB5JSYmRjNnzrReOxwOrVixwmv1AADODwQnAIBXJCUl6c4771StWrXkcrlUrVo19ejRQxs3bpR0fgeeefPmcRNYAPiH8fV2AQCA8qlfv37KysrS/PnzdcEFF+jQoUOKj4/XkSNHvF1aobKysuTv7+/tMgAAXsARJwDAWXf8+HFt2LBBTz31lC6//HLVrl1bbdu21fjx49WnTx/FxMRIkq699lo5HA7r9c8//6xrrrlGkZGRCgkJ0cUXX6xPPvmkWOuOi4tTVFSU/ve//9n2jYmJ0eTJkzV48GCFhobqtttukyQtW7ZMjRs3lsvlUkxMjJ599lmP+Y4dO6bBgwcrIiJCQUFBuuqqq7Rnzx5J0rp16zRs2DAlJyfL4XDI4XBo0qRJxXoPAICzj+AEADjrQkJCFBISohUrVigzMzPf9G+++UaS9MYbb+j333+3Xqempqpnz56Kj4/Xtm3bdOWVV6p3795KSEiwXacxRvfcc48WLFigDRs2qFmzZkWq9ZlnnlHz5s21bds2TZw4UVu2bFH//v11ww036Ntvv9WkSZM0ceJEzZs3z5pn6NCh2rx5s1auXKlNmzbJGKOePXsqOztb7du318yZMxUaGqrff/9dv//+ux544IEi1QIA8B5O1QMAnHW+vr6aN2+eRowYodmzZ6tVq1bq1KmTbrjhBjVr1kxVqlSRJIWHh6tatWrWfM2bN1fz5s2t15MnT9a7776rlStXauTIkYWuLycnRzfddJO2bdumzz//XDVq1ChyrV26dNH9999vvb7xxhvVtWtXTZw4UZJ00UUX6YcfftDTTz+toUOHas+ePVq5cqU2btyo9u3bS5IWLlyo6OhorVixQtdff73CwsLkcDg83hsA4NzGEScAgFf069dPBw8e1MqVK3XllVdq3bp1atWqlceRm79KTU3VAw88oIYNGyo8PFwhISHauXOn7RGn0aNH66uvvtJnn31WrNAkSW3atPF4vXPnTnXo0MGjrUOHDtqzZ49yc3O1c+dO+fr6ql27dtb0SpUqqX79+tq5c2ex1g0AOHcQnAAAXhMQEKArrrhCEydO1BdffKGhQ4cqLi6u0P4PPPCA3n33XU2dOlUbNmzQ9u3b1bRpU2VlZZ1xPVdccYUOHDigtWvXFrvG4ODgYs8DADj/EJwAAOeMRo0aKS0tTZLk5+en3Nxcj+kbN27U0KFDde2116pp06aqVq2a9u3bZ7vcPn366O2339att96qRYsW/a0aGzZsaA2ZfnpdF110kXx8fNSwYUPl5OToq6++sqYfOXJEu3fvVqNGjSRJ/v7++d4bAODcRnACAJx1R44cUZcuXfTWW2/pf//7n/bu3aslS5Zo+vTpuuaaayTljWgXHx+vxMREHTt2TJJUr149LV++XNu3b9eOHTs0aNAgud3uIq3z2muv1Ztvvqlhw4Zp6dKlJa79/vvvV3x8vCZPnqwff/xR8+fP10svvWQN8FCvXj1dc801GjFihD7//HPt2LFDN910k2rUqOHx3lJTUxUfH6/Dhw8rPT29xPUAAM4OghMA4KwLCQlRu3bt9Nxzz+myyy5TkyZNNHHiRI0YMUIvvfSSJOnZZ5/Vxx9/rOjoaLVs2VKSNGPGDEVERKh9+/bq3bu3evTooVatWhV5vdddd53mz5+vm2++WcuXLy9R7a1atdI777yjRYsWqUmTJnr00Uf1+OOPa+jQoVafN954Q61bt9bVV1+t2NhYGWO0evVq+fn5SZLat2+vO+64QwMGDFCVKlU0ffr0EtUCADh7HMYY4+0iAAAAAOBcxhEnAAAAALBBcAIAlEsbNmywbsRb0AMAgNNxqh4AoFw6efKkDhw4UOj0unXrnsVqAADnOoITAAAAANjgVD0AAAAAsEFwAgAAAAAbBCcAAAAAsEFwAgAAAAAbBCcAAAAAsEFwAgAAAAAbBCcAAAAAsEFwAgAAAAAb/wf/A5yV25y/+AAAAABJRU5ErkJggg==",
      "text/plain": [
       "<Figure size 1000x600 with 1 Axes>"
      ]
     },
     "metadata": {},
     "output_type": "display_data"
    }
   ],
   "source": [
    "#| echo: false\n",
    "stalk_root_barchart = data[data['stalk_root'] != '?']\n",
    "cross_tab_prop = pd.crosstab(index=stalk_root_barchart['stalk_root'],\n",
    "                             columns=data['class'],\n",
    "                             normalize=\"index\")\n",
    "\n",
    "cross_tab_prop.plot(kind='bar', \n",
    "                    stacked=True, \n",
    "                    colormap='tab10', \n",
    "                    figsize=(10, 6))\n",
    "\n",
    "\n",
    "for n, x in enumerate([*cross_tab_prop.index.values]):\n",
    "    for (proportion, y_loc) in zip(cross_tab_prop.loc[x],\n",
    "                                   cross_tab_prop.loc[x].cumsum()):\n",
    "        if proportion != 0:                \n",
    "            plt.text(x=n - 0.17,\n",
    "                    y=y_loc,\n",
    "                    s=f'{np.round(proportion * 100, 1)}%', \n",
    "                    color=\"black\",\n",
    "                    fontsize=12,\n",
    "                    fontweight=\"bold\")\n",
    "\n",
    "plt.xlabel(\"Stalk_root\")\n",
    "plt.ylabel(\"Proportion\")\n",
    "plt.xticks([0, 1, 2, 3],['bulbous','club', 'equal', 'rooted'],rotation = 0)\n",
    "plt.legend(labels=['Edible', 'Poisonous'], loc=4, fontsize='small', fancybox=True)\n",
    "plt.show() "
   ]
  },
  {
   "cell_type": "markdown",
   "metadata": {},
   "source": [
    "We see that if the mushroom has a club, equal, or rooted stalk root, then there is a low chance for it to be poisonous. However, if the root is bulbous, then a chance of 49.2% is that the mushroom is poisonous. Moreover, in the dataset we have 2480 mushrooms with a missing stalk root which are not included in the chart. Even though the shape of the mushroom's root can tell whether it's poisonous or not according to resources, it is not considered discriminative in our datase. And our guess is that missing data may have been able to reveal a lot about the mushroom's edibility. "
   ]
  },
  {
   "cell_type": "code",
   "execution_count": 36,
   "metadata": {},
   "outputs": [
    {
     "data": {
      "image/png": "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",
      "text/plain": [
       "<Figure size 1000x600 with 1 Axes>"
      ]
     },
     "metadata": {},
     "output_type": "display_data"
    }
   ],
   "source": [
    "#| echo: false\n",
    "# Stalk_surface vs class\n",
    "# stalk_surface_above_ring\n",
    "\n",
    "cross_tab_prop = pd.crosstab(index=data['stalk_surface_above_ring'],\n",
    "                             columns=data['class'],\n",
    "                             normalize=\"index\")\n",
    "\n",
    "cross_tab_prop.plot(kind='bar', \n",
    "                    stacked=True, \n",
    "                    colormap='tab10', \n",
    "                    figsize=(10, 6))\n",
    "\n",
    "\n",
    "for n, x in enumerate([*cross_tab_prop.index.values]):\n",
    "    for (proportion, y_loc) in zip(cross_tab_prop.loc[x],\n",
    "                                   cross_tab_prop.loc[x].cumsum()):\n",
    "        if proportion != 0:                 \n",
    "            plt.text(x=n - 0.17,\n",
    "                    y=y_loc,\n",
    "                    s=f'{np.round(proportion * 100, 1)}%', \n",
    "                    color=\"black\",\n",
    "                    fontsize=12,\n",
    "                    fontweight=\"bold\")\n",
    "\n",
    "\n",
    "plt.xlabel(\"stalk surface above ring\")\n",
    "plt.ylabel(\"Proportion\")\n",
    "plt.xticks([0, 1, 2, 3],['fibrous','silky','smooth', 'scaly'], rotation = 0)\n",
    "plt.legend(labels=['Edible', 'Poisonous'], loc=4, fontsize='small', fancybox=True)\n",
    "plt.show() "
   ]
  },
  {
   "cell_type": "markdown",
   "metadata": {},
   "source": [
    "Upon inspection of the mushroom, specifically, inspecting how the surface feels like above the ring; mushrooms that feel silky above the ring are most likely poisnonous. While mushrooms that are fibrous, smoothm or scaly, are poisonous but only with ~ 30% liklihood. And take into consideration that some mushrooms don't even have a ring. "
   ]
  },
  {
   "cell_type": "code",
   "execution_count": 37,
   "metadata": {},
   "outputs": [
    {
     "data": {
      "image/png": "iVBORw0KGgoAAAANSUhEUgAAA04AAAINCAYAAAAJGy/3AAAAOXRFWHRTb2Z0d2FyZQBNYXRwbG90bGliIHZlcnNpb24zLjUuMywgaHR0cHM6Ly9tYXRwbG90bGliLm9yZy/NK7nSAAAACXBIWXMAAA9hAAAPYQGoP6dpAABohUlEQVR4nO3deZyN5f/H8feZfTdjm7GP7Ftjy54UEVIqkWSnDVlafVPI1kZUlm8K1Y9IaZEiJktJhZAKSUQxdrPv5/r9MV83pxlzz4zh0Lyej8d5dM51X/d1f+7TuZ3znntzGGOMAAAAAAAX5OHuAgAAAADgSkdwAgAAAAAbBCcAAAAAsEFwAgAAAAAbBCcAAAAAsEFwAgAAAAAbBCcAAAAAsEFwAgAAAAAbXu4u4HJzOp06fPiwgoOD5XA43F0OAAAAADcxxig+Pl5ly5aVh0fu+5SKXHA6fPiwKlSo4O4yAAAAAFwhDh06pPLly+fap8gFp+DgYElZb05ISIibqwEAAADgLnFxcapQoYKVEXJT5ILT2cPzQkJCCE4AAAAA8nQKDxeHAAAAAAAbBCcAAAAAsEFwAgAAAAAbBCcAAAAAsEFwAgAAAAAbBCcAAAAAsEFwKsK2bdump556Si1atFC5cuXk4+OjUqVKqUuXLvr6668vON/+/fsVFBQkh8Mhh8OhZs2a5Wu5v//+u3r16qXw8HD5+vqqSpUqevLJJxUXF+fSb+fOnWrfvr1CQ0NVpkwZDRw4UKdOnXLpExsbq9KlS6tOnTrKyMjIVx3AWb///rv69OmjsmXLysfHR+XKldOgQYP0999/u/R788031aFDB1WoUEH+/v7y8/NT5cqV1a9fP+3evTvPy8vMzNRrr72mpk2bKiQkRF5eXipZsqTatWunDz/80KUv2wEutZ07d+q+++5TrVq1FBoaKm9vb5UsWVJt27bVokWLXPquX79eAwcOVK1ateTh4WF9D6xbty5fy/zkk09033336ZprrrHGcDgcOnDgQLa+GzZsUMuWLRUcHKyKFSvqscceU3JyskufP/74Q35+furQoUN+Vx+QVLDfRMuXL9ctt9yiEiVKyNfXV+XLl1eXLl20YcOGPC0zOTlZEydOVP369RUUFCRvb29FRESoS5cuWrt2rUtftoMrhCliYmNjjSQTGxvr7lLc7oEHHjCScnx4eHiYDz/8MMf5br75Zpe+TZs2zfMyt2/fbooVK5bjMuvXr2/i4uKMMcbExcWZsmXLmoCAALNixQrz4osvGknm9ttvdxlvxIgRRpJZvXp1gd8HFG3bt283ISEhOX4my5Yta/bv32/1bdu27QW3maCgILNnz548LXPgwIEXHEeSmTVrljGG7QCXx7vvvpvr53Hy5MlW3+HDh+fYZ+3atfla5u23357jOOdvb8YY8+eff5rAwEATERFh1q1bZ33Whw8f7tKva9euxsvLy/z6668FfBdQ1OX3N9Gjjz56wf4TJkzI0zLbtWuX6zI/++wzYwzbwaWWn2xAcCrCHnjgARMREWGefvpp88UXX5hFixaZGjVqWBttpUqVss2zYMECI8n4+fkVKDg1aNDAmu/+++83n3zyiWndurXV9thjjxljjFm5cqWRZG677TZjjDFOp9MUK1bMeHh4mOTkZGOMMb/++qvx8vIyXbt2vfg3A0XW9ddfb33+BgwYYFauXOnyBdq5c2er76hRo8xzzz1nPvzwQ7NmzRozY8YMl9D11FNP2S7v9OnTxsPDw5pn4sSJZvXq1eaee+6x2urWrWuMYTvA5bFixQozePBg8+6775o1a9aY999/3zRv3tz6PEZERFh9J0+ebLp162amTp1qqlevXuDgNGzYMNOrVy8zc+ZMExoaesHgNGfOHCPJPPLII8YYY06ePGn9UeOs1atXG0lmxIgRBX4PgPz8Jlq8eLHVXq5cOTNt2jSzatUq8+GHH5pnn33WvPfee7bL27FjhzWGt7e3mTlzplm1apW56aabrPZbb73VGMN2cKkRnHJBcDrn66+/NomJiS5t27dvd/mLx9GjR61pR48eNcWLFzcOh8NMnDgx38Hp+++/t+apVauWcTqdxhhjDh8+bBwOh5FkwsLCTFpamvnkk0+MJNOtWzdr/pIlS7r8v2vfvr3x9fU1+/btu9i3AkVUfHy89dnz8fExqampxhhj0tPTTVBQkJFkHA6HOXjw4AXHOP8v8EOGDLFd5sGDB63+JUuWtNp//vlnq71mzZrGGMN2ALfZtm2b9XkMDAzMsU/Tpk0LHJzOFx4efsHgNGPGDJc/qiUkJBhJpnjx4saYrG21Tp06plSpUub06dMFrgHIz2+i2rVrW39E/u233wq0vA0bNljjNm7c2Gr/7LPPrPZbbrnFGMN2cKnlJxtwjlMR1qpVKwUEBLi0VatWzeX1+dMfeeQRnTp1Sg8//LBatmyZ7+V988031vNmzZrJ4XBIksqUKaPIyEhJ0unTp/XLL7+oadOmCgwM1Lp163Tw4EF9/vnnOnHihJo0aaKQkBB9+umn+vLLL/Xoo4/qmmuuyXctgCTFxcXJGCNJ8vb2lo+PjyTJy8tLvr6+kiRjjDZt2pRt3tTUVG3dulWff/651XbjjTfaLrN8+fKqWrWqJOnEiROaNGmS1qxZowkTJlh97rvvPkliO8Bl53Q6dfjwYf33v/+12vLyub5U2rRpIw8PDy1fvlwnT57UO++8I0lq166dJGnWrFn65ZdfNGnSJIWGhrqtTlz98vqb6I8//tCvv/4qSapVq5ZeeukllS9fXv7+/mratKmWL1+ep+VFRUVZn9kdO3Zo9uzZ+vLLLzVt2jSrz9nvAraDK8glj3FXGPY45e6dd96x/tJx/fXXW+2ffvqpkWQqVKhg4uLizNq1a/O9x2nYsGEXPKTp/L9cLlu2zBiT9df2MmXKuPxFZs+ePSYlJcVUqVLFlCtXziQkJBhjsv6/8v8U+ZWRkeFyzt2cOXNMYmKimT9/vstfGV9++WVrnl27dmU7Fj00NNRMmTIlz8vduXOnqVevXrZxSpQoYZ3fdBbbAS6X8/8d1v/2tt56660uRx5cqP+l2uNkjDFz58512U7btWtnYmJizPHjx01oaKhp0KCByczMNMZkHcL0z70GQEHl9Jto+fLl2f7t/ud28+677+Zp/LVr15rIyMhsY1SqVMksWbLEpS/bwaXDHicUyNatWzVs2DBJkq+vr1555RVJUnx8vB5++GFJ0pw5cxQcHFyg8RMTE63nZ/+yn9Prs/1uu+02/f333zp48KCOHz+uzZs3q3r16nrllVe0b98+vfDCCzp27Jiuv/56hYaGKjQ0VK1atdL+/fsLVB+KHk9PT40YMcJ6/eCDDyowMFD9+/d36ZeSkpLrOF5eXtaeq7wICwtT7dq1s7WfPHlSS5cu1dGjR602tgO4i4eHh7y8vOR0Ot1ax6BBg3Ty5Ent379fZ86c0erVqxUeHq4xY8bozJkzevXVV/XTTz/p2muvVYkSJRQcHKzbbrtNJ06ccGvduLpd6DfRmTNnXPq1a9dOK1as0COPPCIp6yiFUaNGKT093XYZpUuXVo0aNbK1Hzx4UB988IHL7ya2gyvEJY9xVxj2OOXs66+/tk5y9/Lysvb6GGPM6NGjjSTTs2dPq+1i9zg9+eSTLtNy2uOUk8OHD5ugoCDTokUL43Q6TYsWLYyUdWWZs+eatGjRIp9rj6IsMzPT/Oc//zH+/v7WZ7BixYqmSZMm1uvXX3/d6p+UlGS+/vprs2rVKvPCCy+YsLAwq99rr71mu7y0tDRTrVo1I8n4+vqa6Ohok5CQYKZOnWqNc/PNN+c6BtsBLoUdO3aYdevWmXfffdf6TOkf51+c73LtccrJtm3bjIeHh+nZs6dJSUkxlStXNg6Hwzz33HPm3nvvzfadBeRHbr+J3n//fZe9Q2fPcXI6naZcuXJW+5YtW3JdxsmTJ03x4sWNJFO6dGmzdetWExcXZ0aOHGmNMXjw4FzHYDsoHFwcIhcEp+xWrVplAgICrB9yH3/8scv0vn375rpb+uzjlVdeyXU55/8w7Nevn8u0SpUqWdO2bdt2wTF69+5tPDw8zJYtW8yff/5pJJny5ctb08/+o5XbyfxAThITE83WrVvN7t27TUZGhsuVjXL7UThv3jyrX/PmzW2X8+WXX1r9O3bs6DLt7HYoKdfDLNgOcKklJia6XD01p0vtuzM4tW7d2gQEBJhDhw6Z9evXG0mmZcuWxpisE+d9fHyMj4+PycjIKHBdKJrsfhN99913Lr99zl5UyBhjmjVrZrV/9dVXuS7njTfesPo+9NBDVvvRo0et9lKlSuU6BttB4bhqDtXbsGGDunTporJly8rhcOjjjz+2nWfdunVq2LChfH19VbVqVS1YsOCS1/lv9tFHH6lLly5KSkpSYGCgVqxYodtvv/2SLKtVq1bW802bNlmHNp09DEnKOoSpTp06Oc7/3Xff6f/+7//Uv39/NWrUSDExMZKkihUrWn0qVaokSdY0IK8CAgLUsGFD1ahRQ9u3b7du6FmiRAk1a9ZMqampOR6Od/YiJ1L2Qzhycv5hEwkJCdbzlJQUl0M7zp92PrYDFLZ/3kTzrPx+ti+XJUuWaMOGDRo9erTKly9vfc7Pfu4DAwNVsmRJpaWlZbtZNJCbvPwmioqKUmBgoPX67O8XY4z++usvq71ChQq5LutC3wXx8fE5tv8T24F7eLlz4YmJiYqKitKAAQN055132vbfv3+/OnfurAcffFALFy5UdHS0Bg0apDJlynCX5AJYunSpevbsqczMTDkcDo0dO1a+vr4uV7+77rrrdO+996p+/fou8/7++++aOXOmpKyNdMSIEbrhhhus6We/cCtVqmTdCb5JkyZq0KCBtm3bpj179uiBBx7QrbfeqqlTp1o/SAcOHChvb+9stRpj9MgjjygkJESTJ0+WJOtKfMePH7f6nX1+9h8OwM6KFSs0b9486484O3fu1KRJk6zzOp544gn5+flp3bp1GjRokHr37q26desqJCTE6ntWw4YNXcbOaTs4/w8DX3/9tSZOnKgmTZpowYIFVnAqW7asSpUqla1WtgNcCo0bN1azZs3UqlUrVaxYUceOHdOsWbOsQOXv769atWpJkn799VfrimLn/xhbv3699UOwW7dukqQDBw6ocuXKkqQbbrjB+mOEJG3ZssXaJlJTU632L774QqVKlVJgYKA6duyYrdakpCQ9/vjjioyM1GOPPSYp+zaQkZGh06dPKyAgQCVLlryo9wZFR15/E/n5+al3796aM2eOJGnIkCEaMWKEvvzySys4RUVFWVdPvdB2cP53wfvvv68mTZqoatWqmjp1qtX+z99eZ7EduNEl3feVD5LMRx99lGufJ554wtSpU8elrUePHqZDhw55Xg6H6p2Tl0PwLnTYhN05Tmen/fMmutu2bXO5Ksz5j/r165u4uLgcl3f2cKipU6e6tJ+9+/zcuXPNm2++aSRxI1Dky0cffXTBz//dd99tHeJw/mc+p0dERES2eyldaDvo3r17rmO9/fbbOdbKdoBL4fxDpXN6zJw50+o7duxY2++Ns/bv32+13XDDDS7LtPv+yekG7MYY8+yzzxpJ5sMPP7TaMjMzTYMGDYyPj4/5+OOPzXPPPWckbgSK/MnPb6KTJ0+63Bz3/EdQUJD54YcfrHEvtB1kZGS4nEv4z4eXl5eJjo7OsVa2g8J1VZ7jlJfgdP3115vhw4e7tM2bN8+EhIRccJ6UlBTrEr2xsbHm0KFDBKf/cUdwMsaY3377zdx7772mdOnSxsfHx1SuXNk88cQTF/x/EhcXZ8LDw02NGjVMWlqay7RTp06Zfv36mdKlS5vSpUubvn37mlOnTuX7vUDRtXv3bnPXXXeZihUrGl9fXxMSEmJatWplFixYYN2k2Rhj/v77b/PII4+Yhg0bmpIlSxpPT08THBxsGjRoYEaPHm2OHTuWbewLbQfp6elm+vTppkmTJiY4ONh4enqaEiVKmFtuucV88cUXOdbJdoBL5bXXXjPt27c35cuXN76+vsbHx8dERkaanj17mg0bNrj0dWdwOnDggPH39zc33XRTtmmHDh0yXbt2NWFhYaZcuXJm5MiRJjk5uVDeHxQN+f1NdPLkSTNixAhTqVIl4+3tbUqVKmXuueces2vXLpdxc9sOEhMTzfjx401UVJQJCAgwXl5eJjw83Nx5553mu+++y7FOtoPCl5/g5DAmH9fQvYQcDoc++ugjde3a9YJ9qlevrv79+2v06NFW2+eff67OnTsrKSlJ/v7+2eYZN26cxo8fn609NjZWISEhhVK7O0Ss3e7uEoq8mBvru7uEIo1twP3YBtyP7cD92A7cj+3A/a7m7SAuLk7FihXLUzb419/HafTo0YqNjbUehw4dcndJAAAAAK4ybr04RH5FRES43BhSko4ePaqQkJAc9zZJWTct8/X1vRzlAQAAAPiXuqr2ODVv3lzR0dEubatXr1bz5s3dVBEAAACAosCtwSkhIUHbt2/X9u3bJWVdbnz79u3WNfFHjx6tPn36WP0ffPBB/fHHH3riiSe0e/duzZo1S++//75GjhzpjvIBAAAAFBFuDU5btmxRgwYN1KBBA0nSqFGj1KBBAz377LOSpCNHjlghSpIqV66sFStWaPXq1YqKitLUqVP15ptvcg8nAAAAAJeUW89xatOmjXK7qN+CBQtynGfbtm2XsCoAAAAAcHVVneMEAAAAAO5AcAIAAAAAGwQnAAAAALBBcAIAAAAAGwQnAAAAALBBcAIAAAAAGwQnAAAAALBBcAIAAAAAGwQnAAAAALBBcAIAAAAAGwQnAAAAALBBcAIAAAAAGwQnAAAAALBBcAIAAAAAGwQnAAAAALBBcAIAAAAAGwQnAAAAALBBcAIAAAAAGwQnAAAAALBBcAIAAAAAGwQnAAAAALBBcAIAAAAAGwQnAAAAALBBcAIAAAAAGwQnAAAAALBBcAIAAAAAGwQnAAAAALBBcAIAAAAAGwQnAAAAALBBcAIAAAAAGwQnAAAAALBBcAIAAAAAGwQnAAAAALBBcAIAAAAAGwQnAAAAALBBcAIAAAAAGwQnAAAAALBBcAIAAAAAGwQnAAAAALBBcAIAAAAAGwQnAAAAALBBcAIAAAAAGwQnAAAAALBBcAIAAAAAGwQnAAAAALBBcAIAAAAAGwQnAAAAALBBcAIAAAAAGwQnAAAAALBBcAIAAAAAGwQnAAAAALBBcAIAAAAAGwQnAAAAALBBcAIAAAAAGwQnAAAAALBBcAIAAAAAGwQnAAAAALBBcAIAAAAAGwQnAAAAALBBcAIAAAAAGwQnAAAAALBBcAIAAAAAGwQnAAAAALBBcAIAAAAAGwQnAAAAALBBcAIAAAAAGwQnAAAAALBBcAIAAAAAGwQnAAAAALBBcAIAAAAAGwQnAAAAALBBcAIAAAAAGwQnAAAAALBBcAIAAAAAGwQnAAAAALBBcAIAAAAAGwQnAAAAALDh9uA0c+ZMRUZGys/PT02bNtUPP/yQa//p06erRo0a8vf3V4UKFTRy5EilpKRcpmoBAAAAFEVuDU5LlizRqFGjNHbsWP3444+KiopShw4ddOzYsRz7L1q0SE899ZTGjh2rXbt26a233tKSJUv0n//85zJXDgAAAKAocWtwmjZtmgYPHqz+/furdu3amjNnjgICAjRv3rwc+3/77bdq2bKl7r33XkVGRqp9+/bq2bOn7V4qAAAAALgYbgtOaWlp2rp1q9q1a3euGA8PtWvXTps2bcpxnhYtWmjr1q1WUPrjjz/0+eefq1OnThdcTmpqquLi4lweAAAAAJAfXu5a8IkTJ5SZmanw8HCX9vDwcO3evTvHee69916dOHFCrVq1kjFGGRkZevDBB3M9VG/KlCkaP358odYOAAAAoGhx+8Uh8mPdunWaPHmyZs2apR9//FHLli3TihUrNGHChAvOM3r0aMXGxlqPQ4cOXcaKAQAAAPwbuG2PU8mSJeXp6amjR4+6tB89elQRERE5zvPMM8+od+/eGjRokCSpXr16SkxM1P3336+nn35aHh7Zc6Cvr698fX0LfwUAAAAAFBlu2+Pk4+OjRo0aKTo62mpzOp2Kjo5W8+bNc5wnKSkpWzjy9PSUJBljLl2xAAAAAIo0t+1xkqRRo0apb9++aty4sZo0aaLp06crMTFR/fv3lyT16dNH5cqV05QpUyRJXbp00bRp09SgQQM1bdpUv//+u5555hl16dLFClAAAAAAUNjcGpx69Oih48eP69lnn1VMTIzq16+vlStXWheMOHjwoMsepjFjxsjhcGjMmDH6+++/VapUKXXp0kWTJk1y1ypctY737CTn0SO59gmbNlc+9Rtbr1O/Xa+kT95X+p5fZJKT5FEsTF5VayqwRx/5RDXK03LTf/tVie+8obSft8skJ8uzbDn539xZAXf3kcPb2+qXtmOrEt58TRl/7JUjOER+N9ysoAEPy+HrZ/XJOPyXTva/Sz5RjRT24qx8vgMAAABA3rk1OEnS0KFDNXTo0BynrVu3zuW1l5eXxo4dq7Fjx16GyiCvcx+P+NnTlLT0XZfJzhPHlHbimLxr1c1TcErdvElnxgyX0tOttsw/9yvhzdeVtn2rQqe8JoenpzKPHtGZ0cPkCAhU6OQZSv1mXdayMzMVPPRxa96E2dMkp1PBQx4rhJUFAAAALsztwQnuETruJZm0NJe2jIP7FT816wqFHiVKyrtmHUlSytpVVmjyKFlaAXf3lldkFZnkJGX88Zu8ylWwXZ5JTVHci2Ot0BR43yB5Va2pxLfnKGP/70rbsknJyz9QQNceSv1ho0xKsvw6dZVPVGN5Va6mpA8XKmX9ais4pW79Tqkb1yrgrl7yqnRNob0vAAAAQE4ITkWUd4062dpS1q6ynvt3vksOr6xD5xLeeSOr0cdXYdPekFf5Sudmat02T8tL3bRBzpPHs4a5roWCBgyRJHmULKXTQ/tKkhWclJ4V6M4u3+HtI0ky/2s3mRmKn/myHKFhCuz7QJ6WDwAAAFyMq+o+Trh0THKyUlavyHrh6SX/W++UlHUeUeaff0iSvCpWVtKSd3S8ewcdvaWZTj7cW6nfrs/T+Gk7t1nPvetce+55jdrWIYEZ+3+XMz5O3lGNJQ+PrLAVe0bJXy6XJPk0bCpJSv7kfWUe2KegAUPlERR8cSsOAAAA5AHBCZKk5DUrZBITJEm+rW6UZ8nSkmSFJknK+H23klcsk/PEMSktVRm7f9aZZ0Yq+WzgykVmzGHruUdYCeu5w9NLHsHFXPp5V6mu4JFPy3nqhI7fcaPiZ0yRT6OmCh76hJyxp5WwYI68qtaUf6eukiRnXKxMSvJFrT8AAACQGw7Vg6SsvThnBXTtbj13JsS79PNp1FQBd/VS6pZNSl72nmSM4mdPld+N7a1D63KUkmI9zdbvvKvpnQ1AAZ3vlP8tt8t5/KgcQcHWnqW4VybKJMQreNgTyvhjr+Kef0YZf+yVPDzk07SVij0xTh7FwvK9/gAAAEBu2OMEpe3clhU+JHlGVpFP1LlLkJ89v+is4OGj5dvsegUPeVwe/9srZc6ctua/IL9zlxE/e66S5byr7Dn8/M899/SUZ0RZKzSl/75HySs+kt9Nt8i7Rh3Fjn1UGft/V2D/h+R3Ywelbdqg+NdezPuKAwAAAHnEHie47m26vbvLNM/wiH+8LitJcjgc8iwdnnXYniSTmJjrMjwjylrPnadPWc9NZoaccbE59vun+NdflHx8FPTACKXv2qnMI3/Lu259BfW+P+scrQ1rlPJ1tEIyM+XghsgAAAAoROxxKuKcp08p5etoSZIjMEh+7W91me5VpbrLXqDMY1k3zTXGKPP4Mavdo3R4rsvxqdfAep7+y45zz3f/ImVmZC2rclV5BIfkOH/K2lVK/+lHBfYcIM9S4XKePilJ8gwvk1W7v788QkKl9HSZ+NgcxwAAAAAKiuBUxCWtWGYdKud3c2d5+Ae4THf4+Mrv5s7W6/gZzyv1+2+UMGuqnMePSsoKV17lKkrKurjD0Zsa6OhNDXRq5CBrPt/mreVRopQkKW3LJiW89bpSNkQr7n/3jZIk/y7dcqzRpCQr/r/T5RFRVoE9+kg6t+fLeeZ0Vp/MjKzzsfz85OAcJwAAABQyDtUrwkxmppI/+9B6/c/D9M4KGjhUadu3KPPQAaVt2aS0LZusaQ7/AIU8+qztshy+fgp5YrzOjBkupacrceFbLtN9Gje/YHBKXLxAzmMxKjbuZTl8fCVJXjVqy6tqTaX9tFUpG9dmnWOVmqKAu3rJ4XDY1gMAAADkB8HpKuW36u+LHiNp73dyHovJGq/StQra7Svtznlc3zumKPbbxUr6bZMyE07Jwy9QfpWiFNqyp7z/DJX+zJovI/aoNY/HqVSXOv1UUX73vqTYjYuU+tevcqanyjs0QoF1blRIkzvkWBOTbbkZsceUtOht+VW6VqHJNaXzxgu/+SmdWjNH8ZOelcPLV8GNb1dY5F1yFMJ7kyc31r88ywEAAJfU8Z6d5Dx6JNc+YdPmyqd+YyWtWKbU9WuU8ecfcsaekYyRR4mS8olqpMCe/eVVsXKelpn85WdK+/F7pe/5Vc6Tx2VSU+RZKkI+zVopqPdgl6sEZ8YcVvzsqUrb8aMkyad+IwU//Jg8S587F91kZujkoB5yxp5WyXc+4V6XlwDBqQgLqNZMlZ78LE99Pf2DVbztYBVvOzjXfl7FwnMd0zeiqkrfZb+H6tx4pVXx0Q9znhZSUqXvHJPnsQAAAArMK+tnc+raVUr78QeXSc6Yw0qJOazUDdEqPmeRvCpUsh0ubuoE6R9XGs48fEjJy95T2qYNKj57oTxCisk4nTrz7Chl7PtNIaMnZs07ZYwyjxxW8dn/J4dH1pk3yR+/r8w//1Dwo88Qmi4RghMAAACKtNBxL8mkuYaYjIP7Ff+/c7E9SpSUd806krLO7faOaiSvSlXkCApS5oF9Spg/WyYxQSY5SckrP1Hw4EfsF+pwyLteA/m16yTPsuWV/utOJf7fXCk9XZlH/lbSskUK6veQMv86qIzf98jrmmryb9dJkpS0eIEy9u5S5uFD8ipfSc7Y00p4e468qtWSf8euhfre4ByCEwAAAIo07xp1srWlrF1lPffvfJccXt6SpOCHHnXt2LCpMg9nBR1JMklJeVpm6IRX5Htdc+u1b6NmMnGxSvpwoaT/XXlY593/0tv7vIKznp8NewlvzZRJiFfwsCesPVAofAQnAAAA4DwmOVkpq1dkvfD0kv+td+bcLy1NGQd+V+oP31htPg0a52kZ54emszzLV7Sen70djFfFyvIoUUoZ+35T+u97JIeUse83eZQKl1eFSKX/vkfJn38kv7Yd5VO3fh7XEAVBcAIAAADOk7xmhUxigiTJt9WN8ixZ2mV6xsH9OtnPNUw5goIVeE8/+bVuV+Dlpv7v3pqS5Nu0Zda43t4qNvZFxb04Vqfuv0dSVsAKeWqCHN7ein/tBTl8fBV0/whJWbdxMWlp8ggpVuA6kDOCEwAAAHCe5E/et54HdM35di3ZeHpKMgVeZsJbM62LTnjXrie/9rda03zq1lfJdz5R5snjWYv6370xU75aqfSd2xQ4YIgcPt46M2aEUr/7WnI65VW5qkJGT5R31RoFrgmuCE4AAADA/6Tt3JZ1f0hJnpFV5BOV/dA7z/AyCpsxTyYlRRn79ijxvfkysWeU8ObrcvgHKuCOe/K1zPjZ05S09N2ssStWVujE6XJ4Zv+ZfjYwSVl7luLfmCHPMuUU2L234l4cp9Rv18uvbUd5VqysxAWzFTv2UZWYv0wOH5981YOccfYYAAAA8D8ue5tuz3lvk8PXTz71Gsj3uuYKvKefgh8cZU1Lif4iz8syTqfipk20QpPXNdUUNm2uPEKL286b+N58OY/FKOjBUZKnl1I2rJG8vRUy6hkF9R4s79rXKvPI30rf/XOe60HuCE4AAACAJOfpU0r533lGjsAgl8PlpKyLQRiTw+F4Dse5MRLj87Qsk5mhuCljlPxZ1v0qvWvXU9grb8qzeAnbeTNjDitxyTvyadhEftffJBMXK2VkyCMkVA7/rItKeEaUzarn1Mk81QN7HKoHAAAASEpasUxKT5ck+d3cWR7+AS7T03/9SXEvPye/mzvLq3IVOQKClLF/rxIXvmX18a5Wy2Weozc1kCR5hJdRqfc+t9pjxz6m1G/XZ00rHaHAvg8q48A+a7ojMEje11TLsc74OdOkzEwFD3kiq29omOTnJ2divExmhhyeXnKeOS0p67BCFA6CEwAAAIo8k5lp7f2RLnyYXubhQ0p8e06O0zyKl1Rgv4fytLyzoUmSnMdidObJIS7TvaMaqfgrb2abL23bZqVuiJb/HffIq3IVSZLD4VBApzuVtGyREhe+Ja8q1ZX201Z5Vaslrxq181QP7BGcAAAAcNXyW/V3oYyTtPc7OY/FZI1Z6VoF7faVdruO7RXvo4xGXZT616/KiDsuZ0qCHN6+8g4rK7/KDRVyXVd57nRIO7PX5EjOzFetHqdSs/U3zkydWjBZHv4hKlGxqzzPm+5buZtON05U0gdLZTJS5R/ZSMXbPSiv1Ufy8zYUzI31L/0yrgAEJwAAABR5AdWaqdKTn+Xaxyu4hIq3eyBf415oTLtl5cTh4amyA17PeZqXj4q3HazibQfne1zkDReHAAAAAAAbBCcAAAAAsEFwAgAAAAAbBCcAAAAAsEFwAgAAAAAbXFUPAAAoM+awEt+bp9TNm+Q8eVwO/wB5likvv+tvVOC9A61+JjVFie+/q9QNa5T59yGZ9HR5hBSTV406Crz7Pvk0uC5PyzPp6Upa+q5Sor9Qxt+H5PD2lle1mgrs0Ve+TVu59E3bsVUJb76mjD/2yhEcIr8bblbQgIfl8PWz+mQc/ksn+98ln6hGCntxVuG8KQBwHoITAABFXNrP23Vm9DCZxASrzaTHKiMuVsnxcS7B6cyYEUrb+r3L/M7TJ5X23Qal/fCNQidOl2+z63NdnsnM0Jmnhipt2w/n2tJSlb59i85s36LgUWMUcOtdkqTMo0d0ZvQwOQICFTp5hlK/Waekpe9KmZkKHvq4NX/C7GmS06ngIY9d1HsBABdCcAIAoAhzJsQrdvzjWaHJw1P+ne+Qz3Ut5PD1Vebhv5Rx6IDVN33fb+dCk5eXgoc8Ls+yFZS0eEFWCHI6lfTpB7bBKeXLz6zQ5Fm+koIeGC4TF6f4mS/JJCUqfubL8m3SUp6lI5T6w0aZlGT5deoqn6jG8qpcTUkfLlTK+tVWcErd+p1SN65VwF295FXpmkvyPgEAwQkAgCIs+bNlcp48IUkK7PuAgnpf+OaZ5++R8qpSXQG3d896kZlxbu+RM8N2manfb7SeB/YaIL+WN0qS0nf/rOTlH0ipKUr+8jMF3TdISk+TJDm8vLP+6+2TVcv/2k1mhuJnvixHaJgC++bvxqQAkB9cHAIAgCIsddP6cy+MUycH3q2jtzTT8Xs6Kn7uqzJpqdZkryrV5QgKliRl7PtNSZ+8r9TNm5S09P+sPn7tOtsu8/wA5vDzz/F5+s/bJUneUY0lDw+lbtogZ+wZJX+5XJLk07CpJCn5k/eVeWCfggYMlcf/agOAS4E9TgAAFGEZf+63nicumGM9dx6LUdJ785Wxd7dCX5gph8Mhj8AghT43TbEvjpUz5rDiZ0yx+nuEl1HwAyPk16a97TI9K1SStn4nSUpe8ZF86l8nZ3ysUr6OPrf840clSd5Vqit45NNKmPOKjt+RtWfKp1FTBQ99Qs7Y00pYMEdeVWvKv1PXrPniYuXw8XEJYQBQGAhOAAAUYSYh3nruCA5R8JCs84biZ74kEx+ntC2blPrtOutwOo/QMHlViFRazGGXcZzHYpSyfo18m14vh3/uoSXg9u5K/vxjKS1VaVs2WYHIpa7z9nQFdL5T/rfcLufxo3IEBVt7luJemSiTEK/gYU8o44+9inv+GWX8sVfy8JBP01Yq9sQ4eRQLK9D7AgD/xKF6AAAUZT7e1tOA2+6Wf/tbsx5dulntZy8I4YyL1akRA5W2+Vt5hBVX8TmLVOqzbxTQrZdkjFLXr1b8rJdtF+lV6RqFTX5VnmUrnNfoJd+WbayXjn8cdufw9JRnRFkrNKX/vkfJKz6S3023yLtGHcWOfVQZ+39XYP+H5HdjB6Vt2qD4114syDsCADkiOAEAUIR5li5jPfcIP/fc87znJilRkpSyIVomLlaS5Ht9W3lXryWPgEAF9hxg9U3ZuDZPy/Vp2EQl3v1EJd7+OCuAfbxOvte3taZ7RVbJdf7411+UfHwU9MAIpe/aqcwjf8u7TpSCet+vkFHPSN7eSvk6WiYzM0/1AIAdghMAAEWYd90o67nzaMy558fOPfcsFSFJMnGnrTaTnHSu7/+CVVZ7cp6X7XA45FWhkryr15LD109JHy6ypuV2SfOUtauU/tOPCuw5QJ6lwuU8fTKrzv+FPYe/vzxCQqX0dJn42DzXAwC54RwnAACKMP9Odyjli08kY5S0fKk8K0ZKkpKWf2D18W2dtSfIs9K5vUAp61bLu2ZdeZarkHVD2v/xrlLdep62fYtOj8q6vLlfhy4q9uRz1rRTw/rJt+WN8qpcRc6EeCV/ulQZe3dJkryuqSbfVtnPe5Ikk5Ks+P9Ol0dEWQX26JNVV3hZSZLzTFawM5kZcibES35+cnCOE4BCQnACAKAI86l9rQK691HSkrdl4mIVN2WMy/SAe/rJu1pNSVl7gbzrRCn9lx1SepriX3vBdTBPLwUNGJKn5WYc2Jc1zj94lCilYs++KIdnzj9REhcvkPNYjIqNe1kOH19JkleN2vKqWlNpP21Vysa1WReISE1RwF295HA48lQPANghOAEAUMQFPzBCXpWrKOmjJcr4c58kybtyNfnfcY/823Wy+jk8PRX20mwlvv+OUr/+Shl/H5TSM+QRUkzedaMUeE8/edeql6dl+ne+U2lbNinz6BGZtDR5lg6Xb4s2Cry3/wWvhJcZc1iJS96RT4Mm8mt97nwoh4eHQidNV/yrLyjuxXFy+PopoFsvBQ0adhHvCgC4chhjjLuLuJzi4uJUrFgxxcbGKiQkxN3lFFjkUyvcXUKRd+B5+5s84tKJWLvd3SUUeTE31nd3CUUe3wXux3eB+7EduN/VvB3kJxtwcQgAAAAAsEFwAgAAAAAbBCcAAAAAsEFwAgAAAAAbBCcAAAAAsEFwAgAAAAAbBCcAAAAAsEFwAgAAAAAbBCcAAAAAsEFwAgAAAAAbBCcAAAAAsEFwAgAAAAAbBCcAAAAAsEFwAgAAAAAbBCcAAAAAsEFwAgAAAAAbBCcAAAAAsEFwAgAAAAAbBCcAAAAAsEFwAgAAAAAbBCcAAAAAsEFwAgAAAAAbBCcAAAAAsEFwAgAAAAAbBCcAAAAAsEFwAgAAAAAbBCcAAAAAsEFwAgAAAAAbBCcAAAAAsEFwAgAAAAAbBCcAAAAAsEFwAgAAAAAbBCcAAAAAsEFwAgAAAAAbbg9OM2fOVGRkpPz8/NS0aVP98MMPufY/c+aMhgwZojJlysjX11fVq1fX559/fpmqBQAAAFAUeblz4UuWLNGoUaM0Z84cNW3aVNOnT1eHDh20Z88elS5dOlv/tLQ03XzzzSpdurQ++OADlStXTn/++adCQ0Mvf/EAAAAAigy3Bqdp06Zp8ODB6t+/vyRpzpw5WrFihebNm6ennnoqW/958+bp1KlT+vbbb+Xt7S1JioyMvJwlAwAAACiC3HaoXlpamrZu3ap27dqdK8bDQ+3atdOmTZtynOfTTz9V8+bNNWTIEIWHh6tu3bqaPHmyMjMzL7ic1NRUxcXFuTwAAAAAID/cFpxOnDihzMxMhYeHu7SHh4crJiYmx3n++OMPffDBB8rMzNTnn3+uZ555RlOnTtXEiRMvuJwpU6aoWLFi1qNChQqFuh4AAAAA/v0KdKheZmamFixYoOjoaB07dkxOp9Nl+ldffVUoxf2T0+lU6dKl9cYbb8jT01ONGjXS33//rZdeekljx47NcZ7Ro0dr1KhR1uu4uDjCEwAAAIB8KVBwGj58uBYsWKDOnTurbt26cjgc+R6jZMmS8vT01NGjR13ajx49qoiIiBznKVOmjLy9veXp6Wm11apVSzExMUpLS5OPj0+2eXx9feXr65vv+gAAAADgrAIFp8WLF+v9999Xp06dCrxgHx8fNWrUSNHR0erataukrD1K0dHRGjp0aI7ztGzZUosWLZLT6ZSHR9ZRhr/99pvKlCmTY2gCAAAAgMJQoHOcfHx8VLVq1Yte+KhRozR37ly9/fbb2rVrlx566CElJiZaV9nr06ePRo8ebfV/6KGHdOrUKQ0fPly//fabVqxYocmTJ2vIkCEXXQsAAAAAXEiB9jg9+uijmjFjhl5//fUCHaZ3Vo8ePXT8+HE9++yziomJUf369bVy5UrrghEHDx609ixJUoUKFbRq1SqNHDlS1157rcqVK6fhw4frySefLHANAAAAAGCnQMHpm2++0dq1a/XFF1+oTp061j2Vzlq2bFmexxo6dOgFD81bt25dtrbmzZvru+++y1e9AAAAAHAxChScQkNDdccddxR2LQAAAABwRSpQcJo/f35h1wEAAAAAV6wCBaezjh8/rj179kiSatSooVKlShVKUQAAAABwJSnQVfUSExM1YMAAlSlTRq1bt1br1q1VtmxZDRw4UElJSYVdIwAAAAC4VYGC06hRo7R+/XotX75cZ86c0ZkzZ/TJJ59o/fr1evTRRwu7RgAAAABwqwIdqvfhhx/qgw8+UJs2bay2Tp06yd/fX927d9fs2bMLqz4AAAAAcLsC7XFKSkqy7rV0vtKlS3OoHgAAAIB/nQIFp+bNm2vs2LFKSUmx2pKTkzV+/Hg1b9680IoDAAAAgCtBgQ7VmzFjhjp06KDy5csrKipKkrRjxw75+flp1apVhVogAAAAALhbgYJT3bp1tXfvXi1cuFC7d++WJPXs2VO9evWSv79/oRYIAAAAAO5W4Ps4BQQEaPDgwYVZCwAAAABckfIcnD799FN17NhR3t7e+vTTT3Pte9ttt110YQAAAABwpchzcOratatiYmJUunRpde3a9YL9HA6HMjMzC6M2AAAAALgi5Dk4OZ3OHJ8DAAAAwL9dgS5H/s477yg1NTVbe1pamt55552LLgoAAAAAriQFCk79+/dXbGxstvb4+Hj179//oosCAAAAgCtJgYKTMUYOhyNb+19//aVixYpddFEAAAAAcCXJ1+XIGzRoIIfDIYfDobZt28rL69zsmZmZ2r9/v2655ZZCLxIAAAAA3Clfwens1fS2b9+uDh06KCgoyJrm4+OjyMhI3XXXXYVaIAAAAAC4W76C09ixY5WZmanIyEi1b99eZcqUuVR1AQAAAMAVI9/nOHl6euqBBx5QSkrKpagHAAAAAK44Bbo4RN26dfXHH38Udi0AAAAAcEUqUHCaOHGiHnvsMX322Wc6cuSI4uLiXB4AAAAA8G+Sr3OczurUqZMk6bbbbnO5LPnZy5RnZmYWTnUAAAAAcAUoUHBau3ZtYdcBAAAAAFesAgWnG264obDrAAAAAIArVoGCkySdOXNGb731lnbt2iVJqlOnjgYMGKBixYoVWnEAAAAAcCUo0MUhtmzZoipVquiVV17RqVOndOrUKU2bNk1VqlTRjz/+WNg1AgAAAIBbFWiP08iRI3Xbbbdp7ty58vLKGiIjI0ODBg3SiBEjtGHDhkItEgAAAADcqUDBacuWLS6hSZK8vLz0xBNPqHHjxoVWHAAAAABcCQp0qF5ISIgOHjyYrf3QoUMKDg6+6KIAAAAA4EpSoODUo0cPDRw4UEuWLNGhQ4d06NAhLV68WIMGDVLPnj0Lu0YAAAAAcKsCHar38ssvy+FwqE+fPsrIyJAkeXt766GHHtLzzz9fqAUCAAAAgLsVKDj5+PhoxowZmjJlivbt2ydJqlKligICAgq1OAAAAAC4EhT4Pk6SFBAQoNDQUOs5AAAAAPwbFegcp4yMDD3zzDMqVqyYIiMjFRkZqWLFimnMmDFKT08v7BoBAAAAwK0KtMdp2LBhWrZsmV588UU1b95ckrRp0yaNGzdOJ0+e1OzZswu1SAAAAABwpwIFp0WLFmnx4sXq2LGj1XbttdeqQoUK6tmzJ8EJAAAAwL9KgQ7V8/X1VWRkZLb2ypUry8fH52JrAgAAAIArSoGC09ChQzVhwgSlpqZabampqZo0aZKGDh1aaMUBAAAAwJWgQIfqbdu2TdHR0SpfvryioqIkSTt27FBaWpratm2rO++80+q7bNmywqkUAAAAANykQMEpNDRUd911l0tbhQoVCqUgAAAAALjSFCg4zZ8/v7DrAAAAAIAr1kXdAPf48ePas2ePJKlGjRoqVapUoRQFAAAAAFeSAl0cIjExUQMGDFCZMmXUunVrtW7dWmXLltXAgQOVlJRU2DUCAAAAgFsVKDiNGjVK69ev1/Lly3XmzBmdOXNGn3zyidavX69HH320sGsEAAAAALcq0KF6H374oT744AO1adPGauvUqZP8/f3VvXt3boALAAAA4F+lQHuckpKSFB4enq29dOnSHKoHAAAA4F+nQMGpefPmGjt2rFJSUqy25ORkjR8/Xs2bNy+04gAAAADgSlCgQ/WmT5+uW265JdsNcP38/LRq1apCLRAAAAAA3K1AwalevXrau3evFi5cqN27d0uSevbsqV69esnf379QCwQAAAAAd8t3cEpPT1fNmjX12WefafDgwZeiJgAAAAC4ouT7HCdvb2+Xc5sAAAAA4N+uQBeHGDJkiF544QVlZGQUdj0AAAAAcMUp0DlOmzdvVnR0tL788kvVq1dPgYGBLtOXLVtWKMUBAAAAwJWgQMEpNDRUd911V2HXAgAAAABXpHwFJ6fTqZdeekm//fab0tLSdNNNN2ncuHFcSQ8AAADAv1q+znGaNGmS/vOf/ygoKEjlypXTq6++qiFDhlyq2gAAAADgipCv4PTOO+9o1qxZWrVqlT7++GMtX75cCxculNPpvFT1AQAAAIDb5Ss4HTx4UJ06dbJet2vXTg6HQ4cPHy70wgAAAADgSpGv4JSRkSE/Pz+XNm9vb6WnpxdqUQAAAABwJcnXxSGMMerXr598fX2ttpSUFD344IMulyTncuQAAAAA/k3yFZz69u2bre2+++4rtGIAAAAA4EqUr+A0f/78S1UHAAAAAFyx8nWOEwAAAAAURQQnAAAAALBBcAIAAAAAGwQnAAAAALBBcAIAAAAAGwQnAAAAALBBcAIAAAAAGwQnAAAAALBBcAIAAAAAGwQnAAAAALBBcAIAAAAAGwQnAAAAALBBcAIAAAAAG1dEcJo5c6YiIyPl5+enpk2b6ocffsjTfIsXL5bD4VDXrl0vbYEAAAAAijS3B6clS5Zo1KhRGjt2rH788UdFRUWpQ4cOOnbsWK7zHThwQI899piuv/76y1QpAAAAgKLK7cFp2rRpGjx4sPr376/atWtrzpw5CggI0Lx58y44T2Zmpnr16qXx48frmmuuuYzVAgAAACiK3Bqc0tLStHXrVrVr185q8/DwULt27bRp06YLzvfcc8+pdOnSGjhwoO0yUlNTFRcX5/IAAAAAgPxwa3A6ceKEMjMzFR4e7tIeHh6umJiYHOf55ptv9NZbb2nu3Ll5WsaUKVNUrFgx61GhQoWLrhsAAABA0eL2Q/XyIz4+Xr1799bcuXNVsmTJPM0zevRoxcbGWo9Dhw5d4ioBAAAA/Nt4uXPhJUuWlKenp44ePerSfvToUUVERGTrv2/fPh04cEBdunSx2pxOpyTJy8tLe/bsUZUqVVzm8fX1la+v7yWoHgAAAEBR4dY9Tj4+PmrUqJGio6OtNqfTqejoaDVv3jxb/5o1a2rnzp3avn279bjtttt04403avv27RyGBwAAAOCScOseJ0kaNWqU+vbtq8aNG6tJkyaaPn26EhMT1b9/f0lSnz59VK5cOU2ZMkV+fn6qW7euy/yhoaGSlK0dAAAAAAqL24NTjx49dPz4cT377LOKiYlR/fr1tXLlSuuCEQcPHpSHx1V1KhYAAACAfxm3BydJGjp0qIYOHZrjtHXr1uU674IFCwq/IAAAAAA4D7tyAAAAAMAGwQkAAAAAbBCcAAAAAMAGwQkAAAAAbBCcAAAAAMAGwQkAAAAAbBCcAAAAAMAGwQkAAAAAbBCcAAAAAMAGwQkAAAAAbBCcAAAAAMAGwQkAAAAAbBCcAAAAAMAGwQkAAAAAbBCcAAAAAMAGwQkAAAAAbBCcAAAAAMAGwQkAAAAAbBCcAAAAAMAGwQkAAAAAbBCcAAAAAMAGwQkAAAAAbBCcAAAAAMAGwQkAAAAAbBCcAAAAAMAGwQkAAAAAbBCcAAAAAMAGwQkAAAAAbBCcAAAAAMAGwQkAAAAAbBCcAAAAAMAGwQkAAAAAbBCcAAAAAMAGwQkAAAAAbBCcAAAAAMAGwQkAAAAAbBCcAAAAAMAGwQkAAAAAbBCcAAAAAMAGwQkAAAAAbBCcAAAAAMAGwQkAAAAAbBCcAAAAAMAGwQkAAAAAbBCcAAAAAMAGwQkAAAAAbBCcAAAAAMAGwQkAAAAAbBCcAAAAAMAGwQkAAAAAbBCcAAAAAMAGwQkAAAAAbBCcAAAAAMAGwQkAAAAAbBCcAAAAAMAGwQkAAAAAbBCcAAAAAMAGwQkAAAAAbBCcAAAAAMAGwQkAAAAAbBCcAAAAAMAGwQkAAAAAbBCcAAAAAMAGwQkAAAAAbBCcAAAAAMAGwQkAAAAAbBCcAAAAAMAGwQkAAAAAbBCcAAAAAMAGwQkAAAAAbBCcAAAAAMAGwQkAAAAAbBCcAAAAAMAGwQkAAAAAbBCcAAAAAMAGwQkAAAAAbBCcAAAAAMDGFRGcZs6cqcjISPn5+alp06b64YcfLth37ty5uv766xUWFqawsDC1a9cu1/4AAAAAcLHcHpyWLFmiUaNGaezYsfrxxx8VFRWlDh066NixYzn2X7dunXr27Km1a9dq06ZNqlChgtq3b6+///77MlcOAAAAoKhwe3CaNm2aBg8erP79+6t27dqaM2eOAgICNG/evBz7L1y4UA8//LDq16+vmjVr6s0335TT6VR0dPRlrhwAAABAUeHW4JSWlqatW7eqXbt2VpuHh4fatWunTZs25WmMpKQkpaenq3jx4jlOT01NVVxcnMsDAAAAAPLDrcHpxIkTyszMVHh4uEt7eHi4YmJi8jTGk08+qbJly7qEr/NNmTJFxYoVsx4VKlS46LoBAAAAFC1uP1TvYjz//PNavHixPvroI/n5+eXYZ/To0YqNjbUehw4dusxVAgAAALjaeblz4SVLlpSnp6eOHj3q0n706FFFRETkOu/LL7+s559/XmvWrNG11157wX6+vr7y9fUtlHoBAAAAFE1u3ePk4+OjRo0auVzY4eyFHpo3b37B+V588UVNmDBBK1euVOPGjS9HqQAAAACKMLfucZKkUaNGqW/fvmrcuLGaNGmi6dOnKzExUf3795ck9enTR+XKldOUKVMkSS+88IKeffZZLVq0SJGRkda5UEFBQQoKCnLbegAAAAD493J7cOrRo4eOHz+uZ599VjExMapfv75WrlxpXTDi4MGD8vA4t2Ns9uzZSktLU7du3VzGGTt2rMaNG3c5SwcAAABQRLg9OEnS0KFDNXTo0BynrVu3zuX1gQMHLn1BAAAAAHCeq/qqegAAAABwORCcAAAAAMAGwQkAAAAAbBCcAAAAAMAGwQkAAAAAbBCcAAAAAMAGwQkAAAAAbBCcAAAAAMAGwQkAAAAAbBCcAAAAAMAGwQkAAAAAbBCcAAAAAMAGwQkAAAAAbBCcAAAAAMAGwQkAAAAAbBCcAAAAAMAGwQkAAAAAbBCcAAAAAMAGwQkAAAAAbBCcAAAAAMAGwQkAAAAAbBCcAAAAAMAGwQkAAAAAbBCcAAAAAMAGwQkAAAAAbBCcAAAAAMAGwQkAAAAAbBCcAAAAAMAGwQkAAAAAbBCcAAAAAMAGwQkAAAAAbBCcAAAAAMAGwQkAAAAAbHi5uwAAAADg38zP06Ewfw95ONxdyaWRkpLi7hJseXt7y9PT86LGIDgBAAAAl0i14t56qHGogv08Jf07k9P+/fvdXYIth8Oh8uXLKygoqMBjEJwAAACAS8DP06GHGoeqUniYvAJCJMe/MzhVjghxdwm5Msbo+PHj+uuvv1StWrUC73kiOAEAAACXQJi/h4L9POUVECKHt6+7y7lk/Pz83F2CrVKlSunAgQNKT08vcHDi4hAAAADAJZB1TpPjX7un6WriKIT/BwQnAAAAALBBcAIAAACQo9nTnte4xx+RJP34/be6u30ra1pUhTAdPfJ3jvONGzdOgwYNuiw1Xi6c4wQAAABcJre9vvGSjf3p0JZ57tux+bU6deKEHB7n9qOM/M849eh74bDTsGkLLf3ym4uq8WpGcAJQ5GXGHFbie/OUunmTnCePy+EfIM8y5eV3/Y0KvHeg7fxpO7Yo5euvlP7zdjmPH5MzPlYeIaHyvrahAnsNlHeV6lZfk5KshPmzlLJ+jUx8nLyuqaag+4fLp14DlzHjpk5Q8oplCnt1vnzq1i/sVQYAQLMXfqiGTZq7u4yrBofqASjS0n7erpODeyh5+YdyxhyW0tNl4mKVsecXJX/+SZ7GSFw0X8nL3lPGb7vkPH1SysiQ89QJpa77UqeG9FHaLzusvvFzX1XS0v+TX+u2Cp08Q5lH/taZ0cOUeSzG6pO+d7eSv/hYfu06EZoAAJfVqZMn9HDvbmpRq6IGdu+iUyeOW9M2b/pGt7Zq6NI/euUKVaxYUREREXrppZcuOO769evVqFEjhYaGqk2bNtq3b98lW4dLhT1OAIosZ0K8Ysc/LpOYIHl4yr/zHfK5roUcvr7KPPyXMg4dyPNYnmXKy79zV3lVryPnsSNKmD9LzpMnpLRUJcx9VcWnvyVJSl2/RpIU2Pt+eQSHyPeGdkr+aLFSf/hWAbfeKUmKf/1FOXx8FTR4eKGvMwAAuZky5nGFlSiptdt+066fd+jh3ner/a1dL9h/w5pV+vnnn3X48GHdeOONatiwodq2bevS59ChQ+rWrZuWLVumFi1aaNasWbrnnnu0efPmS7w2hYvgBKDISv5sWVa4kRTY9wEF9R5coHECe/SVd1RDOTzP/ZPqKBaq2GdGSZLS9/xqtZv0tKzpXt5Z//X2yZqQlppVU/QXSt+5TUEDh8qzVOkC1QMAQF4M6dNdnp7nDkCb/uYifbXyM326Yat8/fxUv3FT3XDzLbmOMXDoSIWEhCgkJEQDBw7UkiVLsgWnhQsX6o477tD1118vSRo2bJiee+45HThwQJGRkYW+XpcKh+oBKLJSN60/98I4dXLg3Tp6SzMdv6ej4ue+KvO/MGPHp2ETl9AkSV7lKlrPHefdGNCnQRNJUvKXy+WMPaPUTRskD09512+cdf7TGzPkWaa8Au7ufRFrBgCAvZnvvK9vfvnTekRWqaqMjAxFlC1n9Tn/eU4iypybXqFCBR05ciRbn4MHD+rdd99VaGio9UhMTNTff+d8Rb4rFcEJQJGV8ed+63nigjnK2P+7lJYq57EYJb03X2fGjJQxpkBjp3wdbT33bXLuKkfBw56QT8Mmip8xRcfvuFHOUycU8ugYeV9TTYmL5sl5/KiCHholh4+PTGaGMk+dLPgKAgCQD2ElSsrLy0sxh88FmvOf5yTmvMuRHzp0SGXKlMnWp1y5cho8eLDOnDljPZKSktSyZd6vAnglIDgBKLJMQrz13BEcopCnJijkqQlyBIdIktK2bFLqt+vyPW7qd18r8f/ezBo3pJiC+j9sTfMsUUphL/9XpT7doJKLVqjUx+vk37Fr1pX93n9XPo2ayrfFDYp/Y4aOdWqpE93a6dgdNyrlq5UXt7IAANjw9PTUjR06a86055WakqKfftysDWty//6ZP2u64uLitGfPHs2bN0/du3fP1ufee+/V0qVL9fXXX8vpdCo+Pl4ffPDBpVqNS4ZznAAUXT7eUkqmJCngtrvl3/5WSVLGwf1KWjRPkpS29Xv5tbwxz0OmbFij2En/kdLT5fAPUOikGfKMKJutn0dQsBQUbL2Onz1VysxU8MOPK/nzj5S0eIG8qteSf6c7lDBvlmKnPCOva6rJK7LKxawxAACWh3rd5XIfp14DHtDoCS9qzMiH1aZ+NdW+tr46db1b6enpFxyj1U3tVbduXaWmpmrkyJFq165dtj6VK1fW4sWL9fjjj2v37t0KDAzUTTfdpG7dul2S9bpUCE4AiizP0mWUeTDrcD2P8HOHFnie99wkJeZ5vORVnyrupeckZ6YcQcEKnfKafOpE2c6X9uMPSv36K/nf2VNelaso7rUXJElBgx+Rb6Nmch4/qsSFbynl62gFEZwA4KqWn5vUXkpfbPrpgtNm/1/Oe4Oua95Kn33zo/V6x6HTkqTnn3kiW99x48a5vL7hhhv03XffFaDSKweH6gEosrzrngs1zqPn7qPkPO+eSp6lIvI0VtLHSxT34jjJmSmPsOIKe2VunkKTycxU/MyX5CgWqqB+D2Ut/3TWlf7OBjiP8Kw9Vk7OdwIAwG3Y4wSgyPLvdIdSvvhEMkZJy5fKs2KkJClp+bm/tPm2PndJ1VMjByl9x1ZJUslFK6xD8BKX/p8SZk/N6uTto6BBw2SSkpS2c5s1r0+9BjnWkPzpUmXs/13BI5/OOnxPkmd4WWX+uV/OM6el8pVkYk//rz37CbcAAODyIDgBKLJ8al+rgO59lLTkbZm4WMVNGeMyPeCefvKuVtN2HJcLSKSnKe6l8dn6hH+1LVubM/aMEhbMllfVGvLvfKfV7n/rXUr7YaOSlrwjSUpe+Ykcfv7ya9cpj2sGAAAKG8EJwFXJb1Xh3PvBL/JuJXQurvgfP1P6iYOSJO+SkQpudKuCKt0onbccj1Pn7uvkuyFGXsVMtvb81Hvyy1ky8XEq0eU/8lt97r4Xfqouzw5DFbf5Y5159CF5l6ykkneNl9/WdElX0D0vbqzv7goAALhsCE4Airygum0VVLetbb+Ie5/PV7udEu0fVon2D+c4Lbj+LQqun/vd2gEAwOXDxSEAAAAAwAbBCQAAAABsEJwAAAAAwAbBCQAAAECujvx9SK3qVHJ3GW7FxSEAAACAy6T93gOXbOwvq0XmuW/H5tfq1IkTcnh4KDAoSO1v7apHn5koL6+c40GZchX0zS9/FlKlVyf2OAEAAABF0OyFH+q7PX9p3gcr9OVnH2vZorfdXdIVjeAEAAAAFGGVKldRwybN9ftvu7Xk7TfVqWV9tYmqqtGP3K/4uFhJ0t+HDqphZElrnrmvvqy2jWqqRa2Kqlevnn799VdJ0qFDh9SpUyeFhYWpdu3a+uSTT6x52rRpo7Fjx6px48YKCQlRjx49lJp67l6Is2bN0jXXXKNSpUrpvvvuU2xs1rLXrVunqlWrutTscDj0119/SZImTZqkMmXKKCQkxKWWwkZwAgAAAIqwA/v26scfNqlG7bp649WX9dr8xfp80w6lpqToxbGjs/Xf//tvWvp/87Xki/Xa+OufWrp0qYoXLy5J6tmzp+rUqaOYmBjNmjVL9913n37//Xdr3vfff18ffvihDh48qJ9//lmLFi2SJK1evVoTJkzQZ599pgMHDig5OVnDhw+3rX337t2aM2eOtm3bptjYWJdaChvBCQAAACiChvTprlZ1KunhPnfrtrt7avuWH3TXvX1VpXpNBQQE6pEnn9Gq5R/JGOMyn6enl9LS0vTH778pMzNTNWvWVEREhA4dOqQtW7boueeek6+vr9q0aaNbb71VS5cuteYdNGiQKlWqpNDQUHXu3Fk7duyQJC1evFj333+/ateurcDAQE2ePFlLlizJtux/8vLyUmpqqnbt2uVSy6VAcAIAAACKoJnvvK9vfvlTn2/cruFPjdXJ40cVUa68Nb1MuQpKTU1R7JnTLvNVrHyNHn1mgl57YYJualBdgwYNUlxcnA4fPqxSpUrJ39/f6lupUiUdPnzYeh0eHm49DwgIUEJCgiTp8OHDqlixost8KSkpOnXqVK7rULVqVU2dOlX/+c9/FB4ebtVyKRCcAAAAAKhUeBnF/P2X9frI4b/k6+unYqFh2fp2uesevfvJl/pk/WYdOHBA06ZNU9myZXX8+HGlpKRY/Q4ePKiyZcvaLrts2bI6ePCgy3x+fn4qXry4AgMDlZycbE07evSoy7y9e/fWpk2btGfPHquWS4HgBAAAAEAdutyhZYve0R979ygpKVGvvzhR7bt0lcPhcOl3YN9ebd70jdLT0uTn7y9fX195enqqQoUKatiwocaOHau0tDRt2LBBy5cvV7du3WyX3aNHD82dO1e7du1SYmKinn76aXXv3l0Oh0PVq1fX6dOntX79eqWmpmrChAnWfHv27NG6deuUlpamgIAAq5ZLgfs4AQAAAJdJfu61dLm1uOEmDRg6UkP6dldSQoKat75RT4ydkq1fWlqqXpn4rPbv2ysfHx91vKWDRo4cKencuUqlS5dWmTJl9Pbbb6tatWq2y27fvr1Gjx6tTp06KT4+Xu3bt9f06dMlScWKFdOMGTPUvXt3eXp6asqUczWlpqbq8ccf1+7du+Xr66v27dtbtRQ2h7E74+pfJi4uTsWKFVNsbKxCQkLcXU6BRT61wt0lFHkHnu/s7hKKNLYB92MbcD+2A/djO3C/K3k7KBfsqXE3llbpsuXl8PJxdzmXzLXlQ91dgq2UlBTt379flStXlp+fn9Wen2zAoXoAAAAAYIPgBAAAAAA2CE4AAAAAYIPgBAAAAAA2CE4AAADAJeA0kmSkonUttitSYVwPj8uRAwAAAJfA6WSn4lMyVTwpTl4BIdI/7of0b3H+DW+vRMYYHT9+XA6HQ97e3gUeh+AEAAAAXAIpmUazt5zRQ42lYL84Sf/O4OST7O/uEmw5HA6VL1/+om6OS3ACAAAALpG9p9L1n+gTCvP3kMe/Mzcp+tE27i7Blre390WFJukKCU4zZ87USy+9pJiYGEVFRem1115TkyZNLth/6dKleuaZZ3TgwAFVq1ZNL7zwgjp16nQZKwYAAADyJiXT6EhCprvLuGTOv6Hsv5nbLw6xZMkSjRo1SmPHjtWPP/6oqKgodejQQceOHcux/7fffquePXtq4MCB2rZtm7p27aquXbvq559/vsyVAwAAACgq3B6cpk2bpsGDB6t///6qXbu25syZo4CAAM2bNy/H/jNmzNAtt9yixx9/XLVq1dKECRPUsGFDvf7665e5cgAAAABFhVsP1UtLS9PWrVs1evRoq83Dw0Pt2rXTpk2bcpxn06ZNGjVqlEtbhw4d9PHHH+fYPzU1Vampqdbr2NhYSVJcXNxFVu9eztQkd5dQ5F3tn6GrHduA+7ENuB/bgfuxHbgf24H7Xc3bwdna83K5crcGpxMnTigzM1Ph4eEu7eHh4dq9e3eO88TExOTYPyYmJsf+U6ZM0fjx47O1V6hQoYBVA1mKTXd3BYB7sQ0AbAeA9O/YDuLj41WsWLFc+1wRF4e4lEaPHu2yh8rpdOrUqVMqUaKEHP/Sa+lf6eLi4lShQgUdOnRIISEh7i4HcAu2A4DtAGAbcD9jjOLj41W2bFnbvm4NTiVLlpSnp6eOHj3q0n706FFFRETkOE9ERES++vv6+srX19elLTQ0tOBFo9CEhITwjwSKPLYDgO0AYBtwL7s9TWe59eIQPj4+atSokaKjo602p9Op6OhoNW/ePMd5mjdv7tJfklavXn3B/gAAAABwsdx+qN6oUaPUt29fNW7cWE2aNNH06dOVmJio/v37S5L69OmjcuXKacqUKZKk4cOH64YbbtDUqVPVuXNnLV68WFu2bNEbb7zhztUAAAAA8C/m9uDUo0cPHT9+XM8++6xiYmJUv359rVy50roAxMGDB+XhcW7HWIsWLbRo0SKNGTNG//nPf1StWjV9/PHHqlu3rrtWAfnk6+ursWPHZjuEEihK2A4AtgOAbeDq4jB5ufYeAAAAABRhbr8BLgAAAABc6QhOAAAAAGCD4AQAAAAANghOyJUxRvfff7+KFy8uh8Oh0NBQjRgxwpoeGRmp6dOnu60+4ErWr18/de3a1Xrdpk0bth/gEvjntgb8GyxYsIB7j15h3H5VPVzZVq5cqQULFmjdunW65ppr5OHhIX9/f3eXBVwVZsyYIa6/AxSeAwcOqHLlytq2bZvq16/v7nIAFDEEJ+Rq3759KlOmjFq0aFFoY6anp8vb27vQxgOuVHm9EzkAALjycageLqhfv34aNmyYDh48KIfDocjIyGyHGklSfHy8evbsqcDAQJUrV04zZ850me5wODR79mzddtttCgwM1KRJkyRJs2fPVpUqVeTj46MaNWro3XffteY5cOCAHA6Htm/fbrWdOXNGDodD69atkySdPn1avXr1UqlSpeTv769q1app/vz5l+S9AHLzwQcfqF69evL391eJEiXUrl07JSYm5vvwoTfffFOhoaGKjo5W1apV9fLLL7tM3759uxwOh37//fdCXgMgZ3af7cmTJys8PFyhoaF67rnnlJGRoccff1zFixdX+fLls/2bvHPnTt10003WePfff78SEhKs6U6nU88995zKly8vX19f696OZ1WuXFmS1KBBAzkcDrVp08Zl/JdfflllypRRiRIlNGTIEKWnp1+6Nwf4nwttJ5I0b9481alTR76+vipTpoyGDh1qzTdt2jTVq1dPgYGBqlChgh5++GGX7eF8Bw4ckIeHh7Zs2eLSPn36dFWqVElOp/PSrSAsBCdc0IwZM6wvsCNHjmjz5s059nvppZcUFRWlbdu26amnntLw4cO1evVqlz7jxo3THXfcoZ07d2rAgAH66KOPNHz4cD366KP6+eef9cADD6h///5au3Ztnut75pln9Ouvv+qLL77Qrl27NHv2bJUsWfKi1hnIryNHjqhnz54aMGCAdu3apXXr1unOO+/M9yF6L774op566il9+eWXatu2rQYMGJDtR+f8+fPVunVrVa1atTBXAciR3Wf7q6++0uHDh7VhwwZNmzZNY8eO1a233qqwsDB9//33evDBB/XAAw/or7/+kiQlJiaqQ4cOCgsL0+bNm7V06VKtWbPG5YfkjBkzNHXqVL388sv66aef1KFDB912223au3evJOmHH36QJK1Zs0ZHjhzRsmXLrHnXrl2rffv2ae3atXr77be1YMECLViw4DK9WyiqcttOZs+erSFDhuj+++/Xzp079emnn7r8++3h4aFXX31Vv/zyi95++2199dVXeuKJJ3JcTmRkpNq1a5fj90K/fv3k4cFP+svCALl45ZVXTKVKlazXN9xwgxk+fLj1ulKlSuaWW25xmadHjx6mY8eO1mtJZsSIES59WrRoYQYPHuzSdvfdd5tOnToZY4zZv3+/kWS2bdtmTT99+rSRZNauXWuMMaZLly6mf//+F7F2wMXbunWrkWQOHDiQbVrfvn3N7bffbr3Oaft55ZVXzBNPPGHKlCljfv75Z2va33//bTw9Pc33339vjDEmLS3NlCxZ0ixYsOCSrQtwPrvPdqVKlUxmZqbVVqNGDXP99ddbrzMyMkxgYKB57733jDHGvPHGGyYsLMwkJCRYfVasWGE8PDxMTEyMMcaYsmXLmkmTJrks67rrrjMPP/ywMSbn74bz68nIyLDa7r77btOjR48Crj2QN7ltJ2XLljVPP/10nsdaunSpKVGihPV6/vz5plixYtbrJUuWmLCwMJOSkmIt2+FwmP379xe4fuQP8RQXrXnz5tle79q1y6WtcePGLq937dqlli1burS1bNky23y5eeihh7R48WLVr19fTzzxhL799tt8Vg5cvKioKLVt21b16tXT3Xffrblz5+r06dN5nn/q1KmaO3euvvnmG9WpU8dqL1u2rDp37qx58+ZJkpYvX67U1FTdfffdhb4OQE7sPtt16tRx+St3eHi46tWrZ7329PRUiRIldOzYMUlZ/+5HRUUpMDDQ6tOyZUs5nU7t2bNHcXFxOnz4cIG/G+rUqSNPT0/rdZkyZaxlA5fKhbaTY8eO6fDhw2rbtu0F512zZo3atm2rcuXKKTg4WL1799bJkyeVlJSUY/+uXbvK09NTH330kaSsq+7deOONioyMvBSrhhwQnHBZnP9FmRdnv4zNeYc7/fNY9Y4dO+rPP//UyJEjrX+cHnvssYsvFsgHT09PrV69Wl988YVq166t1157TTVq1ND+/fvzNP/111+vzMxMvf/++9mmDRo0SIsXL1ZycrLmz5+vHj16KCAgoLBXAciR3Wf7nxf5cTgcObZdrnMv3LlsFF0X2k6OHj2a63wHDhzQrbfeqmuvvVYffvihtm7dap0jnpaWluM8Pj4+6tOnj+bPn6+0tDQtWrRIAwYMKPR1woURnHDRvvvuu2yva9Wqles8tWrV0saNG13aNm7cqNq1a0uSSpUqJSnr2OGzzr9QxFmlSpVS37599X//93+aPn263njjjYKsAnBRHA6HWrZsqfHjx2vbtm3y8fGx/iJop0mTJvriiy80efLkbBeD6NSpkwIDAzV79mytXLmSL0hcdhfz2f6nWrVqaceOHdZJ81LWv/seHh6qUaOGQkJCVLZs2Vy/G3x8fCRJmZmZBVwjoPDltJ2sXr1akZGRio6OznGerVu3yul0aurUqWrWrJmqV6+uw4cP2y5r0KBBWrNmjWbNmqWMjAzdeeedhb06yAWXI8dF27hxo1588UV17dpVq1ev1tKlS7VixYpc53n88cfVvXt3NWjQQO3atdPy5cu1bNkyrVmzRpLk7++vZs2a6fnnn1flypV17NgxjRkzxmWMZ599Vo0aNVKdOnWUmpqqzz77zDawAYXt+++/V3R0tNq3b6/SpUvr+++/1/Hjx1WrVi399NNPeRqjRYsW+vzzz9WxY0d5eXlZV6709PRUv379NHr0aFWrVi3bYbHApVQYn+3z9erVS2PHjlXfvn01btw4HT9+XMOGDVPv3r0VHh4uKeu7YezYsapSpYrq16+v+fPna/v27Vq4cKEkqXTp0vL399fKlStVvnx5+fn5cdl/uFVu28m4ceP04IMPqnTp0urYsaPi4+O1ceNGDRs2TFWrVlV6erpee+01denSRRs3btScOXNsl1erVi01a9ZMTz75pAYMGMC9NS8z9jjhoj366KPasmWLGjRooIkTJ2ratGnq0KFDrvN07dpVM2bM0Msvv6w6derov//9r+bPn+9yadl58+YpIyNDjRo10ogRIzRx4kSXMXx8fDR69Ghde+21at26tTw9PbV48eJLsYrABYWEhGjDhg3q1KmTqlevrjFjxmjq1Knq2LFjvsZp1aqVVqxYoTFjxui1116z2gcOHKi0tDT179+/sEsHclVYn+2zAgICtGrVKp06dUrXXXedunXrprZt2+r111+3+jzyyCMaNWqUHn30UdWrV08rV67Up59+qmrVqkmSvLy89Oqrr+q///2vypYtq9tvv71Q1hUoqNy2k759+2r69OmaNWuW6tSpo1tvvdW6QmRUVJSmTZumF154QXXr1tXChQs1ZcqUPC3z7PcCRyFcfg5juK09AFypvv76a7Vt21aHDh2y/ioPACi6JkyYoKVLlxZozy8uDofqAcAVKDU1VcePH9e4ceN09913E5oAoIhLSEjQgQMH9Prrr2c7CgeXB4fqAcAV6L333lOlSpV05swZvfjii+4uBwDgZkOHDlWjRo3Upk0bDtNzEw7VAwAAAAAb7HECAAAAABsEJwAAAACwQXACAAAAABsEJwAAAACwQXACAEiSxo0bp/r161uv+/Xrp65du7qtnvO98cYbqlChgjw8PDR9+nS31LBgwQKFhoZe9DgOh0Mff/zxRY9zMQ4cOCCHw6Ht27e7tQ4AuJpwHycA+Jfp16+fzpw54/Yf54UlLi5OQ4cO1bRp03TXXXepWLFi7i7pqlehQgUdOXJEJUuWdHcpAHDVIDgBAK5IxhhlZmbq4MGDSk9PV+fOnVWmTBl3l3XVS0tLk4+PjyIiItxdCgBcVThUDwCuQh988IHq1asnf39/lShRQu3atVNiYqLGjRunt99+W5988okcDoccDofWrVsnSXryySdVvXp1BQQE6JprrtEzzzyj9PT0PC9z8+bNKlWqlF544YUcp6elpWno0KEqU6aM/Pz8VKlSJU2ZMkVSzoeGnTlzxqW+devWyeFw6IsvvlCjRo3k6+ur//u//1O9evUkSddcc40cDocOHDigffv26fbbb1d4eLiCgoJ03XXXac2aNS71pKam6sknn1SFChXk6+urqlWr6q233rKm//zzz+rYsaOCgoIUHh6u3r1768SJE7bvw8cff6xq1arJz89PHTp00KFDh1ymf/LJJ2rYsKH8/Px0zTXXaPz48crIyLjgeDt37tRNN91k/b+8//77lZCQYNXo4eGh48ePS5JOnTolDw8P3XPPPdb8EydOVKtWrS44fmRkpCZMmKA+ffooJCRE999/f7b/H2ff++joaDVu3FgBAQFq0aKF9uzZ4zLWxIkTVbp0aQUHB2vQoEF66qmnXA7vBIB/M4ITAFxljhw5op49e2rAgAHatWuX1q1bpzvvvFPGGD322GPq3r27brnlFh05ckRHjhxRixYtJEnBwcFasGCBfv31V82YMUNz587VK6+8kqdlfvXVV7r55ps1adIkPfnkkzn2efXVV/Xpp5/q/fff1549e7Rw4UJFRkbme/2eeuopPf/889q1a5duvvlmKxD98MMPOnLkiCpUqKCEhAR16tRJ0dHR2rZtm2655RZ16dJFBw8etMbp06eP3nvvPb366qvatWuX/vvf/yooKEhSVmi76aab1KBBA23ZskUrV67U0aNH1b1791xrS0pK0qRJk/TOO+9o48aNOnPmjEuI+frrr9WnTx8NHz5cv/76q/773/9qwYIFmjRpUo7jJSYmqkOHDgoLC9PmzZu1dOlSrVmzRkOHDpUk1alTRyVKlND69eut8c9/LUnr169XmzZtcq375ZdfVlRUlLZt26Znnnnmgv2efvppTZ06VVu2bJGXl5cGDBhgTVu4cKEmTZqkF154QVu3blXFihU1e/bsXJcLAP8qBgBwVdm6dauRZA4cOJDj9L59+5rbb7/ddpyXXnrJNGrUyHo9duxYExUVlW2cZcuWmaCgILN48eJcxxs2bJi56aabjNPpzDZt//79RpLZtm2b1Xb69Gkjyaxdu9YYY8zatWuNJPPxxx+7zLtt2zYjyezfvz/X5depU8e89tprxhhj9uzZYySZ1atX59h3woQJpn379i5thw4dMpLMnj17cpxn/vz5RpL57rvvrLZdu3YZSeb77783xhjTtm1bM3nyZJf53n33XVOmTBnrtSTz0UcfGWOMeeONN0xYWJhJSEiwpq9YscJ4eHiYmJgYY4wxd955pxkyZIgxxpgRI0aYxx9/3ISFhZldu3aZtLQ0ExAQYL788ssLvi+VKlUyXbt2dWn75/+Ps+/9mjVrXOqQZJKTk40xxjRt2tSq46yWLVu6fGYA4N+MPU4AcJWJiopS27ZtVa9ePd19992aO3euTp8+bTvfkiVL1LJlS0VERCgoKEhjxoxx2UOTk++//15333233n33XfXo0SPXvv369dP27dtVo0YNPfLII/ryyy/ztV5nNW7c2LZPQkKCHnvsMdWqVUuhoaEKCgrSrl27rPXZvn27PD09dcMNN+Q4/44dO7R27VoFBQVZj5o1a0qS9u3bd8Hlenl56brrrrNe16xZU6Ghodq1a5c17nPPPecy7uDBg3XkyBElJSVlG2/Xrl2KiopSYGCg1dayZUs5nU7rMLkbbrjBOpxx/fr1uummm9S6dWutW7dOmzdvVnp6ulq2bJnr+5WX91SSrr32Wuv52fPJjh07Jknas2ePmjRp4tL/n68B4N+M4AQAVxlPT0+tXr1aX3zxhWrXrq3XXntNNWrU0P79+y84z6ZNm9SrVy916tRJn332mbZt26ann35aaWlpuS6rSpUqqlmzpubNm2d7PlTDhg21f/9+TZgwQcnJyerevbu6desmSfLwyPq6McZY/S803vkh4kIee+wxffTRR5o8ebK+/vprbd++XfXq1bPWx9/fP9f5ExIS1KVLF23fvt3lsXfvXrVu3dp2+bmNO378eJcxd+7cqb1798rPz69AY7Zp00a//vqr9u7dq19//VWtWrVSmzZttG7dOq1fv946Jyk3eXlPJcnb29t67nA4JElOp7NAdQPAvw3BCQCuQg6HQy1bttT48eO1bds2+fj46KOPPpIk+fj4KDMz06X/t99+q0qVKunpp59W48aNVa1aNf3555+2yylZsqS++uor/f777+revbtteAoJCVGPHj00d+5cLVmyRB9++KFOnTqlUqVKSco6P+usi7mH0MaNG9WvXz/dcccdqlevniIiInTgwAFrer169eR0Ol3OBTpfw4YN9csvvygyMlJVq1Z1eeQWMjIyMrRlyxbr9Z49e3TmzBnVqlXLGnfPnj3ZxqxataoVHs9Xq1Yt7dixQ4mJiS7r5uHhoRo1aljrEhYWpokTJ6p+/foKCgpSmzZttH79eq1bt872/KbCUqNGDW3evNml7Z+vAeDfjOAEAFeZ77//XpMnT9aWLVt08OBBLVu2TMePH7d+vEdGRuqnn37Snj17dOLECaWnp6tatWo6ePCgFi9erH379unVV1+1gpad0qVL66uvvtLu3bvVs2fPC14hbtq0aXrvvfe0e/du/fbbb1q6dKkiIiIUGhoqf39/NWvWzLrow/r16zVmzJgCvwfVqlXTsmXLtH37du3YsUP33nuvy56RyMhI9e3bVwMGDNDHH3+s/fv3a926dXr//fclSUOGDNGpU6fUs2dPbd68Wfv27dOqVavUv3//bKHzfN7e3ho2bJi+//57bd26Vf369VOzZs2sQ9aeffZZvfPOOxo/frx++eUX7dq1S4sXL77guvbq1Ut+fn7q27evfv75Z61du1bDhg1T7969FR4eLikrJLdu3VoLFy60QtK1116r1NRURUdHX/BwxMI2bNgwvfXWW3r77be1d+9eTZw4UT/99JO1ZwoA/u0ITgBwlQkJCdGGDRvUqVMnVa9eXWPGjNHUqVPVsWNHSdLgwYNVo0YNNW7cWKVKldLGjRt12223aeTIkRo6dKjq16+vb7/9Nterq/1TRESEvvrqK+3cuVO9evXKMVwEBwfrxRdfVOPGjXXdddfpwIED+vzzz609LfPmzVNGRoYaNWqkESNGaOLEiQV+D6ZNm6awsDC1aNFCXbp0UYcOHdSwYUOXPrNnz1a3bt308MMPq2bNmho8eLC1Z6ds2bLauHGjMjMz1b59e9WrV08jRoxQaGhojnuGzgoICNCTTz6pe++9Vy1btlRQUJCWLFliTe/QoYM+++wzffnll7ruuuvUrFkzvfLKK6pUqdIFx1u1apVOnTql6667Tt26dVPbtm31+uuvu/S74YYblJmZaQUnDw8PtW7d2trzeDn06tVLo0eP1mOPPWYdltmvX78CH4IIAFcbhzn/gHMAAIA8uvnmmxUREaF3333X3aUAwCXn5e4CAADAlS8pKUlz5sxRhw4d5Onpqffee09r1qzR6tWr3V0aAFwW7HECAAC2kpOT1aVLF23btk0pKSmqUaOGxowZozvvvNPdpQHAZUFwAgAAAAAbXBwCAAAAAGwQnAAAAADABsEJAAAAAGwQnAAAAADABsEJAAAAAGwQnAAAAADABsEJAAAAAGwQnAAAAADABsEJAAAAAGz8P2iQjSPo+PdqAAAAAElFTkSuQmCC",
      "text/plain": [
       "<Figure size 1000x600 with 1 Axes>"
      ]
     },
     "metadata": {},
     "output_type": "display_data"
    }
   ],
   "source": [
    "#| echo: false\n",
    "# Stalk_surface vs class\n",
    "\n",
    "# stalk_surface_below ring\n",
    "\n",
    "cross_tab_prop = pd.crosstab(index=data['stalk_surface_below_ring'],\n",
    "                             columns=data['class'],\n",
    "                             normalize=\"index\")\n",
    "\n",
    "cross_tab_prop.plot(kind='bar', \n",
    "                    stacked=True, \n",
    "                    colormap='tab10', \n",
    "                    figsize=(10, 6))\n",
    "\n",
    "\n",
    "\n",
    "\n",
    "for n, x in enumerate([*cross_tab_prop.index.values]):\n",
    "    for (proportion, y_loc) in zip(cross_tab_prop.loc[x],\n",
    "                                   cross_tab_prop.loc[x].cumsum()):\n",
    "        if proportion != 0:                 \n",
    "            plt.text(x=n - 0.17,\n",
    "                    y=y_loc,\n",
    "                    s=f'{np.round(proportion * 100, 1)}%', \n",
    "                    color=\"black\",\n",
    "                    fontsize=12,\n",
    "                    fontweight=\"bold\")\n",
    "\n",
    "plt.xlabel(\"stalk surface below ring\")\n",
    "plt.ylabel(\"Proportion\")\n",
    "plt.xticks([0, 1, 2, 3],['fibrous','silky','smooth', 'scaly'],rotation = 0)\n",
    "plt.legend(labels=['Edible', 'Poisonous'], loc=4, fontsize='small', fancybox=True)\n",
    "plt.show() "
   ]
  },
  {
   "cell_type": "markdown",
   "metadata": {},
   "source": [
    "The surface above the ring is displaying the same results, so we can conclude that whether the mushroom has a ring or not, the stalk's surface above or below is not gonna change."
   ]
  },
  {
   "cell_type": "code",
   "execution_count": 38,
   "metadata": {},
   "outputs": [
    {
     "data": {
      "image/png": "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",
      "text/plain": [
       "<Figure size 1000x600 with 1 Axes>"
      ]
     },
     "metadata": {},
     "output_type": "display_data"
    }
   ],
   "source": [
    "#| echo: false\n",
    "# Veil color\n",
    "cross_tab_prop = pd.crosstab(index=data['veil_color'],\n",
    "                             columns=data['class'],\n",
    "                             normalize=\"index\")\n",
    "\n",
    "cross_tab_prop.plot(kind='bar', \n",
    "                    stacked=True, \n",
    "                    colormap='tab10', \n",
    "                    figsize=(10, 6))\n",
    "\n",
    "\n",
    "\n",
    "\n",
    "for n, x in enumerate([*cross_tab_prop.index.values]):\n",
    "    for (proportion, y_loc) in zip(cross_tab_prop.loc[x],\n",
    "                                   cross_tab_prop.loc[x].cumsum()):\n",
    "        if proportion != 0:                 \n",
    "            plt.text(x=n - 0.17,\n",
    "                    y=y_loc,\n",
    "                    s=f'{np.round(proportion * 100, 1)}%', \n",
    "                    color=\"black\",\n",
    "                    fontsize=12,\n",
    "                    fontweight=\"bold\")\n",
    "\n",
    "plt.xlabel(\"Veil color\")\n",
    "plt.ylabel(\"Proportion\")\n",
    "plt.xticks([0, 1, 2, 3],['brown','orange','white', 'yellow'],rotation = 0)\n",
    "plt.legend(labels=['Edible', 'Poisonous'], loc=4, fontsize='small', fancybox=True)\n",
    "plt.show() "
   ]
  },
  {
   "cell_type": "markdown",
   "metadata": {},
   "source": [
    "The veil is a emporary structure that's found on the fruiting bodies of mushrooms. If it's yellow, then the mushroom is definitly poisonous. If orange or brown, then  it's definitly edible. If it's white then we should look for other features like the stalk surface of the odor to detemine its edibility."
   ]
  },
  {
   "cell_type": "code",
   "execution_count": 39,
   "metadata": {},
   "outputs": [
    {
     "data": {
      "image/png": "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",
      "text/plain": [
       "<Figure size 1000x600 with 1 Axes>"
      ]
     },
     "metadata": {},
     "output_type": "display_data"
    }
   ],
   "source": [
    "#| echo: false\n",
    "# Veil color\n",
    "cross_tab_prop = pd.crosstab(index=data['gill_color'],\n",
    "                             columns=data['class'],\n",
    "                             normalize=\"index\")\n",
    "\n",
    "cross_tab_prop.plot(kind='bar', \n",
    "                    stacked=True, \n",
    "                    colormap='tab10', \n",
    "                    figsize=(10, 6))\n",
    "\n",
    "\n",
    "\n",
    "\n",
    "for n, x in enumerate([*cross_tab_prop.index.values]):\n",
    "    for (proportion, y_loc) in zip(cross_tab_prop.loc[x],\n",
    "                                   cross_tab_prop.loc[x].cumsum()):\n",
    "        if proportion != 0:                 \n",
    "            plt.text(x=n - 0.17,\n",
    "                    y=y_loc,\n",
    "                    s=f'{np.round(proportion * 100, 1)}%', \n",
    "                    color=\"black\",\n",
    "                    fontsize=10,\n",
    "                    fontweight=\"regular\")\n",
    "\n",
    "plt.xlabel(\"Gill color\")\n",
    "plt.ylabel(\"Proportion\")\n",
    "plt.xticks([0, 1, 2, 3, 4, 5, 6, 7, 8, 9, 10, 11],['buff', 'red', 'gray', 'chocolate', 'black', 'brown', 'orange', 'pink', 'green', 'purple', 'white', 'yellow'])\n",
    "plt.legend(labels=['Edible', 'Poisonous'], loc=4, fontsize='small', fancybox=True)\n",
    "plt.show()"
   ]
  },
  {
   "cell_type": "markdown",
   "metadata": {},
   "source": [
    "As we can see from the figure above, buff-colored gills are definitly poisonous. Red and orange gills are definitly edible. \n",
    "The rest of the colors are mostly edible excpet for pink."
   ]
=======
   "execution_count": null,
   "metadata": {},
   "outputs": [],
   "source": []
  },
  {
   "cell_type": "code",
   "execution_count": null,
   "metadata": {},
   "outputs": [],
   "source": []
  },
  {
   "cell_type": "code",
   "execution_count": null,
   "metadata": {},
   "outputs": [],
   "source": []
>>>>>>> 56da65d1571454645f7c77a7b0a709d80ecfc0a7
  },
  {
   "cell_type": "markdown",
   "metadata": {},
   "source": [
    "## Feature & Target Engineering"
   ]
  },
  {
   "cell_type": "markdown",
   "metadata": {},
   "source": [
    "The only feature and target engineering step we need to perform is label encoding for our categorical variables and the categorical target. Let's identify which class is 1 and which class is 0. "
   ]
  },
  {
   "cell_type": "code",
<<<<<<< HEAD
   "execution_count": 40,
=======
   "execution_count": 69,
>>>>>>> 56da65d1571454645f7c77a7b0a709d80ecfc0a7
   "metadata": {},
   "outputs": [
    {
     "name": "stdout",
     "output_type": "stream",
     "text": [
      "Class values before encoding:  ['p', 'e']\n",
      "Class values after encoding:  [1, 0]\n"
     ]
    }
   ],
   "source": [
    "#| echo: true\n",
    "print(\"Class values before encoding: \", data['class'].unique().tolist())\n",
    "print(\"Class values after encoding: \", encoded_data['class'].unique().tolist())"
   ]
  },
  {
   "cell_type": "markdown",
   "metadata": {},
   "source": [
    "We can see that the `Poisonous (p)` class is now labelled `1`, while the `Edible (e)` class is `0`."
   ]
  },
  {
   "cell_type": "markdown",
   "metadata": {},
   "source": [
    "## Baselining"
   ]
  },
  {
   "cell_type": "markdown",
   "metadata": {},
   "source": [
    "Baseline models are the stepping stone on which AI developers base their initial assumptions of the direction they should take their developing. So, baseline models tend to be rule-based and understandable. Since we're aiming to perform binary classification, we chose to do `LogisticRegression` as a baseline model which we'll use comapre our refined models. "
   ]
  },
  {
   "cell_type": "markdown",
   "metadata": {},
   "source": [
    "The second step after label encoding our data to prepare for modeling is to perform standard scaling (z-score).  "
   ]
  },
  {
   "cell_type": "code",
<<<<<<< HEAD
   "execution_count": 41,
   "metadata": {},
   "outputs": [],
   "source": [
    "#| echo: false\n",
=======
   "execution_count": 70,
   "metadata": {},
   "outputs": [],
   "source": [
    "#| echo: true\n",
>>>>>>> 56da65d1571454645f7c77a7b0a709d80ecfc0a7
    "scaled_data = deepcopy(encoded_data)\n",
    "scaled_data.drop('class', axis=1, inplace = True)\n",
    "\n",
    "ss = StandardScaler()\n",
    "\n",
    "ss.fit(scaled_data)\n",
    "scaled_data = ss.transform(scaled_data)"
   ]
  },
  {
   "cell_type": "markdown",
   "metadata": {},
   "source": [
    "The third step is to split our data to training and testing sets\n",
    "\n",
    "75% of the data is used for training while the remaining 25% is for testing"
   ]
  },
  {
   "cell_type": "code",
<<<<<<< HEAD
   "execution_count": 42,
   "metadata": {},
   "outputs": [],
   "source": [
    "#| echo: false\n",
=======
   "execution_count": 71,
   "metadata": {},
   "outputs": [],
   "source": [
>>>>>>> 56da65d1571454645f7c77a7b0a709d80ecfc0a7
    "X = scaled_data\n",
    "y = encoded_data['class']\n",
    "X_train, X_test, y_train, y_test = train_test_split(X, y, test_size=0.25)"
   ]
  },
  {
   "cell_type": "code",
<<<<<<< HEAD
   "execution_count": 43,
=======
   "execution_count": 72,
>>>>>>> 56da65d1571454645f7c77a7b0a709d80ecfc0a7
   "metadata": {},
   "outputs": [
    {
     "name": "stdout",
     "output_type": "stream",
     "text": [
      "Confusion Matrix :\n",
<<<<<<< HEAD
      " [[1004   51]\n",
      " [  53  923]]\n",
=======
      " [[965  43]\n",
      " [ 56 967]]\n",
>>>>>>> 56da65d1571454645f7c77a7b0a709d80ecfc0a7
      "\n",
      "Classification Report :\n",
      "               precision    recall  f1-score   support\n",
      "\n",
<<<<<<< HEAD
      "           0       0.95      0.95      0.95      1055\n",
      "           1       0.95      0.95      0.95       976\n",
=======
      "           0       0.95      0.96      0.95      1008\n",
      "           1       0.96      0.95      0.95      1023\n",
>>>>>>> 56da65d1571454645f7c77a7b0a709d80ecfc0a7
      "\n",
      "    accuracy                           0.95      2031\n",
      "   macro avg       0.95      0.95      0.95      2031\n",
      "weighted avg       0.95      0.95      0.95      2031\n",
      "\n"
     ]
    }
   ],
   "source": [
<<<<<<< HEAD
    "#| echo: false\n",
=======
>>>>>>> 56da65d1571454645f7c77a7b0a709d80ecfc0a7
    "# Baseline Logistic Regression Model\n",
    "lr = LogisticRegression()\n",
    "\n",
    "# Training \n",
    "lr.fit(X_train, y_train)\n",
    "\n",
    "# Predicting\n",
    "lr_pred = lr.predict(X_test)\n",
    "\n",
    "# Evaluating\n",
    "print('Confusion Matrix :\\n', confusion_matrix(y_test, lr_pred))\n",
    "print()\n",
    "print('Classification Report :\\n', classification_report(y_test, lr_pred))"
   ]
  },
  {
   "cell_type": "markdown",
   "metadata": {},
<<<<<<< HEAD
=======
   "source": []
  },
  {
   "cell_type": "markdown",
   "metadata": {},
>>>>>>> 56da65d1571454645f7c77a7b0a709d80ecfc0a7
   "source": [
    "## Feature Filtering & Dimensionality Reduction"
   ]
  },
  {
   "cell_type": "markdown",
   "metadata": {},
   "source": [
    "Our dataset has 20 features which is considered high, therefore, means of feature filtering and dimensionality reduction is necessary. For this purpose, we've used 3 feature filtering/selection algorithms (`Variance Thresholding, Chi Square, and LASSO`), as well as `Principal Component Anlaysis` for dimensionality reduction. "
   ]
  },
  {
   "cell_type": "markdown",
   "metadata": {},
   "source": [
    "### Variance Thresholding\n",
    "The first feature filtering method we used was variance thresholding. Features with low variance are considered redundant and non-informative. As a rule of thumb, features that have 5-10% > variance are removed. "
   ]
  },
  {
   "cell_type": "code",
<<<<<<< HEAD
   "execution_count": 65,
=======
   "execution_count": 73,
>>>>>>> 56da65d1571454645f7c77a7b0a709d80ecfc0a7
   "metadata": {},
   "outputs": [
    {
     "data": {
      "text/plain": [
       "Index(['cap_shape', 'cap_surface', 'cap_color', 'bruises', 'odor',\n",
       "       'gill_spacing', 'gill_size', 'gill_color', 'stalk_shape',\n",
       "       'stalk_surface_above_ring', 'stalk_surface_below_ring',\n",
       "       'stalk_color_above_ring', 'stalk_color_below_ring', 'ring_type',\n",
       "       'spore_print_color', 'population', 'habitat'],\n",
       "      dtype='object')"
      ]
     },
<<<<<<< HEAD
     "execution_count": 65,
=======
     "execution_count": 73,
>>>>>>> 56da65d1571454645f7c77a7b0a709d80ecfc0a7
     "metadata": {},
     "output_type": "execute_result"
    }
   ],
   "source": [
<<<<<<< HEAD
    "#| echo: false\n",
=======
>>>>>>> 56da65d1571454645f7c77a7b0a709d80ecfc0a7
    "def variance_threshold_selector(data, threshold=0.1):\n",
    "    selector = VarianceThreshold(threshold)\n",
    "    selector.fit(data)\n",
    "    return data.columns[selector.get_support(indices=True)]\n",
    "\n",
    "variance_threshold_cols = variance_threshold_selector(encoded_data.drop('class', axis = 1))\n",
    "variance_threshold_cols # Threshold values 5% and 10% are a rule of thumb"
   ]
  },
  {
   "cell_type": "markdown",
   "metadata": {},
   "source": [
<<<<<<< HEAD
    "We can see that 10% variance resulted in dropping 2 column only (`ring_number` and `veil_color`), while 5% didn't do us any good. \n",
    "\n",
    "Let's see the effect of removing these two features on the accuracy using our baseline model."
   ]
  },
  {
   "cell_type": "code",
   "execution_count": 66,
   "metadata": {},
   "outputs": [
    {
     "name": "stdout",
     "output_type": "stream",
     "text": [
      "Confusion Matrix :\n",
      " [[985  43]\n",
      " [ 82 921]]\n",
      "\n",
      "Classification Report :\n",
      "               precision    recall  f1-score   support\n",
      "\n",
      "           0       0.92      0.96      0.94      1028\n",
      "           1       0.96      0.92      0.94      1003\n",
      "\n",
      "    accuracy                           0.94      2031\n",
      "   macro avg       0.94      0.94      0.94      2031\n",
      "weighted avg       0.94      0.94      0.94      2031\n",
      "\n"
     ]
    }
   ],
   "source": [
    "#| echo: false\n",
    "X = encoded_data[['cap_shape', 'cap_surface', 'cap_color', 'bruises', 'odor',\n",
    "       'gill_spacing', 'gill_size', 'gill_color', 'stalk_shape',\n",
    "       'stalk_surface_above_ring', 'stalk_surface_below_ring',\n",
    "       'stalk_color_above_ring', 'stalk_color_below_ring', 'ring_type',\n",
    "       'spore_print_color', 'population', 'habitat']]\n",
    "y = encoded_data['class']\n",
    "X_train, X_test, y_train, y_test = train_test_split(X, y, test_size=0.25)\n",
    "\n",
    "# Logistic Regression\n",
    "\n",
    "lr = LogisticRegression()\n",
    "\n",
    "# training & prediction\n",
    "lr.fit(ss.fit_transform(X_train), y_train)\n",
    "lr_pred = lr.predict(ss.fit_transform(X_test))\n",
    "\n",
    "# evaluation\n",
    "print('Confusion Matrix :\\n', confusion_matrix(y_test, lr_pred))\n",
    "print()\n",
    "print('Classification Report :\\n', classification_report(y_test, lr_pred))"
=======
    "We can see that 10% variance resulted in dropping 2 column only (`ring_number` and `veil_color`), while 5% didn't do us any good. "
   ]
  },
  {
   "cell_type": "markdown",
   "metadata": {},
   "source": [
    "Let's see the effect of removing these two features on the accuracy using our baseline model."
>>>>>>> 56da65d1571454645f7c77a7b0a709d80ecfc0a7
   ]
  },
  {
   "cell_type": "markdown",
   "metadata": {},
   "source": [
    "Actually, the recall and f1-score of the positive class decreased which means that the beaseline model deals better with classifying the positive class than this model. So, this method is not beneficial to us."
   ]
  },
  {
   "cell_type": "markdown",
   "metadata": {},
   "source": [
    "### Least Absolute Shrinkage and Selection Operator (LASSO)\n",
    "The second method is LASSO `L1` which is a regularizaion method that banishes the weights of redundant features to reduce overfitting but they can be used for feature selection. The strength of regularization is determined by the variable `C` which is the strength of the penalty term. As `C` decreases the strength increases."
   ]
  },
  {
   "cell_type": "code",
<<<<<<< HEAD
   "execution_count": 45,
=======
   "execution_count": 77,
>>>>>>> 56da65d1571454645f7c77a7b0a709d80ecfc0a7
   "metadata": {},
   "outputs": [
    {
     "name": "stdout",
     "output_type": "stream",
     "text": [
      "total features: 20\n",
<<<<<<< HEAD
      "selected features: 11\n",
      "features with coefficients shrank to zero: 9\n",
      "\n",
      "Selected columns using Lasso: \n",
      " ['cap_shape', 'cap_color', 'bruises', 'gill_attachment', 'gill_spacing', 'gill_size', 'stalk_shape', 'stalk_root', 'stalk_surface_above_ring', 'stalk_surface_below_ring', 'stalk_color_above_ring'] \n",
      "\n",
      "Confusion Matrix :\n",
      " [[1010   42]\n",
      " [  80  899]]\n",
=======
      "selected features: 12\n",
      "features with coefficients shrank to zero: 8\n",
      "\n",
      "Selected columns using Lasso: \n",
      " ['cap_shape', 'cap_color', 'bruises', 'gill_attachment', 'gill_spacing', 'gill_size', 'stalk_shape', 'stalk_root', 'stalk_surface_above_ring', 'stalk_surface_below_ring', 'stalk_color_above_ring', 'ring_type'] \n",
      "\n",
      "Confusion Matrix :\n",
      " [[1006   45]\n",
      " [  62  918]]\n",
>>>>>>> 56da65d1571454645f7c77a7b0a709d80ecfc0a7
      "\n",
      "Classification Report :\n",
      "               precision    recall  f1-score   support\n",
      "\n",
<<<<<<< HEAD
      "           0       0.93      0.96      0.94      1052\n",
      "           1       0.96      0.92      0.94       979\n",
      "\n",
      "    accuracy                           0.94      2031\n",
      "   macro avg       0.94      0.94      0.94      2031\n",
      "weighted avg       0.94      0.94      0.94      2031\n",
=======
      "           0       0.94      0.96      0.95      1051\n",
      "           1       0.95      0.94      0.94       980\n",
      "\n",
      "    accuracy                           0.95      2031\n",
      "   macro avg       0.95      0.95      0.95      2031\n",
      "weighted avg       0.95      0.95      0.95      2031\n",
>>>>>>> 56da65d1571454645f7c77a7b0a709d80ecfc0a7
      "\n"
     ]
    }
   ],
   "source": [
<<<<<<< HEAD
    "#| echo: false\n",
=======
>>>>>>> 56da65d1571454645f7c77a7b0a709d80ecfc0a7
    "# Lasso \n",
    "# Start by splitting\n",
    "X = scaled_data\n",
    "y = encoded_data['class']\n",
    "X_train, X_test, y_train, y_test = train_test_split(X, y, test_size=0.25)\n",
    "\n",
    "# Select features from the model\n",
    "sel_ = SelectFromModel(LogisticRegression(C=0.01, penalty='l1', solver='liblinear'))\n",
    "sel_.fit(X_train, np.ravel(y_train,order='C'))\n",
    "sel_.get_support()\n",
    "X_train = pd.DataFrame(X_train)\n",
    "\n",
    "\n",
    "# To view the set of selected features\n",
    "selected_feat = X_train.columns[(sel_.get_support())]\n",
    "print('total features: {}'.format((X_train.shape[1])))\n",
    "print('selected features: {}'.format(len(selected_feat)))\n",
    "print('features with coefficients shrank to zero: {}'.format(\n",
    "np.sum(sel_.estimator_.coef_ == 0)))\n",
    "print()\n",
    "\n",
    "sel_col_l1 = list()\n",
    "[sel_col_l1.append(data.columns[i]) for i in X_train.columns[sel_.get_support(indices=True)].tolist()]\n",
    "print('Selected columns using Lasso:', '\\n',sel_col_l1, '\\n')\n",
    "\n",
    "# Logistic Regression\n",
<<<<<<< HEAD
    "lr = LogisticRegression()\n",
=======
    "lr = LogisticRegression(max_iter=500)\n",
>>>>>>> 56da65d1571454645f7c77a7b0a709d80ecfc0a7
    "\n",
    "# training & prediction\n",
    "lr.fit(X_train, y_train)\n",
    "lr_pred = lr.predict(X_test)\n",
    "\n",
    "# evaluation\n",
    "print('Confusion Matrix :\\n', confusion_matrix(y_test, lr_pred))\n",
    "print()\n",
    "print('Classification Report :\\n', classification_report(y_test, lr_pred))"
   ]
  },
  {
   "cell_type": "markdown",
   "metadata": {},
   "source": [
    "LASSO with `C = 0.01` resulted in removing 8 features `{cap_surface, odor, gill_color, stalk_color_below_ring, ring_number, habitat, population, veil_color, spore_print_color}` only to get a similar performance to the beasline model. However, this model is favored since it can get the same performance with 8 less features. "
   ]
  },
  {
   "cell_type": "markdown",
   "metadata": {},
   "source": [
    "### Chi Squared\n",
<<<<<<< HEAD
    "The Chi square test determines if there is a significant relationship between two variables and we aim to select the features which the class is highly dependent on. The Chi-Square value, if high, indicates that the hypothesis of independence is incorrect."
=======
    "Some shit about it"
>>>>>>> 56da65d1571454645f7c77a7b0a709d80ecfc0a7
   ]
  },
  {
   "cell_type": "code",
<<<<<<< HEAD
   "execution_count": 47,
=======
   "execution_count": 81,
>>>>>>> 56da65d1571454645f7c77a7b0a709d80ecfc0a7
   "metadata": {},
   "outputs": [
    {
     "name": "stdout",
     "output_type": "stream",
     "text": [
<<<<<<< HEAD
      "Feature 1: 150.534532\n",
      "Feature 3: 928.576952\n",
      "Feature 6: 601.573404\n",
      "Feature 7: 1228.217404\n",
      "Feature 8: 4589.365114\n",
      "Feature 10: 163.227871\n",
      "Feature 11: 148.545342\n",
      "Feature 16: 1473.694270\n",
      "Feature 17: 298.330340\n",
      "Feature 18: 228.841380\n",
      "Feature 19: 532.511613\n"
=======
      "Feature 0: 13.923331\n",
      "Feature 1: 156.656338\n",
      "Feature 2: 10.472532\n",
      "Feature 3: 886.750744\n",
      "Feature 4: 44.583778\n",
      "Feature 5: 3.023020\n",
      "Feature 6: 611.221041\n",
      "Feature 7: 1230.183885\n",
      "Feature 8: 4419.991956\n",
      "Feature 9: 28.005064\n",
      "Feature 10: 169.817457\n",
      "Feature 11: 158.063962\n",
      "Feature 12: 98.263204\n",
      "Feature 13: 85.534474\n",
      "Feature 14: 4.372503\n",
      "Feature 15: 17.051667\n",
      "Feature 16: 1485.578593\n",
      "Feature 17: 282.895674\n",
      "Feature 18: 230.428256\n",
      "Feature 19: 603.775531\n"
>>>>>>> 56da65d1571454645f7c77a7b0a709d80ecfc0a7
     ]
    }
   ],
   "source": [
<<<<<<< HEAD
    "#| echo: false\n",
=======
>>>>>>> 56da65d1571454645f7c77a7b0a709d80ecfc0a7
    "def select_features(X_train, y_train, X_test):\n",
    "    fs = SelectKBest(score_func=chi2, k='all')\n",
    "    fs.fit(X_train, y_train)\n",
    "    X_train_fs = fs.transform(X_train)\n",
    "    X_test_fs = fs.transform(X_test)\n",
    "    return X_train_fs, X_test_fs, fs\n",
    "X = encoded_data.drop('class', axis = 1)\n",
    "y = encoded_data['class']\n",
    "X_train, X_test, y_train, y_test = train_test_split(X, y, test_size=0.25)\n",
    "\n",
    "X_train_fs, X_test_fs, fs = select_features(X_train, y_train, X_test)\n",
<<<<<<< HEAD
    "# Choose the features with the highest Chi-square value because that means that the class is highly dependent on them.\n",
    "for i in range(len(fs.scores_)):\n",
    "    if fs.scores_[i] > 100:\n",
    "        print('Feature %d: %f' % (i, fs.scores_[i]))"
=======
    "\n",
    "for i in range(len(fs.scores_)):\n",
    "    print('Feature %d: %f' % (i, fs.scores_[i]))"
>>>>>>> 56da65d1571454645f7c77a7b0a709d80ecfc0a7
   ]
  },
  {
   "cell_type": "markdown",
   "metadata": {},
   "source": [
<<<<<<< HEAD
    "The selected features possess an importance score larger than 100 considering there is no rule of thumb for the deciding factor to follow here as long as they're the highest scores. The selected features are: `{cap_shape, cap_color, gill_attachment, gill_spacing, gill_size, stalk_shape, stalk_surface_above_ring,`\n",
    "`ring_number, ring_type, spore_print_color, population}`\n"
=======
    "#Here we will select features with higher importance score. So by looking at them we may select feature (1, 3, 6, 7, 8, 10, 11, 12, 17, 18, 19 and 20). \n",
    "Basically I have selected feature with importance score of more than 100,\n",
    "considering there is no rule that you have to do selection in this way only,\n",
    "it is completely on you what importance score you chose as a deciding factor, but one has to take the features with higher score.\n",
    "#They are:-\n",
    "\n",
    "#1 - \"cap-shape\"\n",
    "\n",
    "#3 - \"bruises\"\n",
    "\n",
    "#6 - \"gill-spacing\"\n",
    "\n",
    "#7 - \"gill-size\"\n",
    "\n",
    "#8 - \"gill-color\"\n",
    "\n",
    "#10 - \"stalk-root\"\n",
    "\n",
    "#11 - \"stalk-surface-above-ring\n",
    "\n",
    "#12 - \"stalk-surface-below-ring\"\n",
    "\n",
    "#17 - \"ring-type\"\n",
    "\n",
    "#18 - \"spore-print-color\"\n",
    "\n",
    "#19 - \"population\"\n",
    "\n",
    "#20 - \"habitat\""
>>>>>>> 56da65d1571454645f7c77a7b0a709d80ecfc0a7
   ]
  },
  {
   "cell_type": "code",
<<<<<<< HEAD
   "execution_count": 61,
=======
   "execution_count": 83,
>>>>>>> 56da65d1571454645f7c77a7b0a709d80ecfc0a7
   "metadata": {},
   "outputs": [
    {
     "name": "stdout",
     "output_type": "stream",
     "text": [
      "Confusion Matrix :\n",
<<<<<<< HEAD
      " [[1006   33]\n",
      " [  81  911]]\n",
=======
      " [[1006   43]\n",
      " [  96  886]]\n",
>>>>>>> 56da65d1571454645f7c77a7b0a709d80ecfc0a7
      "\n",
      "Classification Report :\n",
      "               precision    recall  f1-score   support\n",
      "\n",
<<<<<<< HEAD
      "           0       0.93      0.97      0.95      1039\n",
      "           1       0.97      0.92      0.94       992\n",
      "\n",
      "    accuracy                           0.94      2031\n",
      "   macro avg       0.95      0.94      0.94      2031\n",
      "weighted avg       0.94      0.94      0.94      2031\n",
=======
      "           0       0.91      0.96      0.94      1049\n",
      "           1       0.95      0.90      0.93       982\n",
      "\n",
      "    accuracy                           0.93      2031\n",
      "   macro avg       0.93      0.93      0.93      2031\n",
      "weighted avg       0.93      0.93      0.93      2031\n",
>>>>>>> 56da65d1571454645f7c77a7b0a709d80ecfc0a7
      "\n"
     ]
    }
   ],
   "source": [
<<<<<<< HEAD
    "#| echo: false\n",
    "X = encoded_data[['cap_shape', 'cap_color', 'gill_attachment', 'gill_spacing', 'gill_size', 'stalk_shape', 'stalk_surface_above_ring', 'ring_number', 'ring_type', 'spore_print_color', 'population']]\n",
=======
    "\n",
    "X = encoded_data[['cap_shape', 'bruises', 'gill_spacing', 'gill_size', 'gill_color', 'stalk_surface_above_ring', 'stalk_surface_below_ring','ring_type', 'spore_print_color','population','habitat']]\n",
>>>>>>> 56da65d1571454645f7c77a7b0a709d80ecfc0a7
    "y = encoded_data['class']\n",
    "X_train, X_test, y_train, y_test = train_test_split(X, y, test_size=0.25)\n",
    "\n",
    "# Logistic Regression\n",
    "\n",
<<<<<<< HEAD
    "lr = LogisticRegression()\n",
=======
    "\n",
    "lr = LogisticRegression(max_iter=500)\n",
>>>>>>> 56da65d1571454645f7c77a7b0a709d80ecfc0a7
    "\n",
    "# training & prediction\n",
    "lr.fit(ss.fit_transform(X_train), y_train)\n",
    "lr_pred = lr.predict(ss.fit_transform(X_test))\n",
    "\n",
    "# evaluation\n",
    "print('Confusion Matrix :\\n', confusion_matrix(y_test, lr_pred))\n",
    "print()\n",
    "print('Classification Report :\\n', classification_report(y_test, lr_pred))"
   ]
  },
  {
   "cell_type": "markdown",
   "metadata": {},
   "source": [
<<<<<<< HEAD
    "The `Chi Square` test results don't improve the performance of the model, `LASSO` is still the best so far. "
   ]
  },
  {
   "cell_type": "markdown",
   "metadata": {},
   "source": [
    "### Principal Component Analysis (PCA)\n",
    "Principal Component Analysis (PCA) algorithm is used to compress a dataset onto a lower-dimensional feature subspace with the goal of maintaining most of the relevant information."
   ]
  },
  {
   "cell_type": "code",
   "execution_count": 76,
   "metadata": {},
   "outputs": [
    {
     "name": "stdout",
     "output_type": "stream",
     "text": [
      "Confusion Matrix :\n",
      " [[1011   53]\n",
      " [ 138  829]]\n",
      "\n",
      "Classification Report :\n",
      "               precision    recall  f1-score   support\n",
      "\n",
      "           0       0.88      0.95      0.91      1064\n",
      "           1       0.94      0.86      0.90       967\n",
      "\n",
      "    accuracy                           0.91      2031\n",
      "   macro avg       0.91      0.90      0.91      2031\n",
      "weighted avg       0.91      0.91      0.91      2031\n",
      "\n"
     ]
    }
   ],
   "source": [
    "#| echo: false\n",
    "# intialize pca model\n",
    "pca = PCA(n_components=10)\n",
    "\n",
    "X = scaled_data\n",
    "y = encoded_data['class']\n",
    "\n",
    "X_train, X_test, y_train, y_test = train_test_split(X, y, test_size=0.25)\n",
    "\n",
    "# fit and transform data\n",
    "X_train_pca = pca.fit_transform(X_train)\n",
    "X_test_pca = pca.transform(X_test)\n",
    "\n",
    "lr = LogisticRegression()\n",
    "lr.fit(X_train_pca, y_train)\n",
    "lr_pred = lr.predict(X_test_pca)\n",
    "\n",
    "# evaluation\n",
    "print('Confusion Matrix :\\n', confusion_matrix(y_test, lr_pred))\n",
    "print()\n",
    "print('Classification Report :\\n', classification_report(y_test, lr_pred))\n"
   ]
  },
  {
   "cell_type": "markdown",
   "metadata": {},
   "source": [
    "Here, 10 components were found to be the optimal number of components used to get the highest accuracy, however, the model is not improved.\n",
    "\n",
    "We can conclude that `LASSO` has given the best results among the feature selection/dimensionality reduction techniques in this project, therefore, we'll be using it with our chosen model in the next section."
   ]
  },
  {
   "cell_type": "markdown",
   "metadata": {},
   "source": [
    "## Modelling"
=======
    "This model is better with the negative class which is opposite to the variance thresholding. We'll discard it. "
>>>>>>> 56da65d1571454645f7c77a7b0a709d80ecfc0a7
   ]
  },
  {
   "cell_type": "code",
   "execution_count": null,
   "metadata": {},
   "outputs": [],
   "source": []
  },
  {
<<<<<<< HEAD
=======
   "cell_type": "markdown",
   "metadata": {},
   "source": [
    "## Modelling"
   ]
  },
  {
>>>>>>> 56da65d1571454645f7c77a7b0a709d80ecfc0a7
   "cell_type": "code",
   "execution_count": null,
   "metadata": {},
   "outputs": [],
   "source": []
  },
  {
   "cell_type": "code",
   "execution_count": null,
   "metadata": {},
   "outputs": [],
   "source": []
  },
  {
   "cell_type": "code",
   "execution_count": null,
   "metadata": {},
   "outputs": [],
   "source": []
  },
  {
   "cell_type": "markdown",
   "metadata": {},
   "source": [
    "## Conclusions"
   ]
  },
  {
   "cell_type": "code",
   "execution_count": null,
   "metadata": {},
   "outputs": [],
   "source": []
  },
  {
   "cell_type": "code",
   "execution_count": null,
   "metadata": {},
   "outputs": [],
   "source": []
  },
  {
   "cell_type": "code",
   "execution_count": null,
   "metadata": {},
   "outputs": [],
   "source": []
  }
 ],
 "metadata": {
  "kernelspec": {
<<<<<<< HEAD
   "display_name": "Python 3.6.5 64-bit",
=======
   "display_name": "Python 3.9.6 64-bit",
>>>>>>> 56da65d1571454645f7c77a7b0a709d80ecfc0a7
   "language": "python",
   "name": "python3"
  },
  "language_info": {
   "codemirror_mode": {
    "name": "ipython",
    "version": 3
   },
   "file_extension": ".py",
   "mimetype": "text/x-python",
   "name": "python",
   "nbconvert_exporter": "python",
   "pygments_lexer": "ipython3",
<<<<<<< HEAD
   "version": "3.6.5"
=======
   "version": "3.9.6"
>>>>>>> 56da65d1571454645f7c77a7b0a709d80ecfc0a7
  },
  "orig_nbformat": 4,
  "vscode": {
   "interpreter": {
    "hash": "aee8b7b246df8f9039afb4144a1f6fd8d2ca17a180786b69acc140d282b71a49"
   }
  }
 },
 "nbformat": 4,
 "nbformat_minor": 2
}
